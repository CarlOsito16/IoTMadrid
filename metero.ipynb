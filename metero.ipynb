{
 "cells": [
  {
   "cell_type": "code",
   "execution_count": 81,
   "metadata": {},
   "outputs": [],
   "source": [
    "import numpy as np\n",
    "import pandas as pd\n",
    "import matplotlib.pyplot as plt\n",
    "import seaborn as sns\n",
    "\n",
    "from shapely.geometry import Point\n",
    "import geopandas as gpd\n",
    "from geopandas import GeoDataFrame\n",
    "\n",
    "import plotly.express as px\n",
    "import plotly.graph_objects as go\n",
    "\n",
    "from geopy.distance import geodesic as GD\n",
    "\n",
    "import haversine as hs\n",
    "from haversine import Unit\n",
    "\n",
    "\n",
    "from functions import clean_meteor_data"
   ]
  },
  {
   "cell_type": "code",
   "execution_count": 82,
   "metadata": {},
   "outputs": [
    {
     "data": {
      "text/html": [
       "<div>\n",
       "<style scoped>\n",
       "    .dataframe tbody tr th:only-of-type {\n",
       "        vertical-align: middle;\n",
       "    }\n",
       "\n",
       "    .dataframe tbody tr th {\n",
       "        vertical-align: top;\n",
       "    }\n",
       "\n",
       "    .dataframe thead th {\n",
       "        text-align: right;\n",
       "    }\n",
       "</style>\n",
       "<table border=\"1\" class=\"dataframe\">\n",
       "  <thead>\n",
       "    <tr style=\"text-align: right;\">\n",
       "      <th></th>\n",
       "      <th>CÓDIGO</th>\n",
       "      <th>CÓDIGO_CORTO</th>\n",
       "      <th>ESTACIÓN</th>\n",
       "      <th>DIRECCION</th>\n",
       "      <th>LONGITUD_ETRS89</th>\n",
       "      <th>LATITUD_ETRS89</th>\n",
       "      <th>ALTITUD</th>\n",
       "      <th>VV (81)</th>\n",
       "      <th>DV (82)</th>\n",
       "      <th>T (83)</th>\n",
       "      <th>...</th>\n",
       "      <th>COD_VIA</th>\n",
       "      <th>VIA_CLASE</th>\n",
       "      <th>VIA_PAR</th>\n",
       "      <th>VIA_NOMBRE</th>\n",
       "      <th>NUM_VIA</th>\n",
       "      <th>COORDENADA_X_ETRS89</th>\n",
       "      <th>COORDENADA_Y_ETRS89</th>\n",
       "      <th>LONGITUD</th>\n",
       "      <th>LATITUD</th>\n",
       "      <th>Unnamed: 23</th>\n",
       "    </tr>\n",
       "  </thead>\n",
       "  <tbody>\n",
       "    <tr>\n",
       "      <th>0</th>\n",
       "      <td>28079004.0</td>\n",
       "      <td>4.0</td>\n",
       "      <td>Plaza España</td>\n",
       "      <td>Plaza de España</td>\n",
       "      <td>3°42'43.91\"O</td>\n",
       "      <td>40°25'25.98\"N</td>\n",
       "      <td>637.0</td>\n",
       "      <td>NaN</td>\n",
       "      <td>NaN</td>\n",
       "      <td>X</td>\n",
       "      <td>...</td>\n",
       "      <td>273600.0</td>\n",
       "      <td>PLAZA</td>\n",
       "      <td>DE</td>\n",
       "      <td>ESPAÑA</td>\n",
       "      <td>NaN</td>\n",
       "      <td>439579,3291</td>\n",
       "      <td>4475049,263</td>\n",
       "      <td>-3.712257</td>\n",
       "      <td>40.423882</td>\n",
       "      <td>NaN</td>\n",
       "    </tr>\n",
       "    <tr>\n",
       "      <th>1</th>\n",
       "      <td>28079008.0</td>\n",
       "      <td>8.0</td>\n",
       "      <td>Escuelas Aguirre</td>\n",
       "      <td>Entre C/ Alcalá y C/ O Donell</td>\n",
       "      <td>3°40'56.22\"O</td>\n",
       "      <td>40°25'17.63\"N</td>\n",
       "      <td>672.0</td>\n",
       "      <td>NaN</td>\n",
       "      <td>NaN</td>\n",
       "      <td>X</td>\n",
       "      <td>...</td>\n",
       "      <td>18900.0</td>\n",
       "      <td>CALLE</td>\n",
       "      <td>DE</td>\n",
       "      <td>ALCALA</td>\n",
       "      <td>NaN</td>\n",
       "      <td>442117,2366</td>\n",
       "      <td>4474770,696</td>\n",
       "      <td>-3.682316</td>\n",
       "      <td>40.421553</td>\n",
       "      <td>NaN</td>\n",
       "    </tr>\n",
       "    <tr>\n",
       "      <th>2</th>\n",
       "      <td>28079016.0</td>\n",
       "      <td>16.0</td>\n",
       "      <td>Arturo Soria</td>\n",
       "      <td>C/ Arturo Soria  esq. C/  Vizconde de los Asilos</td>\n",
       "      <td>3°38'21.17\"O</td>\n",
       "      <td>40°26'24.20\"N</td>\n",
       "      <td>695.0</td>\n",
       "      <td>NaN</td>\n",
       "      <td>NaN</td>\n",
       "      <td>X</td>\n",
       "      <td>...</td>\n",
       "      <td>798700.0</td>\n",
       "      <td>CALLE</td>\n",
       "      <td>DEL</td>\n",
       "      <td>VIZCONDE DE LOS ASILOS</td>\n",
       "      <td>NaN</td>\n",
       "      <td>445786,1729</td>\n",
       "      <td>4476796,019</td>\n",
       "      <td>-3.639242</td>\n",
       "      <td>40.440046</td>\n",
       "      <td>NaN</td>\n",
       "    </tr>\n",
       "    <tr>\n",
       "      <th>3</th>\n",
       "      <td>28079018.0</td>\n",
       "      <td>18.0</td>\n",
       "      <td>Farolillo</td>\n",
       "      <td>Calle Farolillo - C/Ervigio</td>\n",
       "      <td>3°43'54.61\"O</td>\n",
       "      <td>40°23'41.22\"N</td>\n",
       "      <td>632.0</td>\n",
       "      <td>NaN</td>\n",
       "      <td>NaN</td>\n",
       "      <td>X</td>\n",
       "      <td>...</td>\n",
       "      <td>1903.0</td>\n",
       "      <td>CALLE</td>\n",
       "      <td>DEL</td>\n",
       "      <td>FAROLILLO</td>\n",
       "      <td>NaN</td>\n",
       "      <td>437891,6961</td>\n",
       "      <td>4471832,769</td>\n",
       "      <td>-3.731836</td>\n",
       "      <td>40.394782</td>\n",
       "      <td>NaN</td>\n",
       "    </tr>\n",
       "    <tr>\n",
       "      <th>4</th>\n",
       "      <td>28079024.0</td>\n",
       "      <td>24.0</td>\n",
       "      <td>Casa de Campo</td>\n",
       "      <td>Casa de Campo  (Terminal del Teleférico)</td>\n",
       "      <td>3°44'50.44\"O</td>\n",
       "      <td>40°25'9.69\"N</td>\n",
       "      <td>646.0</td>\n",
       "      <td>X</td>\n",
       "      <td>X</td>\n",
       "      <td>X</td>\n",
       "      <td>...</td>\n",
       "      <td>905219.0</td>\n",
       "      <td>CARRETERA</td>\n",
       "      <td>DEL</td>\n",
       "      <td>TELEFERICO</td>\n",
       "      <td>NaN</td>\n",
       "      <td>436598,5637</td>\n",
       "      <td>4474571,618</td>\n",
       "      <td>-3.747345</td>\n",
       "      <td>40.419358</td>\n",
       "      <td>NaN</td>\n",
       "    </tr>\n",
       "  </tbody>\n",
       "</table>\n",
       "<p>5 rows × 24 columns</p>\n",
       "</div>"
      ],
      "text/plain": [
       "       CÓDIGO  CÓDIGO_CORTO          ESTACIÓN  \\\n",
       "0  28079004.0           4.0      Plaza España   \n",
       "1  28079008.0           8.0  Escuelas Aguirre   \n",
       "2  28079016.0          16.0      Arturo Soria   \n",
       "3  28079018.0          18.0         Farolillo   \n",
       "4  28079024.0          24.0     Casa de Campo   \n",
       "\n",
       "                                           DIRECCION LONGITUD_ETRS89  \\\n",
       "0                                    Plaza de España    3°42'43.91\"O   \n",
       "1                    Entre C/ Alcalá y C/ O Donell     3°40'56.22\"O   \n",
       "2  C/ Arturo Soria  esq. C/  Vizconde de los Asilos     3°38'21.17\"O   \n",
       "3                        Calle Farolillo - C/Ervigio    3°43'54.61\"O   \n",
       "4           Casa de Campo  (Terminal del Teleférico)    3°44'50.44\"O   \n",
       "\n",
       "  LATITUD_ETRS89  ALTITUD VV (81) DV (82) T (83)  ...   COD_VIA  VIA_CLASE  \\\n",
       "0  40°25'25.98\"N    637.0     NaN     NaN      X  ...  273600.0      PLAZA   \n",
       "1  40°25'17.63\"N    672.0     NaN     NaN      X  ...   18900.0      CALLE   \n",
       "2  40°26'24.20\"N    695.0     NaN     NaN      X  ...  798700.0      CALLE   \n",
       "3  40°23'41.22\"N    632.0     NaN     NaN      X  ...    1903.0      CALLE   \n",
       "4   40°25'9.69\"N    646.0       X       X      X  ...  905219.0  CARRETERA   \n",
       "\n",
       "  VIA_PAR              VIA_NOMBRE  NUM_VIA COORDENADA_X_ETRS89  \\\n",
       "0      DE                  ESPAÑA      NaN         439579,3291   \n",
       "1      DE                  ALCALA      NaN         442117,2366   \n",
       "2     DEL  VIZCONDE DE LOS ASILOS      NaN         445786,1729   \n",
       "3     DEL               FAROLILLO      NaN         437891,6961   \n",
       "4     DEL              TELEFERICO      NaN         436598,5637   \n",
       "\n",
       "  COORDENADA_Y_ETRS89  LONGITUD    LATITUD Unnamed: 23  \n",
       "0         4475049,263 -3.712257  40.423882         NaN  \n",
       "1         4474770,696 -3.682316  40.421553         NaN  \n",
       "2         4476796,019 -3.639242  40.440046         NaN  \n",
       "3         4471832,769 -3.731836  40.394782         NaN  \n",
       "4         4474571,618 -3.747345  40.419358         NaN  \n",
       "\n",
       "[5 rows x 24 columns]"
      ]
     },
     "execution_count": 82,
     "metadata": {},
     "output_type": "execute_result"
    }
   ],
   "source": [
    "MATEOR_STATION_PATH = '/Users/carlosito/Library/CloudStorage/OneDrive-Personal/AIT material/DANIclass/2-Iot/Project/Madrid/meteo/300360-1-meteorologicos-estaciones.csv'\n",
    "meteor_station_df = pd.read_csv(MATEOR_STATION_PATH,sep=\";\", encoding='latin-1')\n",
    "meteor_station_df.head()"
   ]
  },
  {
   "cell_type": "code",
   "execution_count": 83,
   "metadata": {},
   "outputs": [
    {
     "data": {
      "text/plain": [
       "(36, 24)"
      ]
     },
     "execution_count": 83,
     "metadata": {},
     "output_type": "execute_result"
    }
   ],
   "source": [
    "meteor_station_df.shape"
   ]
  },
  {
   "cell_type": "code",
   "execution_count": 84,
   "metadata": {},
   "outputs": [],
   "source": [
    "selected_meteorlogical_factors = ['VV (81)', 'T (83)', 'RS (88)', 'P (89)']"
   ]
  },
  {
   "cell_type": "markdown",
   "metadata": {},
   "source": [
    "To return only the meteorlogical stations with all the selected columns"
   ]
  },
  {
   "cell_type": "code",
   "execution_count": 85,
   "metadata": {},
   "outputs": [
    {
     "data": {
      "text/plain": [
       "0     False\n",
       "1     False\n",
       "2     False\n",
       "3     False\n",
       "4      True\n",
       "5     False\n",
       "6     False\n",
       "7     False\n",
       "8     False\n",
       "9      True\n",
       "10    False\n",
       "11    False\n",
       "12     True\n",
       "13     True\n",
       "14     True\n",
       "15    False\n",
       "16     True\n",
       "17     True\n",
       "18     True\n",
       "19    False\n",
       "20    False\n",
       "21    False\n",
       "22    False\n",
       "23    False\n",
       "24    False\n",
       "25    False\n",
       "26    False\n",
       "27    False\n",
       "28    False\n",
       "29    False\n",
       "30    False\n",
       "31    False\n",
       "32    False\n",
       "33    False\n",
       "34    False\n",
       "35    False\n",
       "dtype: bool"
      ]
     },
     "execution_count": 85,
     "metadata": {},
     "output_type": "execute_result"
    }
   ],
   "source": [
    "meteor_station_df[selected_meteorlogical_factors].notnull().all(axis=1)"
   ]
  },
  {
   "cell_type": "code",
   "execution_count": 24,
   "metadata": {},
   "outputs": [
    {
     "data": {
      "text/html": [
       "<div>\n",
       "<style scoped>\n",
       "    .dataframe tbody tr th:only-of-type {\n",
       "        vertical-align: middle;\n",
       "    }\n",
       "\n",
       "    .dataframe tbody tr th {\n",
       "        vertical-align: top;\n",
       "    }\n",
       "\n",
       "    .dataframe thead th {\n",
       "        text-align: right;\n",
       "    }\n",
       "</style>\n",
       "<table border=\"1\" class=\"dataframe\">\n",
       "  <thead>\n",
       "    <tr style=\"text-align: right;\">\n",
       "      <th></th>\n",
       "      <th>CÓDIGO</th>\n",
       "      <th>CÓDIGO_CORTO</th>\n",
       "      <th>ESTACIÓN</th>\n",
       "      <th>DIRECCION</th>\n",
       "      <th>LONGITUD_ETRS89</th>\n",
       "      <th>LATITUD_ETRS89</th>\n",
       "      <th>ALTITUD</th>\n",
       "      <th>VV (81)</th>\n",
       "      <th>DV (82)</th>\n",
       "      <th>T (83)</th>\n",
       "      <th>...</th>\n",
       "      <th>COD_VIA</th>\n",
       "      <th>VIA_CLASE</th>\n",
       "      <th>VIA_PAR</th>\n",
       "      <th>VIA_NOMBRE</th>\n",
       "      <th>NUM_VIA</th>\n",
       "      <th>COORDENADA_X_ETRS89</th>\n",
       "      <th>COORDENADA_Y_ETRS89</th>\n",
       "      <th>LONGITUD</th>\n",
       "      <th>LATITUD</th>\n",
       "      <th>Unnamed: 23</th>\n",
       "    </tr>\n",
       "  </thead>\n",
       "  <tbody>\n",
       "    <tr>\n",
       "      <th>4</th>\n",
       "      <td>28079024.0</td>\n",
       "      <td>24.0</td>\n",
       "      <td>Casa de Campo</td>\n",
       "      <td>Casa de Campo  (Terminal del Teleférico)</td>\n",
       "      <td>3°44'50.44\"O</td>\n",
       "      <td>40°25'9.69\"N</td>\n",
       "      <td>646.0</td>\n",
       "      <td>X</td>\n",
       "      <td>X</td>\n",
       "      <td>X</td>\n",
       "      <td>...</td>\n",
       "      <td>905219.0</td>\n",
       "      <td>CARRETERA</td>\n",
       "      <td>DEL</td>\n",
       "      <td>TELEFERICO</td>\n",
       "      <td>NaN</td>\n",
       "      <td>436598,5637</td>\n",
       "      <td>4474571,618</td>\n",
       "      <td>-3.747345</td>\n",
       "      <td>40.419358</td>\n",
       "      <td>NaN</td>\n",
       "    </tr>\n",
       "    <tr>\n",
       "      <th>9</th>\n",
       "      <td>28079054.0</td>\n",
       "      <td>54.0</td>\n",
       "      <td>Ensanche de Vallecas</td>\n",
       "      <td>Avda La Gavia / Avda. Las Suertes</td>\n",
       "      <td>3°36'43.70\"O</td>\n",
       "      <td>40°22'22.84\"N</td>\n",
       "      <td>629.0</td>\n",
       "      <td>X</td>\n",
       "      <td>X</td>\n",
       "      <td>X</td>\n",
       "      <td>...</td>\n",
       "      <td>31000516.0</td>\n",
       "      <td>AVENIDA</td>\n",
       "      <td>DE</td>\n",
       "      <td>LA GAVIA</td>\n",
       "      <td>NaN</td>\n",
       "      <td>448033,2263</td>\n",
       "      <td>4469339,044</td>\n",
       "      <td>-3.612139</td>\n",
       "      <td>40.373012</td>\n",
       "      <td>NaN</td>\n",
       "    </tr>\n",
       "    <tr>\n",
       "      <th>12</th>\n",
       "      <td>28079059.0</td>\n",
       "      <td>59.0</td>\n",
       "      <td>Juan Carlos I</td>\n",
       "      <td>Parque Juan Carlos I (frente oficinas mantenim...</td>\n",
       "      <td>3º 36' 33\"O</td>\n",
       "      <td>40º 27' 55''N</td>\n",
       "      <td>660.0</td>\n",
       "      <td>X</td>\n",
       "      <td>X</td>\n",
       "      <td>X</td>\n",
       "      <td>...</td>\n",
       "      <td>NaN</td>\n",
       "      <td>PARQUE</td>\n",
       "      <td>NaN</td>\n",
       "      <td>JUAN CARLOS I</td>\n",
       "      <td>NaN</td>\n",
       "      <td>447744,4666</td>\n",
       "      <td>4479077,678</td>\n",
       "      <td>-3.616341</td>\n",
       "      <td>40.460726</td>\n",
       "      <td>NaN</td>\n",
       "    </tr>\n",
       "    <tr>\n",
       "      <th>13</th>\n",
       "      <td>28079102.0</td>\n",
       "      <td>102.0</td>\n",
       "      <td>J.M.D. Moratalaz</td>\n",
       "      <td>C/ Fuente Carantona, 8</td>\n",
       "      <td>3º 38' 13'' O</td>\n",
       "      <td>40º 23' 55'' N</td>\n",
       "      <td>687.0</td>\n",
       "      <td>X</td>\n",
       "      <td>X</td>\n",
       "      <td>X</td>\n",
       "      <td>...</td>\n",
       "      <td>315060.0</td>\n",
       "      <td>CALLE</td>\n",
       "      <td>DE LA</td>\n",
       "      <td>FUENTE CARRANTONA</td>\n",
       "      <td>8</td>\n",
       "      <td>445947,89</td>\n",
       "      <td>4472195,4</td>\n",
       "      <td>-3.635637</td>\n",
       "      <td>40.399793</td>\n",
       "      <td>NaN</td>\n",
       "    </tr>\n",
       "    <tr>\n",
       "      <th>14</th>\n",
       "      <td>28079103.0</td>\n",
       "      <td>103.0</td>\n",
       "      <td>J.M.D. Villaverde</td>\n",
       "      <td>C/ Arroyo Bueno, 53</td>\n",
       "      <td>3º 42' 39'' O</td>\n",
       "      <td>40º 20' 58'' N</td>\n",
       "      <td>594.0</td>\n",
       "      <td>X</td>\n",
       "      <td>X</td>\n",
       "      <td>X</td>\n",
       "      <td>...</td>\n",
       "      <td>74200.0</td>\n",
       "      <td>CALLE</td>\n",
       "      <td>DEL</td>\n",
       "      <td>ARROYO BUENO</td>\n",
       "      <td>53</td>\n",
       "      <td>439633,65</td>\n",
       "      <td>4466785,76</td>\n",
       "      <td>-3.709525</td>\n",
       "      <td>40.350628</td>\n",
       "      <td>NaN</td>\n",
       "    </tr>\n",
       "    <tr>\n",
       "      <th>16</th>\n",
       "      <td>28079106.0</td>\n",
       "      <td>106.0</td>\n",
       "      <td>Centro Mpal. De Acústica</td>\n",
       "      <td>Autovía M-30 Km. 21.700</td>\n",
       "      <td>3º 44' 24'' O</td>\n",
       "      <td>40º 26' 32'' N</td>\n",
       "      <td>587.0</td>\n",
       "      <td>X</td>\n",
       "      <td>X</td>\n",
       "      <td>X</td>\n",
       "      <td>...</td>\n",
       "      <td>31001349.0</td>\n",
       "      <td>AUTOVÍA</td>\n",
       "      <td>NaN</td>\n",
       "      <td>M-30</td>\n",
       "      <td>21,7</td>\n",
       "      <td>437130,68</td>\n",
       "      <td>4476974,19</td>\n",
       "      <td>-3.740000</td>\n",
       "      <td>40.442222</td>\n",
       "      <td>NaN</td>\n",
       "    </tr>\n",
       "    <tr>\n",
       "      <th>17</th>\n",
       "      <td>28079107.0</td>\n",
       "      <td>107.0</td>\n",
       "      <td>J.M.D. Hortaleza</td>\n",
       "      <td>Ctra. de Canillas, 2</td>\n",
       "      <td>3º 39' 24'' O</td>\n",
       "      <td>40º 27' 46'' N</td>\n",
       "      <td>715.0</td>\n",
       "      <td>X</td>\n",
       "      <td>X</td>\n",
       "      <td>X</td>\n",
       "      <td>...</td>\n",
       "      <td>133455.0</td>\n",
       "      <td>CARRETERA</td>\n",
       "      <td>DE</td>\n",
       "      <td>CANILLAS</td>\n",
       "      <td>2</td>\n",
       "      <td>444215,2</td>\n",
       "      <td>4479200,02</td>\n",
       "      <td>-3.656667</td>\n",
       "      <td>40.462778</td>\n",
       "      <td>NaN</td>\n",
       "    </tr>\n",
       "    <tr>\n",
       "      <th>18</th>\n",
       "      <td>28079108.0</td>\n",
       "      <td>108.0</td>\n",
       "      <td>Peñagrande</td>\n",
       "      <td>C.D.M. Peñagrande</td>\n",
       "      <td>3°43'4.37\"O</td>\n",
       "      <td>40°28'35.88\"N</td>\n",
       "      <td>660.0</td>\n",
       "      <td>X</td>\n",
       "      <td>X</td>\n",
       "      <td>X</td>\n",
       "      <td>...</td>\n",
       "      <td>514425.0</td>\n",
       "      <td>AVENIDA</td>\n",
       "      <td>DE</td>\n",
       "      <td>MONFORTE DE LEMOS</td>\n",
       "      <td>184</td>\n",
       "      <td>439037,69</td>\n",
       "      <td>4480778,49</td>\n",
       "      <td>-3.717881</td>\n",
       "      <td>40.476633</td>\n",
       "      <td>NaN</td>\n",
       "    </tr>\n",
       "  </tbody>\n",
       "</table>\n",
       "<p>8 rows × 24 columns</p>\n",
       "</div>"
      ],
      "text/plain": [
       "        CÓDIGO  CÓDIGO_CORTO                  ESTACIÓN  \\\n",
       "4   28079024.0          24.0             Casa de Campo   \n",
       "9   28079054.0          54.0      Ensanche de Vallecas   \n",
       "12  28079059.0          59.0             Juan Carlos I   \n",
       "13  28079102.0         102.0          J.M.D. Moratalaz   \n",
       "14  28079103.0         103.0         J.M.D. Villaverde   \n",
       "16  28079106.0         106.0  Centro Mpal. De Acústica   \n",
       "17  28079107.0         107.0          J.M.D. Hortaleza   \n",
       "18  28079108.0         108.0                Peñagrande   \n",
       "\n",
       "                                            DIRECCION LONGITUD_ETRS89  \\\n",
       "4            Casa de Campo  (Terminal del Teleférico)    3°44'50.44\"O   \n",
       "9                   Avda La Gavia / Avda. Las Suertes    3°36'43.70\"O   \n",
       "12  Parque Juan Carlos I (frente oficinas mantenim...     3º 36' 33\"O   \n",
       "13                             C/ Fuente Carantona, 8   3º 38' 13'' O   \n",
       "14                                C/ Arroyo Bueno, 53   3º 42' 39'' O   \n",
       "16                            Autovía M-30 Km. 21.700   3º 44' 24'' O   \n",
       "17                               Ctra. de Canillas, 2   3º 39' 24'' O   \n",
       "18                                  C.D.M. Peñagrande     3°43'4.37\"O   \n",
       "\n",
       "    LATITUD_ETRS89  ALTITUD VV (81) DV (82) T (83)  ...     COD_VIA  \\\n",
       "4     40°25'9.69\"N    646.0       X       X      X  ...    905219.0   \n",
       "9    40°22'22.84\"N    629.0       X       X      X  ...  31000516.0   \n",
       "12   40º 27' 55''N    660.0       X       X      X  ...         NaN   \n",
       "13  40º 23' 55'' N    687.0       X       X      X  ...    315060.0   \n",
       "14  40º 20' 58'' N    594.0       X       X      X  ...     74200.0   \n",
       "16  40º 26' 32'' N    587.0       X       X      X  ...  31001349.0   \n",
       "17  40º 27' 46'' N    715.0       X       X      X  ...    133455.0   \n",
       "18   40°28'35.88\"N    660.0       X       X      X  ...    514425.0   \n",
       "\n",
       "    VIA_CLASE VIA_PAR         VIA_NOMBRE  NUM_VIA COORDENADA_X_ETRS89  \\\n",
       "4   CARRETERA     DEL         TELEFERICO      NaN         436598,5637   \n",
       "9     AVENIDA      DE           LA GAVIA      NaN         448033,2263   \n",
       "12     PARQUE     NaN      JUAN CARLOS I      NaN         447744,4666   \n",
       "13      CALLE   DE LA  FUENTE CARRANTONA        8           445947,89   \n",
       "14      CALLE     DEL       ARROYO BUENO       53           439633,65   \n",
       "16    AUTOVÍA     NaN               M-30     21,7           437130,68   \n",
       "17  CARRETERA      DE           CANILLAS        2            444215,2   \n",
       "18    AVENIDA      DE  MONFORTE DE LEMOS      184           439037,69   \n",
       "\n",
       "   COORDENADA_Y_ETRS89  LONGITUD    LATITUD Unnamed: 23  \n",
       "4          4474571,618 -3.747345  40.419358         NaN  \n",
       "9          4469339,044 -3.612139  40.373012         NaN  \n",
       "12         4479077,678 -3.616341  40.460726         NaN  \n",
       "13           4472195,4 -3.635637  40.399793         NaN  \n",
       "14          4466785,76 -3.709525  40.350628         NaN  \n",
       "16          4476974,19 -3.740000  40.442222         NaN  \n",
       "17          4479200,02 -3.656667  40.462778         NaN  \n",
       "18          4480778,49 -3.717881  40.476633         NaN  \n",
       "\n",
       "[8 rows x 24 columns]"
      ]
     },
     "execution_count": 24,
     "metadata": {},
     "output_type": "execute_result"
    }
   ],
   "source": [
    "meteor_station_df[meteor_station_df[selected_meteorlogical_factors].notnull().all(axis=1)]"
   ]
  },
  {
   "cell_type": "code",
   "execution_count": 25,
   "metadata": {},
   "outputs": [
    {
     "data": {
      "text/plain": [
       "4                Casa de Campo\n",
       "9         Ensanche de Vallecas\n",
       "12               Juan Carlos I\n",
       "13            J.M.D. Moratalaz\n",
       "14           J.M.D. Villaverde\n",
       "16    Centro Mpal. De Acústica\n",
       "17            J.M.D. Hortaleza\n",
       "18                  Peñagrande\n",
       "Name: ESTACIÓN, dtype: object"
      ]
     },
     "execution_count": 25,
     "metadata": {},
     "output_type": "execute_result"
    }
   ],
   "source": [
    "meteor_station_df[meteor_station_df[selected_meteorlogical_factors].notnull().all(axis=1)].ESTACIÓN"
   ]
  },
  {
   "cell_type": "code",
   "execution_count": 86,
   "metadata": {},
   "outputs": [
    {
     "data": {
      "text/html": [
       "<div>\n",
       "<style scoped>\n",
       "    .dataframe tbody tr th:only-of-type {\n",
       "        vertical-align: middle;\n",
       "    }\n",
       "\n",
       "    .dataframe tbody tr th {\n",
       "        vertical-align: top;\n",
       "    }\n",
       "\n",
       "    .dataframe thead th {\n",
       "        text-align: right;\n",
       "    }\n",
       "</style>\n",
       "<table border=\"1\" class=\"dataframe\">\n",
       "  <thead>\n",
       "    <tr style=\"text-align: right;\">\n",
       "      <th></th>\n",
       "      <th>CÓDIGO</th>\n",
       "      <th>CÓDIGO_CORTO</th>\n",
       "      <th>ESTACIÓN</th>\n",
       "      <th>DIRECCION</th>\n",
       "      <th>LONGITUD_ETRS89</th>\n",
       "      <th>LATITUD_ETRS89</th>\n",
       "      <th>ALTITUD</th>\n",
       "      <th>VV (81)</th>\n",
       "      <th>DV (82)</th>\n",
       "      <th>T (83)</th>\n",
       "      <th>...</th>\n",
       "      <th>COD_VIA</th>\n",
       "      <th>VIA_CLASE</th>\n",
       "      <th>VIA_PAR</th>\n",
       "      <th>VIA_NOMBRE</th>\n",
       "      <th>NUM_VIA</th>\n",
       "      <th>COORDENADA_X_ETRS89</th>\n",
       "      <th>COORDENADA_Y_ETRS89</th>\n",
       "      <th>LONGITUD</th>\n",
       "      <th>LATITUD</th>\n",
       "      <th>Unnamed: 23</th>\n",
       "    </tr>\n",
       "  </thead>\n",
       "  <tbody>\n",
       "    <tr>\n",
       "      <th>4</th>\n",
       "      <td>28079024.0</td>\n",
       "      <td>24.0</td>\n",
       "      <td>Casa de Campo</td>\n",
       "      <td>Casa de Campo  (Terminal del Teleférico)</td>\n",
       "      <td>3°44'50.44\"O</td>\n",
       "      <td>40°25'9.69\"N</td>\n",
       "      <td>646.0</td>\n",
       "      <td>X</td>\n",
       "      <td>X</td>\n",
       "      <td>X</td>\n",
       "      <td>...</td>\n",
       "      <td>905219.0</td>\n",
       "      <td>CARRETERA</td>\n",
       "      <td>DEL</td>\n",
       "      <td>TELEFERICO</td>\n",
       "      <td>NaN</td>\n",
       "      <td>436598,5637</td>\n",
       "      <td>4474571,618</td>\n",
       "      <td>-3.747345</td>\n",
       "      <td>40.419358</td>\n",
       "      <td>NaN</td>\n",
       "    </tr>\n",
       "    <tr>\n",
       "      <th>9</th>\n",
       "      <td>28079054.0</td>\n",
       "      <td>54.0</td>\n",
       "      <td>Ensanche de Vallecas</td>\n",
       "      <td>Avda La Gavia / Avda. Las Suertes</td>\n",
       "      <td>3°36'43.70\"O</td>\n",
       "      <td>40°22'22.84\"N</td>\n",
       "      <td>629.0</td>\n",
       "      <td>X</td>\n",
       "      <td>X</td>\n",
       "      <td>X</td>\n",
       "      <td>...</td>\n",
       "      <td>31000516.0</td>\n",
       "      <td>AVENIDA</td>\n",
       "      <td>DE</td>\n",
       "      <td>LA GAVIA</td>\n",
       "      <td>NaN</td>\n",
       "      <td>448033,2263</td>\n",
       "      <td>4469339,044</td>\n",
       "      <td>-3.612139</td>\n",
       "      <td>40.373012</td>\n",
       "      <td>NaN</td>\n",
       "    </tr>\n",
       "    <tr>\n",
       "      <th>12</th>\n",
       "      <td>28079059.0</td>\n",
       "      <td>59.0</td>\n",
       "      <td>Juan Carlos I</td>\n",
       "      <td>Parque Juan Carlos I (frente oficinas mantenim...</td>\n",
       "      <td>3º 36' 33\"O</td>\n",
       "      <td>40º 27' 55''N</td>\n",
       "      <td>660.0</td>\n",
       "      <td>X</td>\n",
       "      <td>X</td>\n",
       "      <td>X</td>\n",
       "      <td>...</td>\n",
       "      <td>NaN</td>\n",
       "      <td>PARQUE</td>\n",
       "      <td>NaN</td>\n",
       "      <td>JUAN CARLOS I</td>\n",
       "      <td>NaN</td>\n",
       "      <td>447744,4666</td>\n",
       "      <td>4479077,678</td>\n",
       "      <td>-3.616341</td>\n",
       "      <td>40.460726</td>\n",
       "      <td>NaN</td>\n",
       "    </tr>\n",
       "    <tr>\n",
       "      <th>13</th>\n",
       "      <td>28079102.0</td>\n",
       "      <td>102.0</td>\n",
       "      <td>J.M.D. Moratalaz</td>\n",
       "      <td>C/ Fuente Carantona, 8</td>\n",
       "      <td>3º 38' 13'' O</td>\n",
       "      <td>40º 23' 55'' N</td>\n",
       "      <td>687.0</td>\n",
       "      <td>X</td>\n",
       "      <td>X</td>\n",
       "      <td>X</td>\n",
       "      <td>...</td>\n",
       "      <td>315060.0</td>\n",
       "      <td>CALLE</td>\n",
       "      <td>DE LA</td>\n",
       "      <td>FUENTE CARRANTONA</td>\n",
       "      <td>8</td>\n",
       "      <td>445947,89</td>\n",
       "      <td>4472195,4</td>\n",
       "      <td>-3.635637</td>\n",
       "      <td>40.399793</td>\n",
       "      <td>NaN</td>\n",
       "    </tr>\n",
       "    <tr>\n",
       "      <th>14</th>\n",
       "      <td>28079103.0</td>\n",
       "      <td>103.0</td>\n",
       "      <td>J.M.D. Villaverde</td>\n",
       "      <td>C/ Arroyo Bueno, 53</td>\n",
       "      <td>3º 42' 39'' O</td>\n",
       "      <td>40º 20' 58'' N</td>\n",
       "      <td>594.0</td>\n",
       "      <td>X</td>\n",
       "      <td>X</td>\n",
       "      <td>X</td>\n",
       "      <td>...</td>\n",
       "      <td>74200.0</td>\n",
       "      <td>CALLE</td>\n",
       "      <td>DEL</td>\n",
       "      <td>ARROYO BUENO</td>\n",
       "      <td>53</td>\n",
       "      <td>439633,65</td>\n",
       "      <td>4466785,76</td>\n",
       "      <td>-3.709525</td>\n",
       "      <td>40.350628</td>\n",
       "      <td>NaN</td>\n",
       "    </tr>\n",
       "  </tbody>\n",
       "</table>\n",
       "<p>5 rows × 24 columns</p>\n",
       "</div>"
      ],
      "text/plain": [
       "        CÓDIGO  CÓDIGO_CORTO              ESTACIÓN  \\\n",
       "4   28079024.0          24.0         Casa de Campo   \n",
       "9   28079054.0          54.0  Ensanche de Vallecas   \n",
       "12  28079059.0          59.0         Juan Carlos I   \n",
       "13  28079102.0         102.0      J.M.D. Moratalaz   \n",
       "14  28079103.0         103.0     J.M.D. Villaverde   \n",
       "\n",
       "                                            DIRECCION LONGITUD_ETRS89  \\\n",
       "4            Casa de Campo  (Terminal del Teleférico)    3°44'50.44\"O   \n",
       "9                   Avda La Gavia / Avda. Las Suertes    3°36'43.70\"O   \n",
       "12  Parque Juan Carlos I (frente oficinas mantenim...     3º 36' 33\"O   \n",
       "13                             C/ Fuente Carantona, 8   3º 38' 13'' O   \n",
       "14                                C/ Arroyo Bueno, 53   3º 42' 39'' O   \n",
       "\n",
       "    LATITUD_ETRS89  ALTITUD VV (81) DV (82) T (83)  ...     COD_VIA  \\\n",
       "4     40°25'9.69\"N    646.0       X       X      X  ...    905219.0   \n",
       "9    40°22'22.84\"N    629.0       X       X      X  ...  31000516.0   \n",
       "12   40º 27' 55''N    660.0       X       X      X  ...         NaN   \n",
       "13  40º 23' 55'' N    687.0       X       X      X  ...    315060.0   \n",
       "14  40º 20' 58'' N    594.0       X       X      X  ...     74200.0   \n",
       "\n",
       "    VIA_CLASE VIA_PAR         VIA_NOMBRE  NUM_VIA COORDENADA_X_ETRS89  \\\n",
       "4   CARRETERA     DEL         TELEFERICO      NaN         436598,5637   \n",
       "9     AVENIDA      DE           LA GAVIA      NaN         448033,2263   \n",
       "12     PARQUE     NaN      JUAN CARLOS I      NaN         447744,4666   \n",
       "13      CALLE   DE LA  FUENTE CARRANTONA        8           445947,89   \n",
       "14      CALLE     DEL       ARROYO BUENO       53           439633,65   \n",
       "\n",
       "   COORDENADA_Y_ETRS89  LONGITUD    LATITUD Unnamed: 23  \n",
       "4          4474571,618 -3.747345  40.419358         NaN  \n",
       "9          4469339,044 -3.612139  40.373012         NaN  \n",
       "12         4479077,678 -3.616341  40.460726         NaN  \n",
       "13           4472195,4 -3.635637  40.399793         NaN  \n",
       "14          4466785,76 -3.709525  40.350628         NaN  \n",
       "\n",
       "[5 rows x 24 columns]"
      ]
     },
     "execution_count": 86,
     "metadata": {},
     "output_type": "execute_result"
    }
   ],
   "source": [
    "selected_meteor_stations_df = meteor_station_df[meteor_station_df[selected_meteorlogical_factors].notnull().all(axis=1)]\n",
    "selected_meteor_stations_df.head()"
   ]
  },
  {
   "cell_type": "code",
   "execution_count": 87,
   "metadata": {},
   "outputs": [
    {
     "data": {
      "application/vnd.plotly.v1+json": {
       "config": {
        "plotlyServerURL": "https://plot.ly"
       },
       "data": [
        {
         "hovertemplate": "<b>%{hovertext}</b><br><br>LATITUD=%{lat}<br>LONGITUD=%{lon}<extra></extra>",
         "hovertext": [
          "Casa de Campo",
          "Ensanche de Vallecas",
          "Juan Carlos I",
          "J.M.D. Moratalaz",
          "J.M.D. Villaverde",
          "Centro Mpal. De Acústica",
          "J.M.D. Hortaleza",
          "Peñagrande"
         ],
         "lat": [
          40.4193577,
          40.3730118,
          40.4607255,
          40.39979278,
          40.3506278,
          40.442222,
          40.462778,
          40.4766333
         ],
         "legendgroup": "",
         "lon": [
          -3.7473445,
          -3.6121394,
          -3.6163407,
          -3.63563705,
          -3.70952476,
          -3.74,
          -3.656667,
          -3.717881
         ],
         "marker": {
          "color": "#636efa",
          "size": 15
         },
         "mode": "markers",
         "name": "",
         "showlegend": false,
         "subplot": "mapbox",
         "type": "scattermapbox"
        }
       ],
       "layout": {
        "height": 800,
        "legend": {
         "tracegroupgap": 0
        },
        "mapbox": {
         "center": {
          "lat": 40.423143610000004,
          "lon": -3.67944180125
         },
         "domain": {
          "x": [
           0,
           1
          ],
          "y": [
           0,
           1
          ]
         },
         "style": "open-street-map",
         "zoom": 10
        },
        "margin": {
         "b": 0,
         "l": 0,
         "r": 0,
         "t": 0
        },
        "template": {
         "data": {
          "bar": [
           {
            "error_x": {
             "color": "#2a3f5f"
            },
            "error_y": {
             "color": "#2a3f5f"
            },
            "marker": {
             "line": {
              "color": "#E5ECF6",
              "width": 0.5
             },
             "pattern": {
              "fillmode": "overlay",
              "size": 10,
              "solidity": 0.2
             }
            },
            "type": "bar"
           }
          ],
          "barpolar": [
           {
            "marker": {
             "line": {
              "color": "#E5ECF6",
              "width": 0.5
             },
             "pattern": {
              "fillmode": "overlay",
              "size": 10,
              "solidity": 0.2
             }
            },
            "type": "barpolar"
           }
          ],
          "carpet": [
           {
            "aaxis": {
             "endlinecolor": "#2a3f5f",
             "gridcolor": "white",
             "linecolor": "white",
             "minorgridcolor": "white",
             "startlinecolor": "#2a3f5f"
            },
            "baxis": {
             "endlinecolor": "#2a3f5f",
             "gridcolor": "white",
             "linecolor": "white",
             "minorgridcolor": "white",
             "startlinecolor": "#2a3f5f"
            },
            "type": "carpet"
           }
          ],
          "choropleth": [
           {
            "colorbar": {
             "outlinewidth": 0,
             "ticks": ""
            },
            "type": "choropleth"
           }
          ],
          "contour": [
           {
            "colorbar": {
             "outlinewidth": 0,
             "ticks": ""
            },
            "colorscale": [
             [
              0,
              "#0d0887"
             ],
             [
              0.1111111111111111,
              "#46039f"
             ],
             [
              0.2222222222222222,
              "#7201a8"
             ],
             [
              0.3333333333333333,
              "#9c179e"
             ],
             [
              0.4444444444444444,
              "#bd3786"
             ],
             [
              0.5555555555555556,
              "#d8576b"
             ],
             [
              0.6666666666666666,
              "#ed7953"
             ],
             [
              0.7777777777777778,
              "#fb9f3a"
             ],
             [
              0.8888888888888888,
              "#fdca26"
             ],
             [
              1,
              "#f0f921"
             ]
            ],
            "type": "contour"
           }
          ],
          "contourcarpet": [
           {
            "colorbar": {
             "outlinewidth": 0,
             "ticks": ""
            },
            "type": "contourcarpet"
           }
          ],
          "heatmap": [
           {
            "colorbar": {
             "outlinewidth": 0,
             "ticks": ""
            },
            "colorscale": [
             [
              0,
              "#0d0887"
             ],
             [
              0.1111111111111111,
              "#46039f"
             ],
             [
              0.2222222222222222,
              "#7201a8"
             ],
             [
              0.3333333333333333,
              "#9c179e"
             ],
             [
              0.4444444444444444,
              "#bd3786"
             ],
             [
              0.5555555555555556,
              "#d8576b"
             ],
             [
              0.6666666666666666,
              "#ed7953"
             ],
             [
              0.7777777777777778,
              "#fb9f3a"
             ],
             [
              0.8888888888888888,
              "#fdca26"
             ],
             [
              1,
              "#f0f921"
             ]
            ],
            "type": "heatmap"
           }
          ],
          "heatmapgl": [
           {
            "colorbar": {
             "outlinewidth": 0,
             "ticks": ""
            },
            "colorscale": [
             [
              0,
              "#0d0887"
             ],
             [
              0.1111111111111111,
              "#46039f"
             ],
             [
              0.2222222222222222,
              "#7201a8"
             ],
             [
              0.3333333333333333,
              "#9c179e"
             ],
             [
              0.4444444444444444,
              "#bd3786"
             ],
             [
              0.5555555555555556,
              "#d8576b"
             ],
             [
              0.6666666666666666,
              "#ed7953"
             ],
             [
              0.7777777777777778,
              "#fb9f3a"
             ],
             [
              0.8888888888888888,
              "#fdca26"
             ],
             [
              1,
              "#f0f921"
             ]
            ],
            "type": "heatmapgl"
           }
          ],
          "histogram": [
           {
            "marker": {
             "pattern": {
              "fillmode": "overlay",
              "size": 10,
              "solidity": 0.2
             }
            },
            "type": "histogram"
           }
          ],
          "histogram2d": [
           {
            "colorbar": {
             "outlinewidth": 0,
             "ticks": ""
            },
            "colorscale": [
             [
              0,
              "#0d0887"
             ],
             [
              0.1111111111111111,
              "#46039f"
             ],
             [
              0.2222222222222222,
              "#7201a8"
             ],
             [
              0.3333333333333333,
              "#9c179e"
             ],
             [
              0.4444444444444444,
              "#bd3786"
             ],
             [
              0.5555555555555556,
              "#d8576b"
             ],
             [
              0.6666666666666666,
              "#ed7953"
             ],
             [
              0.7777777777777778,
              "#fb9f3a"
             ],
             [
              0.8888888888888888,
              "#fdca26"
             ],
             [
              1,
              "#f0f921"
             ]
            ],
            "type": "histogram2d"
           }
          ],
          "histogram2dcontour": [
           {
            "colorbar": {
             "outlinewidth": 0,
             "ticks": ""
            },
            "colorscale": [
             [
              0,
              "#0d0887"
             ],
             [
              0.1111111111111111,
              "#46039f"
             ],
             [
              0.2222222222222222,
              "#7201a8"
             ],
             [
              0.3333333333333333,
              "#9c179e"
             ],
             [
              0.4444444444444444,
              "#bd3786"
             ],
             [
              0.5555555555555556,
              "#d8576b"
             ],
             [
              0.6666666666666666,
              "#ed7953"
             ],
             [
              0.7777777777777778,
              "#fb9f3a"
             ],
             [
              0.8888888888888888,
              "#fdca26"
             ],
             [
              1,
              "#f0f921"
             ]
            ],
            "type": "histogram2dcontour"
           }
          ],
          "mesh3d": [
           {
            "colorbar": {
             "outlinewidth": 0,
             "ticks": ""
            },
            "type": "mesh3d"
           }
          ],
          "parcoords": [
           {
            "line": {
             "colorbar": {
              "outlinewidth": 0,
              "ticks": ""
             }
            },
            "type": "parcoords"
           }
          ],
          "pie": [
           {
            "automargin": true,
            "type": "pie"
           }
          ],
          "scatter": [
           {
            "fillpattern": {
             "fillmode": "overlay",
             "size": 10,
             "solidity": 0.2
            },
            "type": "scatter"
           }
          ],
          "scatter3d": [
           {
            "line": {
             "colorbar": {
              "outlinewidth": 0,
              "ticks": ""
             }
            },
            "marker": {
             "colorbar": {
              "outlinewidth": 0,
              "ticks": ""
             }
            },
            "type": "scatter3d"
           }
          ],
          "scattercarpet": [
           {
            "marker": {
             "colorbar": {
              "outlinewidth": 0,
              "ticks": ""
             }
            },
            "type": "scattercarpet"
           }
          ],
          "scattergeo": [
           {
            "marker": {
             "colorbar": {
              "outlinewidth": 0,
              "ticks": ""
             }
            },
            "type": "scattergeo"
           }
          ],
          "scattergl": [
           {
            "marker": {
             "colorbar": {
              "outlinewidth": 0,
              "ticks": ""
             }
            },
            "type": "scattergl"
           }
          ],
          "scattermapbox": [
           {
            "marker": {
             "colorbar": {
              "outlinewidth": 0,
              "ticks": ""
             }
            },
            "type": "scattermapbox"
           }
          ],
          "scatterpolar": [
           {
            "marker": {
             "colorbar": {
              "outlinewidth": 0,
              "ticks": ""
             }
            },
            "type": "scatterpolar"
           }
          ],
          "scatterpolargl": [
           {
            "marker": {
             "colorbar": {
              "outlinewidth": 0,
              "ticks": ""
             }
            },
            "type": "scatterpolargl"
           }
          ],
          "scatterternary": [
           {
            "marker": {
             "colorbar": {
              "outlinewidth": 0,
              "ticks": ""
             }
            },
            "type": "scatterternary"
           }
          ],
          "surface": [
           {
            "colorbar": {
             "outlinewidth": 0,
             "ticks": ""
            },
            "colorscale": [
             [
              0,
              "#0d0887"
             ],
             [
              0.1111111111111111,
              "#46039f"
             ],
             [
              0.2222222222222222,
              "#7201a8"
             ],
             [
              0.3333333333333333,
              "#9c179e"
             ],
             [
              0.4444444444444444,
              "#bd3786"
             ],
             [
              0.5555555555555556,
              "#d8576b"
             ],
             [
              0.6666666666666666,
              "#ed7953"
             ],
             [
              0.7777777777777778,
              "#fb9f3a"
             ],
             [
              0.8888888888888888,
              "#fdca26"
             ],
             [
              1,
              "#f0f921"
             ]
            ],
            "type": "surface"
           }
          ],
          "table": [
           {
            "cells": {
             "fill": {
              "color": "#EBF0F8"
             },
             "line": {
              "color": "white"
             }
            },
            "header": {
             "fill": {
              "color": "#C8D4E3"
             },
             "line": {
              "color": "white"
             }
            },
            "type": "table"
           }
          ]
         },
         "layout": {
          "annotationdefaults": {
           "arrowcolor": "#2a3f5f",
           "arrowhead": 0,
           "arrowwidth": 1
          },
          "autotypenumbers": "strict",
          "coloraxis": {
           "colorbar": {
            "outlinewidth": 0,
            "ticks": ""
           }
          },
          "colorscale": {
           "diverging": [
            [
             0,
             "#8e0152"
            ],
            [
             0.1,
             "#c51b7d"
            ],
            [
             0.2,
             "#de77ae"
            ],
            [
             0.3,
             "#f1b6da"
            ],
            [
             0.4,
             "#fde0ef"
            ],
            [
             0.5,
             "#f7f7f7"
            ],
            [
             0.6,
             "#e6f5d0"
            ],
            [
             0.7,
             "#b8e186"
            ],
            [
             0.8,
             "#7fbc41"
            ],
            [
             0.9,
             "#4d9221"
            ],
            [
             1,
             "#276419"
            ]
           ],
           "sequential": [
            [
             0,
             "#0d0887"
            ],
            [
             0.1111111111111111,
             "#46039f"
            ],
            [
             0.2222222222222222,
             "#7201a8"
            ],
            [
             0.3333333333333333,
             "#9c179e"
            ],
            [
             0.4444444444444444,
             "#bd3786"
            ],
            [
             0.5555555555555556,
             "#d8576b"
            ],
            [
             0.6666666666666666,
             "#ed7953"
            ],
            [
             0.7777777777777778,
             "#fb9f3a"
            ],
            [
             0.8888888888888888,
             "#fdca26"
            ],
            [
             1,
             "#f0f921"
            ]
           ],
           "sequentialminus": [
            [
             0,
             "#0d0887"
            ],
            [
             0.1111111111111111,
             "#46039f"
            ],
            [
             0.2222222222222222,
             "#7201a8"
            ],
            [
             0.3333333333333333,
             "#9c179e"
            ],
            [
             0.4444444444444444,
             "#bd3786"
            ],
            [
             0.5555555555555556,
             "#d8576b"
            ],
            [
             0.6666666666666666,
             "#ed7953"
            ],
            [
             0.7777777777777778,
             "#fb9f3a"
            ],
            [
             0.8888888888888888,
             "#fdca26"
            ],
            [
             1,
             "#f0f921"
            ]
           ]
          },
          "colorway": [
           "#636efa",
           "#EF553B",
           "#00cc96",
           "#ab63fa",
           "#FFA15A",
           "#19d3f3",
           "#FF6692",
           "#B6E880",
           "#FF97FF",
           "#FECB52"
          ],
          "font": {
           "color": "#2a3f5f"
          },
          "geo": {
           "bgcolor": "white",
           "lakecolor": "white",
           "landcolor": "#E5ECF6",
           "showlakes": true,
           "showland": true,
           "subunitcolor": "white"
          },
          "hoverlabel": {
           "align": "left"
          },
          "hovermode": "closest",
          "mapbox": {
           "style": "light"
          },
          "paper_bgcolor": "white",
          "plot_bgcolor": "#E5ECF6",
          "polar": {
           "angularaxis": {
            "gridcolor": "white",
            "linecolor": "white",
            "ticks": ""
           },
           "bgcolor": "#E5ECF6",
           "radialaxis": {
            "gridcolor": "white",
            "linecolor": "white",
            "ticks": ""
           }
          },
          "scene": {
           "xaxis": {
            "backgroundcolor": "#E5ECF6",
            "gridcolor": "white",
            "gridwidth": 2,
            "linecolor": "white",
            "showbackground": true,
            "ticks": "",
            "zerolinecolor": "white"
           },
           "yaxis": {
            "backgroundcolor": "#E5ECF6",
            "gridcolor": "white",
            "gridwidth": 2,
            "linecolor": "white",
            "showbackground": true,
            "ticks": "",
            "zerolinecolor": "white"
           },
           "zaxis": {
            "backgroundcolor": "#E5ECF6",
            "gridcolor": "white",
            "gridwidth": 2,
            "linecolor": "white",
            "showbackground": true,
            "ticks": "",
            "zerolinecolor": "white"
           }
          },
          "shapedefaults": {
           "line": {
            "color": "#2a3f5f"
           }
          },
          "ternary": {
           "aaxis": {
            "gridcolor": "white",
            "linecolor": "white",
            "ticks": ""
           },
           "baxis": {
            "gridcolor": "white",
            "linecolor": "white",
            "ticks": ""
           },
           "bgcolor": "#E5ECF6",
           "caxis": {
            "gridcolor": "white",
            "linecolor": "white",
            "ticks": ""
           }
          },
          "title": {
           "x": 0.05
          },
          "xaxis": {
           "automargin": true,
           "gridcolor": "white",
           "linecolor": "white",
           "ticks": "",
           "title": {
            "standoff": 15
           },
           "zerolinecolor": "white",
           "zerolinewidth": 2
          },
          "yaxis": {
           "automargin": true,
           "gridcolor": "white",
           "linecolor": "white",
           "ticks": "",
           "title": {
            "standoff": 15
           },
           "zerolinecolor": "white",
           "zerolinewidth": 2
          }
         }
        },
        "width": 800
       }
      }
     },
     "metadata": {},
     "output_type": "display_data"
    }
   ],
   "source": [
    "fig = px.scatter_mapbox(selected_meteor_stations_df,\n",
    "                     lat='LATITUD',lon='LONGITUD',\n",
    "                     hover_name=\"ESTACIÓN\",\n",
    "                     zoom=10, \n",
    "                     height=800,\n",
    "                     width=800)\n",
    "fig.update_layout(mapbox_style=\"open-street-map\")\n",
    "fig.update_traces(marker={'size': 15})\n",
    "fig.update_layout(margin={\"r\":0,\"t\":0,\"l\":0,\"b\":0})\n",
    "fig.show()\n",
    "\n"
   ]
  },
  {
   "cell_type": "markdown",
   "metadata": {},
   "source": [
    "There are 7 meteorological stations that fulfill the criteria"
   ]
  },
  {
   "cell_type": "markdown",
   "metadata": {},
   "source": [
    "---"
   ]
  },
  {
   "cell_type": "code",
   "execution_count": 89,
   "metadata": {},
   "outputs": [
    {
     "data": {
      "text/html": [
       "<div>\n",
       "<style scoped>\n",
       "    .dataframe tbody tr th:only-of-type {\n",
       "        vertical-align: middle;\n",
       "    }\n",
       "\n",
       "    .dataframe tbody tr th {\n",
       "        vertical-align: top;\n",
       "    }\n",
       "\n",
       "    .dataframe thead th {\n",
       "        text-align: right;\n",
       "    }\n",
       "</style>\n",
       "<table border=\"1\" class=\"dataframe\">\n",
       "  <thead>\n",
       "    <tr style=\"text-align: right;\">\n",
       "      <th></th>\n",
       "      <th>CODIGO</th>\n",
       "      <th>CODIGO_CORTO</th>\n",
       "      <th>ESTACION</th>\n",
       "      <th>DIRECCION</th>\n",
       "      <th>LONGITUD_ETRS89</th>\n",
       "      <th>LATITUD_ETRS89</th>\n",
       "      <th>ALTITUD</th>\n",
       "      <th>COD_TIPO</th>\n",
       "      <th>NOM_TIPO</th>\n",
       "      <th>NO2</th>\n",
       "      <th>...</th>\n",
       "      <th>BTX</th>\n",
       "      <th>COD_VIA</th>\n",
       "      <th>VIA_CLASE</th>\n",
       "      <th>VIA_PAR</th>\n",
       "      <th>VIA_NOMBRE</th>\n",
       "      <th>Fecha alta</th>\n",
       "      <th>COORDENADA_X_ETRS89</th>\n",
       "      <th>COORDENADA_Y_ETRS89</th>\n",
       "      <th>LONGITUD</th>\n",
       "      <th>LATITUD</th>\n",
       "    </tr>\n",
       "  </thead>\n",
       "  <tbody>\n",
       "    <tr>\n",
       "      <th>0</th>\n",
       "      <td>28079004</td>\n",
       "      <td>4</td>\n",
       "      <td>Plaza de España</td>\n",
       "      <td>Plaza de España</td>\n",
       "      <td>3°42'43.91\"O</td>\n",
       "      <td>40°25'25.98\"N</td>\n",
       "      <td>637</td>\n",
       "      <td>UT</td>\n",
       "      <td>Urbana tráfico</td>\n",
       "      <td>X</td>\n",
       "      <td>...</td>\n",
       "      <td>NaN</td>\n",
       "      <td>273600</td>\n",
       "      <td>PLAZA</td>\n",
       "      <td>DE</td>\n",
       "      <td>ESPAÑA</td>\n",
       "      <td>01/12/1998</td>\n",
       "      <td>439579,3291</td>\n",
       "      <td>4475049,263</td>\n",
       "      <td>-3.712257</td>\n",
       "      <td>40.423882</td>\n",
       "    </tr>\n",
       "    <tr>\n",
       "      <th>1</th>\n",
       "      <td>28079008</td>\n",
       "      <td>8</td>\n",
       "      <td>Escuelas Aguirre</td>\n",
       "      <td>Entre C/ Alcalá y C/ O’ Donell</td>\n",
       "      <td>3°40'56.22\"O</td>\n",
       "      <td>40°25'17.63\"N</td>\n",
       "      <td>672</td>\n",
       "      <td>UT</td>\n",
       "      <td>Urbana tráfico</td>\n",
       "      <td>X</td>\n",
       "      <td>...</td>\n",
       "      <td>X</td>\n",
       "      <td>18900</td>\n",
       "      <td>CALLE</td>\n",
       "      <td>DE</td>\n",
       "      <td>ALCALA</td>\n",
       "      <td>01/12/1998</td>\n",
       "      <td>442117,2366</td>\n",
       "      <td>4474770,696</td>\n",
       "      <td>-3.682316</td>\n",
       "      <td>40.421553</td>\n",
       "    </tr>\n",
       "    <tr>\n",
       "      <th>2</th>\n",
       "      <td>28079011</td>\n",
       "      <td>11</td>\n",
       "      <td>Ramón y Cajal</td>\n",
       "      <td>Avda. Ramón y Cajal  esq. C/ Príncipe de Vergara</td>\n",
       "      <td>3°40'38.50\"O</td>\n",
       "      <td>40°27'5.29\"N</td>\n",
       "      <td>708</td>\n",
       "      <td>UT</td>\n",
       "      <td>Urbana tráfico</td>\n",
       "      <td>X</td>\n",
       "      <td>...</td>\n",
       "      <td>X</td>\n",
       "      <td>610450</td>\n",
       "      <td>CALLE</td>\n",
       "      <td>DEL</td>\n",
       "      <td>PRINCIPE DE VERGARA</td>\n",
       "      <td>01/12/1998</td>\n",
       "      <td>442564,0457</td>\n",
       "      <td>4478088,595</td>\n",
       "      <td>-3.677349</td>\n",
       "      <td>40.451473</td>\n",
       "    </tr>\n",
       "    <tr>\n",
       "      <th>3</th>\n",
       "      <td>28079016</td>\n",
       "      <td>16</td>\n",
       "      <td>Arturo Soria</td>\n",
       "      <td>C/ Arturo Soria  esq. C/  Vizconde de los Asilos</td>\n",
       "      <td>3°38'21.17\"O</td>\n",
       "      <td>40°26'24.20\"N</td>\n",
       "      <td>695</td>\n",
       "      <td>UF</td>\n",
       "      <td>Urbana fondo</td>\n",
       "      <td>X</td>\n",
       "      <td>...</td>\n",
       "      <td>NaN</td>\n",
       "      <td>798700</td>\n",
       "      <td>CALLE</td>\n",
       "      <td>DEL</td>\n",
       "      <td>VIZCONDE DE LOS ASILOS</td>\n",
       "      <td>01/12/1998</td>\n",
       "      <td>445786,1729</td>\n",
       "      <td>4476796,019</td>\n",
       "      <td>-3.639242</td>\n",
       "      <td>40.440046</td>\n",
       "    </tr>\n",
       "    <tr>\n",
       "      <th>4</th>\n",
       "      <td>28079017</td>\n",
       "      <td>17</td>\n",
       "      <td>Villaverde</td>\n",
       "      <td>C/ Juan Peñalver</td>\n",
       "      <td>3°42'47.89\"O</td>\n",
       "      <td>40°20'49.74\"N</td>\n",
       "      <td>601</td>\n",
       "      <td>UF</td>\n",
       "      <td>Urbana fondo</td>\n",
       "      <td>X</td>\n",
       "      <td>...</td>\n",
       "      <td>NaN</td>\n",
       "      <td>417200</td>\n",
       "      <td>CALLE</td>\n",
       "      <td>DE</td>\n",
       "      <td>JUAN PEÑALVER</td>\n",
       "      <td>01/12/1998</td>\n",
       "      <td>439420,7015</td>\n",
       "      <td>4466532,455</td>\n",
       "      <td>-3.713317</td>\n",
       "      <td>40.347147</td>\n",
       "    </tr>\n",
       "  </tbody>\n",
       "</table>\n",
       "<p>5 rows × 25 columns</p>\n",
       "</div>"
      ],
      "text/plain": [
       "     CODIGO  CODIGO_CORTO          ESTACION  \\\n",
       "0  28079004             4   Plaza de España   \n",
       "1  28079008             8  Escuelas Aguirre   \n",
       "2  28079011            11     Ramón y Cajal   \n",
       "3  28079016            16      Arturo Soria   \n",
       "4  28079017            17        Villaverde   \n",
       "\n",
       "                                           DIRECCION LONGITUD_ETRS89  \\\n",
       "0                                    Plaza de España    3°42'43.91\"O   \n",
       "1                    Entre C/ Alcalá y C/ O’ Donell     3°40'56.22\"O   \n",
       "2   Avda. Ramón y Cajal  esq. C/ Príncipe de Vergara    3°40'38.50\"O   \n",
       "3  C/ Arturo Soria  esq. C/  Vizconde de los Asilos     3°38'21.17\"O   \n",
       "4                                   C/ Juan Peñalver    3°42'47.89\"O   \n",
       "\n",
       "  LATITUD_ETRS89  ALTITUD COD_TIPO        NOM_TIPO NO2  ...  BTX COD_VIA  \\\n",
       "0  40°25'25.98\"N      637       UT  Urbana tráfico   X  ...  NaN  273600   \n",
       "1  40°25'17.63\"N      672       UT  Urbana tráfico   X  ...    X   18900   \n",
       "2   40°27'5.29\"N      708       UT  Urbana tráfico   X  ...    X  610450   \n",
       "3  40°26'24.20\"N      695       UF    Urbana fondo   X  ...  NaN  798700   \n",
       "4  40°20'49.74\"N      601       UF    Urbana fondo   X  ...  NaN  417200   \n",
       "\n",
       "  VIA_CLASE VIA_PAR              VIA_NOMBRE  Fecha alta  COORDENADA_X_ETRS89  \\\n",
       "0     PLAZA      DE                  ESPAÑA  01/12/1998          439579,3291   \n",
       "1     CALLE      DE                  ALCALA  01/12/1998          442117,2366   \n",
       "2     CALLE     DEL     PRINCIPE DE VERGARA  01/12/1998          442564,0457   \n",
       "3     CALLE     DEL  VIZCONDE DE LOS ASILOS  01/12/1998          445786,1729   \n",
       "4     CALLE      DE           JUAN PEÑALVER  01/12/1998          439420,7015   \n",
       "\n",
       "  COORDENADA_Y_ETRS89  LONGITUD    LATITUD  \n",
       "0         4475049,263 -3.712257  40.423882  \n",
       "1         4474770,696 -3.682316  40.421553  \n",
       "2         4478088,595 -3.677349  40.451473  \n",
       "3         4476796,019 -3.639242  40.440046  \n",
       "4         4466532,455 -3.713317  40.347147  \n",
       "\n",
       "[5 rows x 25 columns]"
      ]
     },
     "execution_count": 89,
     "metadata": {},
     "output_type": "execute_result"
    }
   ],
   "source": [
    "AIR_STATION_PATH = '/Users/carlosito/Library/CloudStorage/OneDrive-Personal/AIT material/DANIclass/2-Iot/Project/Madrid/air/212629-1-estaciones-control-aire.csv'\n",
    "air_station_df = pd.read_csv(AIR_STATION_PATH,sep=\";\")\n",
    "air_station_df.head()"
   ]
  },
  {
   "cell_type": "code",
   "execution_count": 90,
   "metadata": {},
   "outputs": [
    {
     "data": {
      "text/plain": [
       "Index(['CODIGO', 'CODIGO_CORTO', 'ESTACION', 'DIRECCION', 'LONGITUD_ETRS89',\n",
       "       'LATITUD_ETRS89', 'ALTITUD', 'COD_TIPO', 'NOM_TIPO', 'NO2', 'SO2', 'CO',\n",
       "       'PM10', 'PM2_5', 'O3', 'BTX', 'COD_VIA', 'VIA_CLASE', 'VIA_PAR',\n",
       "       'VIA_NOMBRE', 'Fecha alta', 'COORDENADA_X_ETRS89',\n",
       "       'COORDENADA_Y_ETRS89', 'LONGITUD', 'LATITUD'],\n",
       "      dtype='object')"
      ]
     },
     "execution_count": 90,
     "metadata": {},
     "output_type": "execute_result"
    }
   ],
   "source": [
    "air_station_df.columns"
   ]
  },
  {
   "cell_type": "code",
   "execution_count": 91,
   "metadata": {},
   "outputs": [],
   "source": [
    "selected_air_factors = ['NO2', 'PM10', 'PM2_5']"
   ]
  },
  {
   "cell_type": "code",
   "execution_count": 92,
   "metadata": {},
   "outputs": [
    {
     "data": {
      "text/html": [
       "<div>\n",
       "<style scoped>\n",
       "    .dataframe tbody tr th:only-of-type {\n",
       "        vertical-align: middle;\n",
       "    }\n",
       "\n",
       "    .dataframe tbody tr th {\n",
       "        vertical-align: top;\n",
       "    }\n",
       "\n",
       "    .dataframe thead th {\n",
       "        text-align: right;\n",
       "    }\n",
       "</style>\n",
       "<table border=\"1\" class=\"dataframe\">\n",
       "  <thead>\n",
       "    <tr style=\"text-align: right;\">\n",
       "      <th></th>\n",
       "      <th>NO2</th>\n",
       "      <th>PM10</th>\n",
       "      <th>PM2_5</th>\n",
       "    </tr>\n",
       "  </thead>\n",
       "  <tbody>\n",
       "    <tr>\n",
       "      <th>0</th>\n",
       "      <td>X</td>\n",
       "      <td>NaN</td>\n",
       "      <td>NaN</td>\n",
       "    </tr>\n",
       "    <tr>\n",
       "      <th>1</th>\n",
       "      <td>X</td>\n",
       "      <td>X</td>\n",
       "      <td>X</td>\n",
       "    </tr>\n",
       "    <tr>\n",
       "      <th>2</th>\n",
       "      <td>X</td>\n",
       "      <td>NaN</td>\n",
       "      <td>NaN</td>\n",
       "    </tr>\n",
       "    <tr>\n",
       "      <th>3</th>\n",
       "      <td>X</td>\n",
       "      <td>NaN</td>\n",
       "      <td>NaN</td>\n",
       "    </tr>\n",
       "    <tr>\n",
       "      <th>4</th>\n",
       "      <td>X</td>\n",
       "      <td>NaN</td>\n",
       "      <td>NaN</td>\n",
       "    </tr>\n",
       "    <tr>\n",
       "      <th>5</th>\n",
       "      <td>X</td>\n",
       "      <td>X</td>\n",
       "      <td>NaN</td>\n",
       "    </tr>\n",
       "    <tr>\n",
       "      <th>6</th>\n",
       "      <td>X</td>\n",
       "      <td>X</td>\n",
       "      <td>X</td>\n",
       "    </tr>\n",
       "    <tr>\n",
       "      <th>7</th>\n",
       "      <td>X</td>\n",
       "      <td>NaN</td>\n",
       "      <td>NaN</td>\n",
       "    </tr>\n",
       "    <tr>\n",
       "      <th>8</th>\n",
       "      <td>X</td>\n",
       "      <td>NaN</td>\n",
       "      <td>NaN</td>\n",
       "    </tr>\n",
       "    <tr>\n",
       "      <th>9</th>\n",
       "      <td>X</td>\n",
       "      <td>X</td>\n",
       "      <td>NaN</td>\n",
       "    </tr>\n",
       "    <tr>\n",
       "      <th>10</th>\n",
       "      <td>X</td>\n",
       "      <td>X</td>\n",
       "      <td>X</td>\n",
       "    </tr>\n",
       "    <tr>\n",
       "      <th>11</th>\n",
       "      <td>X</td>\n",
       "      <td>NaN</td>\n",
       "      <td>NaN</td>\n",
       "    </tr>\n",
       "    <tr>\n",
       "      <th>12</th>\n",
       "      <td>X</td>\n",
       "      <td>X</td>\n",
       "      <td>NaN</td>\n",
       "    </tr>\n",
       "    <tr>\n",
       "      <th>13</th>\n",
       "      <td>X</td>\n",
       "      <td>X</td>\n",
       "      <td>X</td>\n",
       "    </tr>\n",
       "    <tr>\n",
       "      <th>14</th>\n",
       "      <td>X</td>\n",
       "      <td>X</td>\n",
       "      <td>X</td>\n",
       "    </tr>\n",
       "    <tr>\n",
       "      <th>15</th>\n",
       "      <td>X</td>\n",
       "      <td>NaN</td>\n",
       "      <td>NaN</td>\n",
       "    </tr>\n",
       "    <tr>\n",
       "      <th>16</th>\n",
       "      <td>X</td>\n",
       "      <td>X</td>\n",
       "      <td>X</td>\n",
       "    </tr>\n",
       "    <tr>\n",
       "      <th>17</th>\n",
       "      <td>X</td>\n",
       "      <td>NaN</td>\n",
       "      <td>NaN</td>\n",
       "    </tr>\n",
       "    <tr>\n",
       "      <th>18</th>\n",
       "      <td>X</td>\n",
       "      <td>X</td>\n",
       "      <td>NaN</td>\n",
       "    </tr>\n",
       "    <tr>\n",
       "      <th>19</th>\n",
       "      <td>X</td>\n",
       "      <td>X</td>\n",
       "      <td>X</td>\n",
       "    </tr>\n",
       "    <tr>\n",
       "      <th>20</th>\n",
       "      <td>X</td>\n",
       "      <td>X</td>\n",
       "      <td>X</td>\n",
       "    </tr>\n",
       "    <tr>\n",
       "      <th>21</th>\n",
       "      <td>X</td>\n",
       "      <td>NaN</td>\n",
       "      <td>NaN</td>\n",
       "    </tr>\n",
       "    <tr>\n",
       "      <th>22</th>\n",
       "      <td>X</td>\n",
       "      <td>NaN</td>\n",
       "      <td>NaN</td>\n",
       "    </tr>\n",
       "    <tr>\n",
       "      <th>23</th>\n",
       "      <td>X</td>\n",
       "      <td>X</td>\n",
       "      <td>NaN</td>\n",
       "    </tr>\n",
       "  </tbody>\n",
       "</table>\n",
       "</div>"
      ],
      "text/plain": [
       "   NO2 PM10 PM2_5\n",
       "0    X  NaN   NaN\n",
       "1    X    X     X\n",
       "2    X  NaN   NaN\n",
       "3    X  NaN   NaN\n",
       "4    X  NaN   NaN\n",
       "5    X    X   NaN\n",
       "6    X    X     X\n",
       "7    X  NaN   NaN\n",
       "8    X  NaN   NaN\n",
       "9    X    X   NaN\n",
       "10   X    X     X\n",
       "11   X  NaN   NaN\n",
       "12   X    X   NaN\n",
       "13   X    X     X\n",
       "14   X    X     X\n",
       "15   X  NaN   NaN\n",
       "16   X    X     X\n",
       "17   X  NaN   NaN\n",
       "18   X    X   NaN\n",
       "19   X    X     X\n",
       "20   X    X     X\n",
       "21   X  NaN   NaN\n",
       "22   X  NaN   NaN\n",
       "23   X    X   NaN"
      ]
     },
     "execution_count": 92,
     "metadata": {},
     "output_type": "execute_result"
    }
   ],
   "source": [
    "air_station_df[selected_air_factors]"
   ]
  },
  {
   "cell_type": "markdown",
   "metadata": {},
   "source": [
    "#### After checking each gas, it turns out that the station 57 does not have 'NOX' sensor"
   ]
  },
  {
   "cell_type": "code",
   "execution_count": 93,
   "metadata": {},
   "outputs": [],
   "source": [
    "sliced_air_station_df = air_station_df[air_station_df[selected_air_factors].notnull().all(axis=1)]\n",
    "sliced_air_station_df =sliced_air_station_df[sliced_air_station_df.CODIGO_CORTO != 57]"
   ]
  },
  {
   "cell_type": "code",
   "execution_count": 94,
   "metadata": {},
   "outputs": [
    {
     "data": {
      "application/vnd.plotly.v1+json": {
       "config": {
        "plotlyServerURL": "https://plot.ly"
       },
       "data": [
        {
         "hovertemplate": "<b>%{hovertext}</b><br><br>NOM_TIPO=Urbana tráfico<br>LATITUD=%{lat}<br>LONGITUD=%{lon}<extra></extra>",
         "hovertext": [
          "Escuelas Aguirre",
          "Cuatro Caminos",
          "Castellana",
          "Plaza Castilla",
          "Plaza Elíptica"
         ],
         "lat": [
          40.4215533,
          40.4455439,
          40.4398904,
          40.4655841,
          40.3850336
         ],
         "legendgroup": "Urbana tráfico",
         "lon": [
          -3.6823158,
          -3.7071303,
          -3.6903729,
          -3.6887449,
          -3.7187679
         ],
         "marker": {
          "color": "#636efa",
          "size": 10
         },
         "mode": "markers",
         "name": "Urbana tráfico",
         "showlegend": true,
         "subplot": "mapbox",
         "type": "scattermapbox"
        },
        {
         "hovertemplate": "<b>%{hovertext}</b><br><br>NOM_TIPO=Suburbana<br>LATITUD=%{lat}<br>LONGITUD=%{lon}<extra></extra>",
         "hovertext": [
          "Casa de Campo"
         ],
         "lat": [
          40.4193577
         ],
         "legendgroup": "Suburbana",
         "lon": [
          -3.7473445
         ],
         "marker": {
          "color": "#EF553B",
          "size": 10
         },
         "mode": "markers",
         "name": "Suburbana",
         "showlegend": true,
         "subplot": "mapbox",
         "type": "scattermapbox"
        },
        {
         "hovertemplate": "<b>%{hovertext}</b><br><br>NOM_TIPO=Urbana fondo<br>LATITUD=%{lat}<br>LONGITUD=%{lon}<extra></extra>",
         "hovertext": [
          "Méndez Álvaro"
         ],
         "lat": [
          40.3980991
         ],
         "legendgroup": "Urbana fondo",
         "lon": [
          -3.6868138
         ],
         "marker": {
          "color": "#00cc96",
          "size": 10
         },
         "mode": "markers",
         "name": "Urbana fondo",
         "showlegend": true,
         "subplot": "mapbox",
         "type": "scattermapbox"
        }
       ],
       "layout": {
        "height": 400,
        "legend": {
         "title": {
          "text": "NOM_TIPO"
         },
         "tracegroupgap": 0
        },
        "mapbox": {
         "center": {
          "lat": 40.425008871428574,
          "lon": -3.7030700142857143
         },
         "domain": {
          "x": [
           0,
           1
          ],
          "y": [
           0,
           1
          ]
         },
         "style": "stamen-terrain",
         "zoom": 10
        },
        "margin": {
         "b": 0,
         "l": 0,
         "r": 0,
         "t": 0
        },
        "template": {
         "data": {
          "bar": [
           {
            "error_x": {
             "color": "#2a3f5f"
            },
            "error_y": {
             "color": "#2a3f5f"
            },
            "marker": {
             "line": {
              "color": "#E5ECF6",
              "width": 0.5
             },
             "pattern": {
              "fillmode": "overlay",
              "size": 10,
              "solidity": 0.2
             }
            },
            "type": "bar"
           }
          ],
          "barpolar": [
           {
            "marker": {
             "line": {
              "color": "#E5ECF6",
              "width": 0.5
             },
             "pattern": {
              "fillmode": "overlay",
              "size": 10,
              "solidity": 0.2
             }
            },
            "type": "barpolar"
           }
          ],
          "carpet": [
           {
            "aaxis": {
             "endlinecolor": "#2a3f5f",
             "gridcolor": "white",
             "linecolor": "white",
             "minorgridcolor": "white",
             "startlinecolor": "#2a3f5f"
            },
            "baxis": {
             "endlinecolor": "#2a3f5f",
             "gridcolor": "white",
             "linecolor": "white",
             "minorgridcolor": "white",
             "startlinecolor": "#2a3f5f"
            },
            "type": "carpet"
           }
          ],
          "choropleth": [
           {
            "colorbar": {
             "outlinewidth": 0,
             "ticks": ""
            },
            "type": "choropleth"
           }
          ],
          "contour": [
           {
            "colorbar": {
             "outlinewidth": 0,
             "ticks": ""
            },
            "colorscale": [
             [
              0,
              "#0d0887"
             ],
             [
              0.1111111111111111,
              "#46039f"
             ],
             [
              0.2222222222222222,
              "#7201a8"
             ],
             [
              0.3333333333333333,
              "#9c179e"
             ],
             [
              0.4444444444444444,
              "#bd3786"
             ],
             [
              0.5555555555555556,
              "#d8576b"
             ],
             [
              0.6666666666666666,
              "#ed7953"
             ],
             [
              0.7777777777777778,
              "#fb9f3a"
             ],
             [
              0.8888888888888888,
              "#fdca26"
             ],
             [
              1,
              "#f0f921"
             ]
            ],
            "type": "contour"
           }
          ],
          "contourcarpet": [
           {
            "colorbar": {
             "outlinewidth": 0,
             "ticks": ""
            },
            "type": "contourcarpet"
           }
          ],
          "heatmap": [
           {
            "colorbar": {
             "outlinewidth": 0,
             "ticks": ""
            },
            "colorscale": [
             [
              0,
              "#0d0887"
             ],
             [
              0.1111111111111111,
              "#46039f"
             ],
             [
              0.2222222222222222,
              "#7201a8"
             ],
             [
              0.3333333333333333,
              "#9c179e"
             ],
             [
              0.4444444444444444,
              "#bd3786"
             ],
             [
              0.5555555555555556,
              "#d8576b"
             ],
             [
              0.6666666666666666,
              "#ed7953"
             ],
             [
              0.7777777777777778,
              "#fb9f3a"
             ],
             [
              0.8888888888888888,
              "#fdca26"
             ],
             [
              1,
              "#f0f921"
             ]
            ],
            "type": "heatmap"
           }
          ],
          "heatmapgl": [
           {
            "colorbar": {
             "outlinewidth": 0,
             "ticks": ""
            },
            "colorscale": [
             [
              0,
              "#0d0887"
             ],
             [
              0.1111111111111111,
              "#46039f"
             ],
             [
              0.2222222222222222,
              "#7201a8"
             ],
             [
              0.3333333333333333,
              "#9c179e"
             ],
             [
              0.4444444444444444,
              "#bd3786"
             ],
             [
              0.5555555555555556,
              "#d8576b"
             ],
             [
              0.6666666666666666,
              "#ed7953"
             ],
             [
              0.7777777777777778,
              "#fb9f3a"
             ],
             [
              0.8888888888888888,
              "#fdca26"
             ],
             [
              1,
              "#f0f921"
             ]
            ],
            "type": "heatmapgl"
           }
          ],
          "histogram": [
           {
            "marker": {
             "pattern": {
              "fillmode": "overlay",
              "size": 10,
              "solidity": 0.2
             }
            },
            "type": "histogram"
           }
          ],
          "histogram2d": [
           {
            "colorbar": {
             "outlinewidth": 0,
             "ticks": ""
            },
            "colorscale": [
             [
              0,
              "#0d0887"
             ],
             [
              0.1111111111111111,
              "#46039f"
             ],
             [
              0.2222222222222222,
              "#7201a8"
             ],
             [
              0.3333333333333333,
              "#9c179e"
             ],
             [
              0.4444444444444444,
              "#bd3786"
             ],
             [
              0.5555555555555556,
              "#d8576b"
             ],
             [
              0.6666666666666666,
              "#ed7953"
             ],
             [
              0.7777777777777778,
              "#fb9f3a"
             ],
             [
              0.8888888888888888,
              "#fdca26"
             ],
             [
              1,
              "#f0f921"
             ]
            ],
            "type": "histogram2d"
           }
          ],
          "histogram2dcontour": [
           {
            "colorbar": {
             "outlinewidth": 0,
             "ticks": ""
            },
            "colorscale": [
             [
              0,
              "#0d0887"
             ],
             [
              0.1111111111111111,
              "#46039f"
             ],
             [
              0.2222222222222222,
              "#7201a8"
             ],
             [
              0.3333333333333333,
              "#9c179e"
             ],
             [
              0.4444444444444444,
              "#bd3786"
             ],
             [
              0.5555555555555556,
              "#d8576b"
             ],
             [
              0.6666666666666666,
              "#ed7953"
             ],
             [
              0.7777777777777778,
              "#fb9f3a"
             ],
             [
              0.8888888888888888,
              "#fdca26"
             ],
             [
              1,
              "#f0f921"
             ]
            ],
            "type": "histogram2dcontour"
           }
          ],
          "mesh3d": [
           {
            "colorbar": {
             "outlinewidth": 0,
             "ticks": ""
            },
            "type": "mesh3d"
           }
          ],
          "parcoords": [
           {
            "line": {
             "colorbar": {
              "outlinewidth": 0,
              "ticks": ""
             }
            },
            "type": "parcoords"
           }
          ],
          "pie": [
           {
            "automargin": true,
            "type": "pie"
           }
          ],
          "scatter": [
           {
            "fillpattern": {
             "fillmode": "overlay",
             "size": 10,
             "solidity": 0.2
            },
            "type": "scatter"
           }
          ],
          "scatter3d": [
           {
            "line": {
             "colorbar": {
              "outlinewidth": 0,
              "ticks": ""
             }
            },
            "marker": {
             "colorbar": {
              "outlinewidth": 0,
              "ticks": ""
             }
            },
            "type": "scatter3d"
           }
          ],
          "scattercarpet": [
           {
            "marker": {
             "colorbar": {
              "outlinewidth": 0,
              "ticks": ""
             }
            },
            "type": "scattercarpet"
           }
          ],
          "scattergeo": [
           {
            "marker": {
             "colorbar": {
              "outlinewidth": 0,
              "ticks": ""
             }
            },
            "type": "scattergeo"
           }
          ],
          "scattergl": [
           {
            "marker": {
             "colorbar": {
              "outlinewidth": 0,
              "ticks": ""
             }
            },
            "type": "scattergl"
           }
          ],
          "scattermapbox": [
           {
            "marker": {
             "colorbar": {
              "outlinewidth": 0,
              "ticks": ""
             }
            },
            "type": "scattermapbox"
           }
          ],
          "scatterpolar": [
           {
            "marker": {
             "colorbar": {
              "outlinewidth": 0,
              "ticks": ""
             }
            },
            "type": "scatterpolar"
           }
          ],
          "scatterpolargl": [
           {
            "marker": {
             "colorbar": {
              "outlinewidth": 0,
              "ticks": ""
             }
            },
            "type": "scatterpolargl"
           }
          ],
          "scatterternary": [
           {
            "marker": {
             "colorbar": {
              "outlinewidth": 0,
              "ticks": ""
             }
            },
            "type": "scatterternary"
           }
          ],
          "surface": [
           {
            "colorbar": {
             "outlinewidth": 0,
             "ticks": ""
            },
            "colorscale": [
             [
              0,
              "#0d0887"
             ],
             [
              0.1111111111111111,
              "#46039f"
             ],
             [
              0.2222222222222222,
              "#7201a8"
             ],
             [
              0.3333333333333333,
              "#9c179e"
             ],
             [
              0.4444444444444444,
              "#bd3786"
             ],
             [
              0.5555555555555556,
              "#d8576b"
             ],
             [
              0.6666666666666666,
              "#ed7953"
             ],
             [
              0.7777777777777778,
              "#fb9f3a"
             ],
             [
              0.8888888888888888,
              "#fdca26"
             ],
             [
              1,
              "#f0f921"
             ]
            ],
            "type": "surface"
           }
          ],
          "table": [
           {
            "cells": {
             "fill": {
              "color": "#EBF0F8"
             },
             "line": {
              "color": "white"
             }
            },
            "header": {
             "fill": {
              "color": "#C8D4E3"
             },
             "line": {
              "color": "white"
             }
            },
            "type": "table"
           }
          ]
         },
         "layout": {
          "annotationdefaults": {
           "arrowcolor": "#2a3f5f",
           "arrowhead": 0,
           "arrowwidth": 1
          },
          "autotypenumbers": "strict",
          "coloraxis": {
           "colorbar": {
            "outlinewidth": 0,
            "ticks": ""
           }
          },
          "colorscale": {
           "diverging": [
            [
             0,
             "#8e0152"
            ],
            [
             0.1,
             "#c51b7d"
            ],
            [
             0.2,
             "#de77ae"
            ],
            [
             0.3,
             "#f1b6da"
            ],
            [
             0.4,
             "#fde0ef"
            ],
            [
             0.5,
             "#f7f7f7"
            ],
            [
             0.6,
             "#e6f5d0"
            ],
            [
             0.7,
             "#b8e186"
            ],
            [
             0.8,
             "#7fbc41"
            ],
            [
             0.9,
             "#4d9221"
            ],
            [
             1,
             "#276419"
            ]
           ],
           "sequential": [
            [
             0,
             "#0d0887"
            ],
            [
             0.1111111111111111,
             "#46039f"
            ],
            [
             0.2222222222222222,
             "#7201a8"
            ],
            [
             0.3333333333333333,
             "#9c179e"
            ],
            [
             0.4444444444444444,
             "#bd3786"
            ],
            [
             0.5555555555555556,
             "#d8576b"
            ],
            [
             0.6666666666666666,
             "#ed7953"
            ],
            [
             0.7777777777777778,
             "#fb9f3a"
            ],
            [
             0.8888888888888888,
             "#fdca26"
            ],
            [
             1,
             "#f0f921"
            ]
           ],
           "sequentialminus": [
            [
             0,
             "#0d0887"
            ],
            [
             0.1111111111111111,
             "#46039f"
            ],
            [
             0.2222222222222222,
             "#7201a8"
            ],
            [
             0.3333333333333333,
             "#9c179e"
            ],
            [
             0.4444444444444444,
             "#bd3786"
            ],
            [
             0.5555555555555556,
             "#d8576b"
            ],
            [
             0.6666666666666666,
             "#ed7953"
            ],
            [
             0.7777777777777778,
             "#fb9f3a"
            ],
            [
             0.8888888888888888,
             "#fdca26"
            ],
            [
             1,
             "#f0f921"
            ]
           ]
          },
          "colorway": [
           "#636efa",
           "#EF553B",
           "#00cc96",
           "#ab63fa",
           "#FFA15A",
           "#19d3f3",
           "#FF6692",
           "#B6E880",
           "#FF97FF",
           "#FECB52"
          ],
          "font": {
           "color": "#2a3f5f"
          },
          "geo": {
           "bgcolor": "white",
           "lakecolor": "white",
           "landcolor": "#E5ECF6",
           "showlakes": true,
           "showland": true,
           "subunitcolor": "white"
          },
          "hoverlabel": {
           "align": "left"
          },
          "hovermode": "closest",
          "mapbox": {
           "style": "light"
          },
          "paper_bgcolor": "white",
          "plot_bgcolor": "#E5ECF6",
          "polar": {
           "angularaxis": {
            "gridcolor": "white",
            "linecolor": "white",
            "ticks": ""
           },
           "bgcolor": "#E5ECF6",
           "radialaxis": {
            "gridcolor": "white",
            "linecolor": "white",
            "ticks": ""
           }
          },
          "scene": {
           "xaxis": {
            "backgroundcolor": "#E5ECF6",
            "gridcolor": "white",
            "gridwidth": 2,
            "linecolor": "white",
            "showbackground": true,
            "ticks": "",
            "zerolinecolor": "white"
           },
           "yaxis": {
            "backgroundcolor": "#E5ECF6",
            "gridcolor": "white",
            "gridwidth": 2,
            "linecolor": "white",
            "showbackground": true,
            "ticks": "",
            "zerolinecolor": "white"
           },
           "zaxis": {
            "backgroundcolor": "#E5ECF6",
            "gridcolor": "white",
            "gridwidth": 2,
            "linecolor": "white",
            "showbackground": true,
            "ticks": "",
            "zerolinecolor": "white"
           }
          },
          "shapedefaults": {
           "line": {
            "color": "#2a3f5f"
           }
          },
          "ternary": {
           "aaxis": {
            "gridcolor": "white",
            "linecolor": "white",
            "ticks": ""
           },
           "baxis": {
            "gridcolor": "white",
            "linecolor": "white",
            "ticks": ""
           },
           "bgcolor": "#E5ECF6",
           "caxis": {
            "gridcolor": "white",
            "linecolor": "white",
            "ticks": ""
           }
          },
          "title": {
           "x": 0.05
          },
          "xaxis": {
           "automargin": true,
           "gridcolor": "white",
           "linecolor": "white",
           "ticks": "",
           "title": {
            "standoff": 15
           },
           "zerolinecolor": "white",
           "zerolinewidth": 2
          },
          "yaxis": {
           "automargin": true,
           "gridcolor": "white",
           "linecolor": "white",
           "ticks": "",
           "title": {
            "standoff": 15
           },
           "zerolinecolor": "white",
           "zerolinewidth": 2
          }
         }
        },
        "width": 600
       }
      }
     },
     "metadata": {},
     "output_type": "display_data"
    }
   ],
   "source": [
    "fig = px.scatter_mapbox(sliced_air_station_df,\n",
    "                     lat='LATITUD',lon='LONGITUD',\n",
    "                     hover_name=\"ESTACION\",\n",
    "                     zoom=10, \n",
    "                     height=400,\n",
    "                     width=600,\n",
    "                     color = 'NOM_TIPO')\n",
    "\n",
    "fig.update_layout(mapbox_style=\"stamen-terrain\")\n",
    "fig.update_traces(marker={'size': 10})\n",
    "fig.update_layout(margin={\"r\":0,\"t\":0,\"l\":0,\"b\":0})\n",
    "fig.show()\n"
   ]
  },
  {
   "cell_type": "code",
   "execution_count": 71,
   "metadata": {},
   "outputs": [
    {
     "data": {
      "text/html": [
       "<div>\n",
       "<style scoped>\n",
       "    .dataframe tbody tr th:only-of-type {\n",
       "        vertical-align: middle;\n",
       "    }\n",
       "\n",
       "    .dataframe tbody tr th {\n",
       "        vertical-align: top;\n",
       "    }\n",
       "\n",
       "    .dataframe thead th {\n",
       "        text-align: right;\n",
       "    }\n",
       "</style>\n",
       "<table border=\"1\" class=\"dataframe\">\n",
       "  <thead>\n",
       "    <tr style=\"text-align: right;\">\n",
       "      <th></th>\n",
       "      <th>CODIGO</th>\n",
       "      <th>CODIGO_CORTO</th>\n",
       "      <th>ESTACION</th>\n",
       "      <th>DIRECCION</th>\n",
       "      <th>LONGITUD_ETRS89</th>\n",
       "      <th>LATITUD_ETRS89</th>\n",
       "      <th>ALTITUD</th>\n",
       "      <th>COD_TIPO</th>\n",
       "      <th>NOM_TIPO</th>\n",
       "      <th>NO2</th>\n",
       "      <th>...</th>\n",
       "      <th>BTX</th>\n",
       "      <th>COD_VIA</th>\n",
       "      <th>VIA_CLASE</th>\n",
       "      <th>VIA_PAR</th>\n",
       "      <th>VIA_NOMBRE</th>\n",
       "      <th>Fecha alta</th>\n",
       "      <th>COORDENADA_X_ETRS89</th>\n",
       "      <th>COORDENADA_Y_ETRS89</th>\n",
       "      <th>LONGITUD</th>\n",
       "      <th>LATITUD</th>\n",
       "    </tr>\n",
       "  </thead>\n",
       "  <tbody>\n",
       "    <tr>\n",
       "      <th>6</th>\n",
       "      <td>28079024</td>\n",
       "      <td>24</td>\n",
       "      <td>Casa de Campo</td>\n",
       "      <td>Casa de Campo  (Terminal del Teleférico)</td>\n",
       "      <td>3°44'50.44\"O</td>\n",
       "      <td>40°25'9.69\"N</td>\n",
       "      <td>646</td>\n",
       "      <td>S</td>\n",
       "      <td>Suburbana</td>\n",
       "      <td>X</td>\n",
       "      <td>...</td>\n",
       "      <td>X</td>\n",
       "      <td>905219</td>\n",
       "      <td>CARRETERA</td>\n",
       "      <td>DEL</td>\n",
       "      <td>TELEFERICO</td>\n",
       "      <td>01/12/1998</td>\n",
       "      <td>436598,5637</td>\n",
       "      <td>4474571,618</td>\n",
       "      <td>-3.747345</td>\n",
       "      <td>40.419358</td>\n",
       "    </tr>\n",
       "    <tr>\n",
       "      <th>13</th>\n",
       "      <td>28079047</td>\n",
       "      <td>47</td>\n",
       "      <td>Méndez Álvaro</td>\n",
       "      <td>C/ Juan de Mariana / Plaza Amanecer Méndez Álvaro</td>\n",
       "      <td>3°41'12.57\"O</td>\n",
       "      <td>40°23'53.17\"N</td>\n",
       "      <td>600</td>\n",
       "      <td>UF</td>\n",
       "      <td>Urbana fondo</td>\n",
       "      <td>X</td>\n",
       "      <td>...</td>\n",
       "      <td>NaN</td>\n",
       "      <td>414800</td>\n",
       "      <td>CALLE</td>\n",
       "      <td>DE</td>\n",
       "      <td>JUAN DE MARIANA</td>\n",
       "      <td>21/12/2009</td>\n",
       "      <td>441715,4303</td>\n",
       "      <td>4472170,249</td>\n",
       "      <td>-3.686814</td>\n",
       "      <td>40.398099</td>\n",
       "    </tr>\n",
       "    <tr>\n",
       "      <th>16</th>\n",
       "      <td>28079050</td>\n",
       "      <td>50</td>\n",
       "      <td>Plaza Castilla</td>\n",
       "      <td>Plaza Castilla (Canal)</td>\n",
       "      <td>3°41'19.48\"O</td>\n",
       "      <td>40°27'56.10\"N</td>\n",
       "      <td>728</td>\n",
       "      <td>UT</td>\n",
       "      <td>Urbana tráfico</td>\n",
       "      <td>X</td>\n",
       "      <td>...</td>\n",
       "      <td>NaN</td>\n",
       "      <td>154500</td>\n",
       "      <td>PLAZA</td>\n",
       "      <td>DE</td>\n",
       "      <td>CASTILLA</td>\n",
       "      <td>01/02/2010</td>\n",
       "      <td>441609,9474</td>\n",
       "      <td>4479662,346</td>\n",
       "      <td>-3.688745</td>\n",
       "      <td>40.465584</td>\n",
       "    </tr>\n",
       "  </tbody>\n",
       "</table>\n",
       "<p>3 rows × 25 columns</p>\n",
       "</div>"
      ],
      "text/plain": [
       "      CODIGO  CODIGO_CORTO        ESTACION  \\\n",
       "6   28079024            24   Casa de Campo   \n",
       "13  28079047            47   Méndez Álvaro   \n",
       "16  28079050            50  Plaza Castilla   \n",
       "\n",
       "                                            DIRECCION LONGITUD_ETRS89  \\\n",
       "6            Casa de Campo  (Terminal del Teleférico)    3°44'50.44\"O   \n",
       "13  C/ Juan de Mariana / Plaza Amanecer Méndez Álvaro    3°41'12.57\"O   \n",
       "16                             Plaza Castilla (Canal)    3°41'19.48\"O   \n",
       "\n",
       "   LATITUD_ETRS89  ALTITUD COD_TIPO        NOM_TIPO NO2  ...  BTX COD_VIA  \\\n",
       "6    40°25'9.69\"N      646        S       Suburbana   X  ...    X  905219   \n",
       "13  40°23'53.17\"N      600       UF    Urbana fondo   X  ...  NaN  414800   \n",
       "16  40°27'56.10\"N      728       UT  Urbana tráfico   X  ...  NaN  154500   \n",
       "\n",
       "    VIA_CLASE VIA_PAR       VIA_NOMBRE  Fecha alta  COORDENADA_X_ETRS89  \\\n",
       "6   CARRETERA     DEL       TELEFERICO  01/12/1998          436598,5637   \n",
       "13      CALLE      DE  JUAN DE MARIANA  21/12/2009          441715,4303   \n",
       "16      PLAZA      DE         CASTILLA  01/02/2010          441609,9474   \n",
       "\n",
       "   COORDENADA_Y_ETRS89  LONGITUD    LATITUD  \n",
       "6          4474571,618 -3.747345  40.419358  \n",
       "13         4472170,249 -3.686814  40.398099  \n",
       "16         4479662,346 -3.688745  40.465584  \n",
       "\n",
       "[3 rows x 25 columns]"
      ]
     },
     "execution_count": 71,
     "metadata": {},
     "output_type": "execute_result"
    }
   ],
   "source": [
    "selected_air_stations = [24,47, 50]\n",
    "selected_air_stations_df = air_station_df[air_station_df['CODIGO_CORTO'].isin(selected_air_stations)]\n",
    "selected_air_stations_df.head()"
   ]
  },
  {
   "cell_type": "code",
   "execution_count": 96,
   "metadata": {},
   "outputs": [],
   "source": [
    "geometry = [Point(xy) for xy in zip(selected_air_stations_df['LONGITUD'], selected_air_stations_df['LATITUD'])]\n",
    "gdf = GeoDataFrame(selected_air_stations_df, geometry=geometry) "
   ]
  },
  {
   "cell_type": "code",
   "execution_count": 97,
   "metadata": {},
   "outputs": [
    {
     "data": {
      "application/vnd.plotly.v1+json": {
       "config": {
        "plotlyServerURL": "https://plot.ly"
       },
       "data": [
        {
         "customdata": [
          [
           "Casa de Campo",
           "TELEFERICO"
          ]
         ],
         "hovertemplate": "<b>%{hovertext}</b><br><br>NOM_TIPO=Suburbana<br>LATITUD=%{lat}<br>LONGITUD=%{lon}<extra></extra>",
         "hovertext": [
          "Casa de Campo"
         ],
         "lat": [
          40.4193577
         ],
         "legendgroup": "Suburbana",
         "lon": [
          -3.7473445
         ],
         "marker": {
          "color": "#636efa",
          "size": 10
         },
         "mode": "markers",
         "name": "Suburbana",
         "showlegend": true,
         "subplot": "mapbox",
         "type": "scattermapbox"
        },
        {
         "customdata": [
          [
           "Méndez Álvaro",
           "JUAN DE MARIANA"
          ]
         ],
         "hovertemplate": "<b>%{hovertext}</b><br><br>NOM_TIPO=Urbana fondo<br>LATITUD=%{lat}<br>LONGITUD=%{lon}<extra></extra>",
         "hovertext": [
          "Méndez Álvaro"
         ],
         "lat": [
          40.3980991
         ],
         "legendgroup": "Urbana fondo",
         "lon": [
          -3.6868138
         ],
         "marker": {
          "color": "#EF553B",
          "size": 10
         },
         "mode": "markers",
         "name": "Urbana fondo",
         "showlegend": true,
         "subplot": "mapbox",
         "type": "scattermapbox"
        },
        {
         "customdata": [
          [
           "Plaza Castilla",
           "CASTILLA"
          ]
         ],
         "hovertemplate": "<b>%{hovertext}</b><br><br>NOM_TIPO=Urbana tráfico<br>LATITUD=%{lat}<br>LONGITUD=%{lon}<extra></extra>",
         "hovertext": [
          "Plaza Castilla"
         ],
         "lat": [
          40.4655841
         ],
         "legendgroup": "Urbana tráfico",
         "lon": [
          -3.6887449
         ],
         "marker": {
          "color": "#00cc96",
          "size": 10
         },
         "mode": "markers",
         "name": "Urbana tráfico",
         "showlegend": true,
         "subplot": "mapbox",
         "type": "scattermapbox"
        }
       ],
       "layout": {
        "height": 500,
        "legend": {
         "title": {
          "text": "NOM_TIPO"
         },
         "tracegroupgap": 0
        },
        "mapbox": {
         "center": {
          "lat": 40.4276803,
          "lon": -3.7076344
         },
         "domain": {
          "x": [
           0,
           1
          ],
          "y": [
           0,
           1
          ]
         },
         "style": "stamen-terrain",
         "zoom": 10
        },
        "margin": {
         "b": 0,
         "l": 0,
         "r": 0,
         "t": 0
        },
        "template": {
         "data": {
          "bar": [
           {
            "error_x": {
             "color": "#2a3f5f"
            },
            "error_y": {
             "color": "#2a3f5f"
            },
            "marker": {
             "line": {
              "color": "#E5ECF6",
              "width": 0.5
             },
             "pattern": {
              "fillmode": "overlay",
              "size": 10,
              "solidity": 0.2
             }
            },
            "type": "bar"
           }
          ],
          "barpolar": [
           {
            "marker": {
             "line": {
              "color": "#E5ECF6",
              "width": 0.5
             },
             "pattern": {
              "fillmode": "overlay",
              "size": 10,
              "solidity": 0.2
             }
            },
            "type": "barpolar"
           }
          ],
          "carpet": [
           {
            "aaxis": {
             "endlinecolor": "#2a3f5f",
             "gridcolor": "white",
             "linecolor": "white",
             "minorgridcolor": "white",
             "startlinecolor": "#2a3f5f"
            },
            "baxis": {
             "endlinecolor": "#2a3f5f",
             "gridcolor": "white",
             "linecolor": "white",
             "minorgridcolor": "white",
             "startlinecolor": "#2a3f5f"
            },
            "type": "carpet"
           }
          ],
          "choropleth": [
           {
            "colorbar": {
             "outlinewidth": 0,
             "ticks": ""
            },
            "type": "choropleth"
           }
          ],
          "contour": [
           {
            "colorbar": {
             "outlinewidth": 0,
             "ticks": ""
            },
            "colorscale": [
             [
              0,
              "#0d0887"
             ],
             [
              0.1111111111111111,
              "#46039f"
             ],
             [
              0.2222222222222222,
              "#7201a8"
             ],
             [
              0.3333333333333333,
              "#9c179e"
             ],
             [
              0.4444444444444444,
              "#bd3786"
             ],
             [
              0.5555555555555556,
              "#d8576b"
             ],
             [
              0.6666666666666666,
              "#ed7953"
             ],
             [
              0.7777777777777778,
              "#fb9f3a"
             ],
             [
              0.8888888888888888,
              "#fdca26"
             ],
             [
              1,
              "#f0f921"
             ]
            ],
            "type": "contour"
           }
          ],
          "contourcarpet": [
           {
            "colorbar": {
             "outlinewidth": 0,
             "ticks": ""
            },
            "type": "contourcarpet"
           }
          ],
          "heatmap": [
           {
            "colorbar": {
             "outlinewidth": 0,
             "ticks": ""
            },
            "colorscale": [
             [
              0,
              "#0d0887"
             ],
             [
              0.1111111111111111,
              "#46039f"
             ],
             [
              0.2222222222222222,
              "#7201a8"
             ],
             [
              0.3333333333333333,
              "#9c179e"
             ],
             [
              0.4444444444444444,
              "#bd3786"
             ],
             [
              0.5555555555555556,
              "#d8576b"
             ],
             [
              0.6666666666666666,
              "#ed7953"
             ],
             [
              0.7777777777777778,
              "#fb9f3a"
             ],
             [
              0.8888888888888888,
              "#fdca26"
             ],
             [
              1,
              "#f0f921"
             ]
            ],
            "type": "heatmap"
           }
          ],
          "heatmapgl": [
           {
            "colorbar": {
             "outlinewidth": 0,
             "ticks": ""
            },
            "colorscale": [
             [
              0,
              "#0d0887"
             ],
             [
              0.1111111111111111,
              "#46039f"
             ],
             [
              0.2222222222222222,
              "#7201a8"
             ],
             [
              0.3333333333333333,
              "#9c179e"
             ],
             [
              0.4444444444444444,
              "#bd3786"
             ],
             [
              0.5555555555555556,
              "#d8576b"
             ],
             [
              0.6666666666666666,
              "#ed7953"
             ],
             [
              0.7777777777777778,
              "#fb9f3a"
             ],
             [
              0.8888888888888888,
              "#fdca26"
             ],
             [
              1,
              "#f0f921"
             ]
            ],
            "type": "heatmapgl"
           }
          ],
          "histogram": [
           {
            "marker": {
             "pattern": {
              "fillmode": "overlay",
              "size": 10,
              "solidity": 0.2
             }
            },
            "type": "histogram"
           }
          ],
          "histogram2d": [
           {
            "colorbar": {
             "outlinewidth": 0,
             "ticks": ""
            },
            "colorscale": [
             [
              0,
              "#0d0887"
             ],
             [
              0.1111111111111111,
              "#46039f"
             ],
             [
              0.2222222222222222,
              "#7201a8"
             ],
             [
              0.3333333333333333,
              "#9c179e"
             ],
             [
              0.4444444444444444,
              "#bd3786"
             ],
             [
              0.5555555555555556,
              "#d8576b"
             ],
             [
              0.6666666666666666,
              "#ed7953"
             ],
             [
              0.7777777777777778,
              "#fb9f3a"
             ],
             [
              0.8888888888888888,
              "#fdca26"
             ],
             [
              1,
              "#f0f921"
             ]
            ],
            "type": "histogram2d"
           }
          ],
          "histogram2dcontour": [
           {
            "colorbar": {
             "outlinewidth": 0,
             "ticks": ""
            },
            "colorscale": [
             [
              0,
              "#0d0887"
             ],
             [
              0.1111111111111111,
              "#46039f"
             ],
             [
              0.2222222222222222,
              "#7201a8"
             ],
             [
              0.3333333333333333,
              "#9c179e"
             ],
             [
              0.4444444444444444,
              "#bd3786"
             ],
             [
              0.5555555555555556,
              "#d8576b"
             ],
             [
              0.6666666666666666,
              "#ed7953"
             ],
             [
              0.7777777777777778,
              "#fb9f3a"
             ],
             [
              0.8888888888888888,
              "#fdca26"
             ],
             [
              1,
              "#f0f921"
             ]
            ],
            "type": "histogram2dcontour"
           }
          ],
          "mesh3d": [
           {
            "colorbar": {
             "outlinewidth": 0,
             "ticks": ""
            },
            "type": "mesh3d"
           }
          ],
          "parcoords": [
           {
            "line": {
             "colorbar": {
              "outlinewidth": 0,
              "ticks": ""
             }
            },
            "type": "parcoords"
           }
          ],
          "pie": [
           {
            "automargin": true,
            "type": "pie"
           }
          ],
          "scatter": [
           {
            "fillpattern": {
             "fillmode": "overlay",
             "size": 10,
             "solidity": 0.2
            },
            "type": "scatter"
           }
          ],
          "scatter3d": [
           {
            "line": {
             "colorbar": {
              "outlinewidth": 0,
              "ticks": ""
             }
            },
            "marker": {
             "colorbar": {
              "outlinewidth": 0,
              "ticks": ""
             }
            },
            "type": "scatter3d"
           }
          ],
          "scattercarpet": [
           {
            "marker": {
             "colorbar": {
              "outlinewidth": 0,
              "ticks": ""
             }
            },
            "type": "scattercarpet"
           }
          ],
          "scattergeo": [
           {
            "marker": {
             "colorbar": {
              "outlinewidth": 0,
              "ticks": ""
             }
            },
            "type": "scattergeo"
           }
          ],
          "scattergl": [
           {
            "marker": {
             "colorbar": {
              "outlinewidth": 0,
              "ticks": ""
             }
            },
            "type": "scattergl"
           }
          ],
          "scattermapbox": [
           {
            "marker": {
             "colorbar": {
              "outlinewidth": 0,
              "ticks": ""
             }
            },
            "type": "scattermapbox"
           }
          ],
          "scatterpolar": [
           {
            "marker": {
             "colorbar": {
              "outlinewidth": 0,
              "ticks": ""
             }
            },
            "type": "scatterpolar"
           }
          ],
          "scatterpolargl": [
           {
            "marker": {
             "colorbar": {
              "outlinewidth": 0,
              "ticks": ""
             }
            },
            "type": "scatterpolargl"
           }
          ],
          "scatterternary": [
           {
            "marker": {
             "colorbar": {
              "outlinewidth": 0,
              "ticks": ""
             }
            },
            "type": "scatterternary"
           }
          ],
          "surface": [
           {
            "colorbar": {
             "outlinewidth": 0,
             "ticks": ""
            },
            "colorscale": [
             [
              0,
              "#0d0887"
             ],
             [
              0.1111111111111111,
              "#46039f"
             ],
             [
              0.2222222222222222,
              "#7201a8"
             ],
             [
              0.3333333333333333,
              "#9c179e"
             ],
             [
              0.4444444444444444,
              "#bd3786"
             ],
             [
              0.5555555555555556,
              "#d8576b"
             ],
             [
              0.6666666666666666,
              "#ed7953"
             ],
             [
              0.7777777777777778,
              "#fb9f3a"
             ],
             [
              0.8888888888888888,
              "#fdca26"
             ],
             [
              1,
              "#f0f921"
             ]
            ],
            "type": "surface"
           }
          ],
          "table": [
           {
            "cells": {
             "fill": {
              "color": "#EBF0F8"
             },
             "line": {
              "color": "white"
             }
            },
            "header": {
             "fill": {
              "color": "#C8D4E3"
             },
             "line": {
              "color": "white"
             }
            },
            "type": "table"
           }
          ]
         },
         "layout": {
          "annotationdefaults": {
           "arrowcolor": "#2a3f5f",
           "arrowhead": 0,
           "arrowwidth": 1
          },
          "autotypenumbers": "strict",
          "coloraxis": {
           "colorbar": {
            "outlinewidth": 0,
            "ticks": ""
           }
          },
          "colorscale": {
           "diverging": [
            [
             0,
             "#8e0152"
            ],
            [
             0.1,
             "#c51b7d"
            ],
            [
             0.2,
             "#de77ae"
            ],
            [
             0.3,
             "#f1b6da"
            ],
            [
             0.4,
             "#fde0ef"
            ],
            [
             0.5,
             "#f7f7f7"
            ],
            [
             0.6,
             "#e6f5d0"
            ],
            [
             0.7,
             "#b8e186"
            ],
            [
             0.8,
             "#7fbc41"
            ],
            [
             0.9,
             "#4d9221"
            ],
            [
             1,
             "#276419"
            ]
           ],
           "sequential": [
            [
             0,
             "#0d0887"
            ],
            [
             0.1111111111111111,
             "#46039f"
            ],
            [
             0.2222222222222222,
             "#7201a8"
            ],
            [
             0.3333333333333333,
             "#9c179e"
            ],
            [
             0.4444444444444444,
             "#bd3786"
            ],
            [
             0.5555555555555556,
             "#d8576b"
            ],
            [
             0.6666666666666666,
             "#ed7953"
            ],
            [
             0.7777777777777778,
             "#fb9f3a"
            ],
            [
             0.8888888888888888,
             "#fdca26"
            ],
            [
             1,
             "#f0f921"
            ]
           ],
           "sequentialminus": [
            [
             0,
             "#0d0887"
            ],
            [
             0.1111111111111111,
             "#46039f"
            ],
            [
             0.2222222222222222,
             "#7201a8"
            ],
            [
             0.3333333333333333,
             "#9c179e"
            ],
            [
             0.4444444444444444,
             "#bd3786"
            ],
            [
             0.5555555555555556,
             "#d8576b"
            ],
            [
             0.6666666666666666,
             "#ed7953"
            ],
            [
             0.7777777777777778,
             "#fb9f3a"
            ],
            [
             0.8888888888888888,
             "#fdca26"
            ],
            [
             1,
             "#f0f921"
            ]
           ]
          },
          "colorway": [
           "#636efa",
           "#EF553B",
           "#00cc96",
           "#ab63fa",
           "#FFA15A",
           "#19d3f3",
           "#FF6692",
           "#B6E880",
           "#FF97FF",
           "#FECB52"
          ],
          "font": {
           "color": "#2a3f5f"
          },
          "geo": {
           "bgcolor": "white",
           "lakecolor": "white",
           "landcolor": "#E5ECF6",
           "showlakes": true,
           "showland": true,
           "subunitcolor": "white"
          },
          "hoverlabel": {
           "align": "left"
          },
          "hovermode": "closest",
          "mapbox": {
           "style": "light"
          },
          "paper_bgcolor": "white",
          "plot_bgcolor": "#E5ECF6",
          "polar": {
           "angularaxis": {
            "gridcolor": "white",
            "linecolor": "white",
            "ticks": ""
           },
           "bgcolor": "#E5ECF6",
           "radialaxis": {
            "gridcolor": "white",
            "linecolor": "white",
            "ticks": ""
           }
          },
          "scene": {
           "xaxis": {
            "backgroundcolor": "#E5ECF6",
            "gridcolor": "white",
            "gridwidth": 2,
            "linecolor": "white",
            "showbackground": true,
            "ticks": "",
            "zerolinecolor": "white"
           },
           "yaxis": {
            "backgroundcolor": "#E5ECF6",
            "gridcolor": "white",
            "gridwidth": 2,
            "linecolor": "white",
            "showbackground": true,
            "ticks": "",
            "zerolinecolor": "white"
           },
           "zaxis": {
            "backgroundcolor": "#E5ECF6",
            "gridcolor": "white",
            "gridwidth": 2,
            "linecolor": "white",
            "showbackground": true,
            "ticks": "",
            "zerolinecolor": "white"
           }
          },
          "shapedefaults": {
           "line": {
            "color": "#2a3f5f"
           }
          },
          "ternary": {
           "aaxis": {
            "gridcolor": "white",
            "linecolor": "white",
            "ticks": ""
           },
           "baxis": {
            "gridcolor": "white",
            "linecolor": "white",
            "ticks": ""
           },
           "bgcolor": "#E5ECF6",
           "caxis": {
            "gridcolor": "white",
            "linecolor": "white",
            "ticks": ""
           }
          },
          "title": {
           "x": 0.05
          },
          "xaxis": {
           "automargin": true,
           "gridcolor": "white",
           "linecolor": "white",
           "ticks": "",
           "title": {
            "standoff": 15
           },
           "zerolinecolor": "white",
           "zerolinewidth": 2
          },
          "yaxis": {
           "automargin": true,
           "gridcolor": "white",
           "linecolor": "white",
           "ticks": "",
           "title": {
            "standoff": 15
           },
           "zerolinecolor": "white",
           "zerolinewidth": 2
          }
         }
        },
        "width": 800
       }
      }
     },
     "metadata": {},
     "output_type": "display_data"
    }
   ],
   "source": [
    "fig = px.scatter_mapbox(selected_air_stations_df,\n",
    "                     lat='LATITUD',lon='LONGITUD',\n",
    "                     hover_name=\"ESTACION\",\n",
    "                     custom_data=[\"ESTACION\", \"VIA_NOMBRE\"],\n",
    "                     zoom=10, \n",
    "                     height=500,\n",
    "                     width=800,\n",
    "                     color = 'NOM_TIPO')\n",
    "\n",
    "fig.update_layout(mapbox_style=\"stamen-terrain\")\n",
    "fig.update_traces(marker={'size': 10})\n",
    "fig.update_layout(margin={\"r\":0,\"t\":0,\"l\":0,\"b\":0})\n",
    "fig.show()\n"
   ]
  },
  {
   "cell_type": "code",
   "execution_count": 98,
   "metadata": {},
   "outputs": [
    {
     "data": {
      "application/vnd.plotly.v1+json": {
       "config": {
        "plotlyServerURL": "https://plot.ly"
       },
       "data": [
        {
         "customdata": [
          [
           "Casa de Campo",
           "TELEFERICO"
          ]
         ],
         "hovertemplate": "<b>%{hovertext}</b><br><br>NOM_TIPO=Suburbana<br>LATITUD=%{lat}<br>LONGITUD=%{lon}<extra></extra>",
         "hovertext": [
          "Casa de Campo"
         ],
         "lat": [
          40.4193577
         ],
         "legendgroup": "Suburbana",
         "lon": [
          -3.7473445
         ],
         "marker": {
          "color": "#636efa",
          "size": 15
         },
         "mode": "markers",
         "name": "Suburbana",
         "showlegend": true,
         "subplot": "mapbox",
         "type": "scattermapbox"
        },
        {
         "customdata": [
          [
           "Méndez Álvaro",
           "JUAN DE MARIANA"
          ]
         ],
         "hovertemplate": "<b>%{hovertext}</b><br><br>NOM_TIPO=Urbana fondo<br>LATITUD=%{lat}<br>LONGITUD=%{lon}<extra></extra>",
         "hovertext": [
          "Méndez Álvaro"
         ],
         "lat": [
          40.3980991
         ],
         "legendgroup": "Urbana fondo",
         "lon": [
          -3.6868138
         ],
         "marker": {
          "color": "#EF553B",
          "size": 15
         },
         "mode": "markers",
         "name": "Urbana fondo",
         "showlegend": true,
         "subplot": "mapbox",
         "type": "scattermapbox"
        },
        {
         "customdata": [
          [
           "Plaza Castilla",
           "CASTILLA"
          ]
         ],
         "hovertemplate": "<b>%{hovertext}</b><br><br>NOM_TIPO=Urbana tráfico<br>LATITUD=%{lat}<br>LONGITUD=%{lon}<extra></extra>",
         "hovertext": [
          "Plaza Castilla"
         ],
         "lat": [
          40.4655841
         ],
         "legendgroup": "Urbana tráfico",
         "lon": [
          -3.6887449
         ],
         "marker": {
          "color": "#00cc96",
          "size": 15
         },
         "mode": "markers",
         "name": "Urbana tráfico",
         "showlegend": true,
         "subplot": "mapbox",
         "type": "scattermapbox"
        }
       ],
       "layout": {
        "height": 800,
        "legend": {
         "title": {
          "text": "NOM_TIPO"
         },
         "tracegroupgap": 0
        },
        "mapbox": {
         "center": {
          "lat": 40.4276803,
          "lon": -3.7076344
         },
         "domain": {
          "x": [
           0,
           1
          ],
          "y": [
           0,
           1
          ]
         },
         "style": "open-street-map",
         "zoom": 10
        },
        "margin": {
         "b": 0,
         "l": 0,
         "r": 0,
         "t": 0
        },
        "template": {
         "data": {
          "bar": [
           {
            "error_x": {
             "color": "#2a3f5f"
            },
            "error_y": {
             "color": "#2a3f5f"
            },
            "marker": {
             "line": {
              "color": "#E5ECF6",
              "width": 0.5
             },
             "pattern": {
              "fillmode": "overlay",
              "size": 10,
              "solidity": 0.2
             }
            },
            "type": "bar"
           }
          ],
          "barpolar": [
           {
            "marker": {
             "line": {
              "color": "#E5ECF6",
              "width": 0.5
             },
             "pattern": {
              "fillmode": "overlay",
              "size": 10,
              "solidity": 0.2
             }
            },
            "type": "barpolar"
           }
          ],
          "carpet": [
           {
            "aaxis": {
             "endlinecolor": "#2a3f5f",
             "gridcolor": "white",
             "linecolor": "white",
             "minorgridcolor": "white",
             "startlinecolor": "#2a3f5f"
            },
            "baxis": {
             "endlinecolor": "#2a3f5f",
             "gridcolor": "white",
             "linecolor": "white",
             "minorgridcolor": "white",
             "startlinecolor": "#2a3f5f"
            },
            "type": "carpet"
           }
          ],
          "choropleth": [
           {
            "colorbar": {
             "outlinewidth": 0,
             "ticks": ""
            },
            "type": "choropleth"
           }
          ],
          "contour": [
           {
            "colorbar": {
             "outlinewidth": 0,
             "ticks": ""
            },
            "colorscale": [
             [
              0,
              "#0d0887"
             ],
             [
              0.1111111111111111,
              "#46039f"
             ],
             [
              0.2222222222222222,
              "#7201a8"
             ],
             [
              0.3333333333333333,
              "#9c179e"
             ],
             [
              0.4444444444444444,
              "#bd3786"
             ],
             [
              0.5555555555555556,
              "#d8576b"
             ],
             [
              0.6666666666666666,
              "#ed7953"
             ],
             [
              0.7777777777777778,
              "#fb9f3a"
             ],
             [
              0.8888888888888888,
              "#fdca26"
             ],
             [
              1,
              "#f0f921"
             ]
            ],
            "type": "contour"
           }
          ],
          "contourcarpet": [
           {
            "colorbar": {
             "outlinewidth": 0,
             "ticks": ""
            },
            "type": "contourcarpet"
           }
          ],
          "heatmap": [
           {
            "colorbar": {
             "outlinewidth": 0,
             "ticks": ""
            },
            "colorscale": [
             [
              0,
              "#0d0887"
             ],
             [
              0.1111111111111111,
              "#46039f"
             ],
             [
              0.2222222222222222,
              "#7201a8"
             ],
             [
              0.3333333333333333,
              "#9c179e"
             ],
             [
              0.4444444444444444,
              "#bd3786"
             ],
             [
              0.5555555555555556,
              "#d8576b"
             ],
             [
              0.6666666666666666,
              "#ed7953"
             ],
             [
              0.7777777777777778,
              "#fb9f3a"
             ],
             [
              0.8888888888888888,
              "#fdca26"
             ],
             [
              1,
              "#f0f921"
             ]
            ],
            "type": "heatmap"
           }
          ],
          "heatmapgl": [
           {
            "colorbar": {
             "outlinewidth": 0,
             "ticks": ""
            },
            "colorscale": [
             [
              0,
              "#0d0887"
             ],
             [
              0.1111111111111111,
              "#46039f"
             ],
             [
              0.2222222222222222,
              "#7201a8"
             ],
             [
              0.3333333333333333,
              "#9c179e"
             ],
             [
              0.4444444444444444,
              "#bd3786"
             ],
             [
              0.5555555555555556,
              "#d8576b"
             ],
             [
              0.6666666666666666,
              "#ed7953"
             ],
             [
              0.7777777777777778,
              "#fb9f3a"
             ],
             [
              0.8888888888888888,
              "#fdca26"
             ],
             [
              1,
              "#f0f921"
             ]
            ],
            "type": "heatmapgl"
           }
          ],
          "histogram": [
           {
            "marker": {
             "pattern": {
              "fillmode": "overlay",
              "size": 10,
              "solidity": 0.2
             }
            },
            "type": "histogram"
           }
          ],
          "histogram2d": [
           {
            "colorbar": {
             "outlinewidth": 0,
             "ticks": ""
            },
            "colorscale": [
             [
              0,
              "#0d0887"
             ],
             [
              0.1111111111111111,
              "#46039f"
             ],
             [
              0.2222222222222222,
              "#7201a8"
             ],
             [
              0.3333333333333333,
              "#9c179e"
             ],
             [
              0.4444444444444444,
              "#bd3786"
             ],
             [
              0.5555555555555556,
              "#d8576b"
             ],
             [
              0.6666666666666666,
              "#ed7953"
             ],
             [
              0.7777777777777778,
              "#fb9f3a"
             ],
             [
              0.8888888888888888,
              "#fdca26"
             ],
             [
              1,
              "#f0f921"
             ]
            ],
            "type": "histogram2d"
           }
          ],
          "histogram2dcontour": [
           {
            "colorbar": {
             "outlinewidth": 0,
             "ticks": ""
            },
            "colorscale": [
             [
              0,
              "#0d0887"
             ],
             [
              0.1111111111111111,
              "#46039f"
             ],
             [
              0.2222222222222222,
              "#7201a8"
             ],
             [
              0.3333333333333333,
              "#9c179e"
             ],
             [
              0.4444444444444444,
              "#bd3786"
             ],
             [
              0.5555555555555556,
              "#d8576b"
             ],
             [
              0.6666666666666666,
              "#ed7953"
             ],
             [
              0.7777777777777778,
              "#fb9f3a"
             ],
             [
              0.8888888888888888,
              "#fdca26"
             ],
             [
              1,
              "#f0f921"
             ]
            ],
            "type": "histogram2dcontour"
           }
          ],
          "mesh3d": [
           {
            "colorbar": {
             "outlinewidth": 0,
             "ticks": ""
            },
            "type": "mesh3d"
           }
          ],
          "parcoords": [
           {
            "line": {
             "colorbar": {
              "outlinewidth": 0,
              "ticks": ""
             }
            },
            "type": "parcoords"
           }
          ],
          "pie": [
           {
            "automargin": true,
            "type": "pie"
           }
          ],
          "scatter": [
           {
            "fillpattern": {
             "fillmode": "overlay",
             "size": 10,
             "solidity": 0.2
            },
            "type": "scatter"
           }
          ],
          "scatter3d": [
           {
            "line": {
             "colorbar": {
              "outlinewidth": 0,
              "ticks": ""
             }
            },
            "marker": {
             "colorbar": {
              "outlinewidth": 0,
              "ticks": ""
             }
            },
            "type": "scatter3d"
           }
          ],
          "scattercarpet": [
           {
            "marker": {
             "colorbar": {
              "outlinewidth": 0,
              "ticks": ""
             }
            },
            "type": "scattercarpet"
           }
          ],
          "scattergeo": [
           {
            "marker": {
             "colorbar": {
              "outlinewidth": 0,
              "ticks": ""
             }
            },
            "type": "scattergeo"
           }
          ],
          "scattergl": [
           {
            "marker": {
             "colorbar": {
              "outlinewidth": 0,
              "ticks": ""
             }
            },
            "type": "scattergl"
           }
          ],
          "scattermapbox": [
           {
            "marker": {
             "colorbar": {
              "outlinewidth": 0,
              "ticks": ""
             }
            },
            "type": "scattermapbox"
           }
          ],
          "scatterpolar": [
           {
            "marker": {
             "colorbar": {
              "outlinewidth": 0,
              "ticks": ""
             }
            },
            "type": "scatterpolar"
           }
          ],
          "scatterpolargl": [
           {
            "marker": {
             "colorbar": {
              "outlinewidth": 0,
              "ticks": ""
             }
            },
            "type": "scatterpolargl"
           }
          ],
          "scatterternary": [
           {
            "marker": {
             "colorbar": {
              "outlinewidth": 0,
              "ticks": ""
             }
            },
            "type": "scatterternary"
           }
          ],
          "surface": [
           {
            "colorbar": {
             "outlinewidth": 0,
             "ticks": ""
            },
            "colorscale": [
             [
              0,
              "#0d0887"
             ],
             [
              0.1111111111111111,
              "#46039f"
             ],
             [
              0.2222222222222222,
              "#7201a8"
             ],
             [
              0.3333333333333333,
              "#9c179e"
             ],
             [
              0.4444444444444444,
              "#bd3786"
             ],
             [
              0.5555555555555556,
              "#d8576b"
             ],
             [
              0.6666666666666666,
              "#ed7953"
             ],
             [
              0.7777777777777778,
              "#fb9f3a"
             ],
             [
              0.8888888888888888,
              "#fdca26"
             ],
             [
              1,
              "#f0f921"
             ]
            ],
            "type": "surface"
           }
          ],
          "table": [
           {
            "cells": {
             "fill": {
              "color": "#EBF0F8"
             },
             "line": {
              "color": "white"
             }
            },
            "header": {
             "fill": {
              "color": "#C8D4E3"
             },
             "line": {
              "color": "white"
             }
            },
            "type": "table"
           }
          ]
         },
         "layout": {
          "annotationdefaults": {
           "arrowcolor": "#2a3f5f",
           "arrowhead": 0,
           "arrowwidth": 1
          },
          "autotypenumbers": "strict",
          "coloraxis": {
           "colorbar": {
            "outlinewidth": 0,
            "ticks": ""
           }
          },
          "colorscale": {
           "diverging": [
            [
             0,
             "#8e0152"
            ],
            [
             0.1,
             "#c51b7d"
            ],
            [
             0.2,
             "#de77ae"
            ],
            [
             0.3,
             "#f1b6da"
            ],
            [
             0.4,
             "#fde0ef"
            ],
            [
             0.5,
             "#f7f7f7"
            ],
            [
             0.6,
             "#e6f5d0"
            ],
            [
             0.7,
             "#b8e186"
            ],
            [
             0.8,
             "#7fbc41"
            ],
            [
             0.9,
             "#4d9221"
            ],
            [
             1,
             "#276419"
            ]
           ],
           "sequential": [
            [
             0,
             "#0d0887"
            ],
            [
             0.1111111111111111,
             "#46039f"
            ],
            [
             0.2222222222222222,
             "#7201a8"
            ],
            [
             0.3333333333333333,
             "#9c179e"
            ],
            [
             0.4444444444444444,
             "#bd3786"
            ],
            [
             0.5555555555555556,
             "#d8576b"
            ],
            [
             0.6666666666666666,
             "#ed7953"
            ],
            [
             0.7777777777777778,
             "#fb9f3a"
            ],
            [
             0.8888888888888888,
             "#fdca26"
            ],
            [
             1,
             "#f0f921"
            ]
           ],
           "sequentialminus": [
            [
             0,
             "#0d0887"
            ],
            [
             0.1111111111111111,
             "#46039f"
            ],
            [
             0.2222222222222222,
             "#7201a8"
            ],
            [
             0.3333333333333333,
             "#9c179e"
            ],
            [
             0.4444444444444444,
             "#bd3786"
            ],
            [
             0.5555555555555556,
             "#d8576b"
            ],
            [
             0.6666666666666666,
             "#ed7953"
            ],
            [
             0.7777777777777778,
             "#fb9f3a"
            ],
            [
             0.8888888888888888,
             "#fdca26"
            ],
            [
             1,
             "#f0f921"
            ]
           ]
          },
          "colorway": [
           "#636efa",
           "#EF553B",
           "#00cc96",
           "#ab63fa",
           "#FFA15A",
           "#19d3f3",
           "#FF6692",
           "#B6E880",
           "#FF97FF",
           "#FECB52"
          ],
          "font": {
           "color": "#2a3f5f"
          },
          "geo": {
           "bgcolor": "white",
           "lakecolor": "white",
           "landcolor": "#E5ECF6",
           "showlakes": true,
           "showland": true,
           "subunitcolor": "white"
          },
          "hoverlabel": {
           "align": "left"
          },
          "hovermode": "closest",
          "mapbox": {
           "style": "light"
          },
          "paper_bgcolor": "white",
          "plot_bgcolor": "#E5ECF6",
          "polar": {
           "angularaxis": {
            "gridcolor": "white",
            "linecolor": "white",
            "ticks": ""
           },
           "bgcolor": "#E5ECF6",
           "radialaxis": {
            "gridcolor": "white",
            "linecolor": "white",
            "ticks": ""
           }
          },
          "scene": {
           "xaxis": {
            "backgroundcolor": "#E5ECF6",
            "gridcolor": "white",
            "gridwidth": 2,
            "linecolor": "white",
            "showbackground": true,
            "ticks": "",
            "zerolinecolor": "white"
           },
           "yaxis": {
            "backgroundcolor": "#E5ECF6",
            "gridcolor": "white",
            "gridwidth": 2,
            "linecolor": "white",
            "showbackground": true,
            "ticks": "",
            "zerolinecolor": "white"
           },
           "zaxis": {
            "backgroundcolor": "#E5ECF6",
            "gridcolor": "white",
            "gridwidth": 2,
            "linecolor": "white",
            "showbackground": true,
            "ticks": "",
            "zerolinecolor": "white"
           }
          },
          "shapedefaults": {
           "line": {
            "color": "#2a3f5f"
           }
          },
          "ternary": {
           "aaxis": {
            "gridcolor": "white",
            "linecolor": "white",
            "ticks": ""
           },
           "baxis": {
            "gridcolor": "white",
            "linecolor": "white",
            "ticks": ""
           },
           "bgcolor": "#E5ECF6",
           "caxis": {
            "gridcolor": "white",
            "linecolor": "white",
            "ticks": ""
           }
          },
          "title": {
           "x": 0.05
          },
          "xaxis": {
           "automargin": true,
           "gridcolor": "white",
           "linecolor": "white",
           "ticks": "",
           "title": {
            "standoff": 15
           },
           "zerolinecolor": "white",
           "zerolinewidth": 2
          },
          "yaxis": {
           "automargin": true,
           "gridcolor": "white",
           "linecolor": "white",
           "ticks": "",
           "title": {
            "standoff": 15
           },
           "zerolinecolor": "white",
           "zerolinewidth": 2
          }
         }
        },
        "width": 800
       }
      }
     },
     "metadata": {},
     "output_type": "display_data"
    }
   ],
   "source": [
    "from pydoc import visiblename\n",
    "\n",
    "\n",
    "fig = px.scatter_mapbox(selected_air_stations_df,\n",
    "                     lat='LATITUD',lon='LONGITUD',\n",
    "                     hover_name=\"ESTACION\",\n",
    "                     custom_data=[\"ESTACION\", \"VIA_NOMBRE\"],\n",
    "                     zoom=10, \n",
    "                     height=800,\n",
    "                     width=800,\n",
    "                     color = 'NOM_TIPO')\n",
    "fig.update_layout(mapbox_style=\"open-street-map\")\n",
    "fig.update_traces(marker={'size': 15})\n",
    "fig.update_layout(margin={\"r\":0,\"t\":0,\"l\":0,\"b\":0})\n",
    "fig.show()"
   ]
  },
  {
   "cell_type": "markdown",
   "metadata": {},
   "source": [
    "## MERGE 2 DATAFRAME FOR PLOTTING"
   ]
  },
  {
   "cell_type": "code",
   "execution_count": 99,
   "metadata": {},
   "outputs": [
    {
     "name": "stderr",
     "output_type": "stream",
     "text": [
      "/var/folders/tl/rdcj6pp130g_pdpr6thc58qr0000gn/T/ipykernel_25930/4204272646.py:2: SettingWithCopyWarning:\n",
      "\n",
      "\n",
      "A value is trying to be set on a copy of a slice from a DataFrame.\n",
      "Try using .loc[row_indexer,col_indexer] = value instead\n",
      "\n",
      "See the caveats in the documentation: https://pandas.pydata.org/pandas-docs/stable/user_guide/indexing.html#returning-a-view-versus-a-copy\n",
      "\n"
     ]
    }
   ],
   "source": [
    "selected_air_stations_df['station_type'] = 'air station'\n",
    "selected_meteor_stations_df['station_type'] = 'meteorlogical station'"
   ]
  },
  {
   "cell_type": "code",
   "execution_count": 100,
   "metadata": {},
   "outputs": [],
   "source": [
    "selected_meteor_stations_df = selected_meteor_stations_df.rename(columns={\"ESTACIÓN\" : \"ESTACION\"})"
   ]
  },
  {
   "cell_type": "code",
   "execution_count": 101,
   "metadata": {},
   "outputs": [],
   "source": [
    "combined_df = pd.concat([selected_air_stations_df, selected_meteor_stations_df])"
   ]
  },
  {
   "cell_type": "code",
   "execution_count": 102,
   "metadata": {},
   "outputs": [
    {
     "data": {
      "application/vnd.plotly.v1+json": {
       "config": {
        "plotlyServerURL": "https://plot.ly"
       },
       "data": [
        {
         "hovertemplate": "<b>%{hovertext}</b><br><br>station_type=air station<br>LATITUD=%{lat}<br>LONGITUD=%{lon}<extra></extra>",
         "hovertext": [
          "Casa de Campo",
          "Méndez Álvaro",
          "Plaza Castilla"
         ],
         "lat": [
          40.4193577,
          40.3980991,
          40.4655841
         ],
         "legendgroup": "air station",
         "lon": [
          -3.7473445,
          -3.6868138,
          -3.6887449
         ],
         "marker": {
          "color": "#636efa",
          "size": 15
         },
         "mode": "markers",
         "name": "air station",
         "showlegend": true,
         "subplot": "mapbox",
         "type": "scattermapbox"
        },
        {
         "hovertemplate": "<b>%{hovertext}</b><br><br>station_type=meteorlogical station<br>LATITUD=%{lat}<br>LONGITUD=%{lon}<extra></extra>",
         "hovertext": [
          "Casa de Campo",
          "Ensanche de Vallecas",
          "Juan Carlos I",
          "J.M.D. Moratalaz",
          "J.M.D. Villaverde",
          "Centro Mpal. De Acústica",
          "J.M.D. Hortaleza",
          "Peñagrande"
         ],
         "lat": [
          40.4193577,
          40.3730118,
          40.4607255,
          40.39979278,
          40.3506278,
          40.442222,
          40.462778,
          40.4766333
         ],
         "legendgroup": "meteorlogical station",
         "lon": [
          -3.7473445,
          -3.6121394,
          -3.6163407,
          -3.63563705,
          -3.70952476,
          -3.74,
          -3.656667,
          -3.717881
         ],
         "marker": {
          "color": "#EF553B",
          "size": 15
         },
         "mode": "markers",
         "name": "meteorlogical station",
         "showlegend": true,
         "subplot": "mapbox",
         "type": "scattermapbox"
        }
       ],
       "layout": {
        "height": 500,
        "legend": {
         "title": {
          "text": "station_type"
         },
         "tracegroupgap": 0
        },
        "mapbox": {
         "center": {
          "lat": 40.42438088909091,
          "lon": -3.6871306918181816
         },
         "domain": {
          "x": [
           0,
           1
          ],
          "y": [
           0,
           1
          ]
         },
         "style": "stamen-terrain",
         "zoom": 10
        },
        "margin": {
         "b": 0,
         "l": 0,
         "r": 0,
         "t": 0
        },
        "template": {
         "data": {
          "bar": [
           {
            "error_x": {
             "color": "#2a3f5f"
            },
            "error_y": {
             "color": "#2a3f5f"
            },
            "marker": {
             "line": {
              "color": "#E5ECF6",
              "width": 0.5
             },
             "pattern": {
              "fillmode": "overlay",
              "size": 10,
              "solidity": 0.2
             }
            },
            "type": "bar"
           }
          ],
          "barpolar": [
           {
            "marker": {
             "line": {
              "color": "#E5ECF6",
              "width": 0.5
             },
             "pattern": {
              "fillmode": "overlay",
              "size": 10,
              "solidity": 0.2
             }
            },
            "type": "barpolar"
           }
          ],
          "carpet": [
           {
            "aaxis": {
             "endlinecolor": "#2a3f5f",
             "gridcolor": "white",
             "linecolor": "white",
             "minorgridcolor": "white",
             "startlinecolor": "#2a3f5f"
            },
            "baxis": {
             "endlinecolor": "#2a3f5f",
             "gridcolor": "white",
             "linecolor": "white",
             "minorgridcolor": "white",
             "startlinecolor": "#2a3f5f"
            },
            "type": "carpet"
           }
          ],
          "choropleth": [
           {
            "colorbar": {
             "outlinewidth": 0,
             "ticks": ""
            },
            "type": "choropleth"
           }
          ],
          "contour": [
           {
            "colorbar": {
             "outlinewidth": 0,
             "ticks": ""
            },
            "colorscale": [
             [
              0,
              "#0d0887"
             ],
             [
              0.1111111111111111,
              "#46039f"
             ],
             [
              0.2222222222222222,
              "#7201a8"
             ],
             [
              0.3333333333333333,
              "#9c179e"
             ],
             [
              0.4444444444444444,
              "#bd3786"
             ],
             [
              0.5555555555555556,
              "#d8576b"
             ],
             [
              0.6666666666666666,
              "#ed7953"
             ],
             [
              0.7777777777777778,
              "#fb9f3a"
             ],
             [
              0.8888888888888888,
              "#fdca26"
             ],
             [
              1,
              "#f0f921"
             ]
            ],
            "type": "contour"
           }
          ],
          "contourcarpet": [
           {
            "colorbar": {
             "outlinewidth": 0,
             "ticks": ""
            },
            "type": "contourcarpet"
           }
          ],
          "heatmap": [
           {
            "colorbar": {
             "outlinewidth": 0,
             "ticks": ""
            },
            "colorscale": [
             [
              0,
              "#0d0887"
             ],
             [
              0.1111111111111111,
              "#46039f"
             ],
             [
              0.2222222222222222,
              "#7201a8"
             ],
             [
              0.3333333333333333,
              "#9c179e"
             ],
             [
              0.4444444444444444,
              "#bd3786"
             ],
             [
              0.5555555555555556,
              "#d8576b"
             ],
             [
              0.6666666666666666,
              "#ed7953"
             ],
             [
              0.7777777777777778,
              "#fb9f3a"
             ],
             [
              0.8888888888888888,
              "#fdca26"
             ],
             [
              1,
              "#f0f921"
             ]
            ],
            "type": "heatmap"
           }
          ],
          "heatmapgl": [
           {
            "colorbar": {
             "outlinewidth": 0,
             "ticks": ""
            },
            "colorscale": [
             [
              0,
              "#0d0887"
             ],
             [
              0.1111111111111111,
              "#46039f"
             ],
             [
              0.2222222222222222,
              "#7201a8"
             ],
             [
              0.3333333333333333,
              "#9c179e"
             ],
             [
              0.4444444444444444,
              "#bd3786"
             ],
             [
              0.5555555555555556,
              "#d8576b"
             ],
             [
              0.6666666666666666,
              "#ed7953"
             ],
             [
              0.7777777777777778,
              "#fb9f3a"
             ],
             [
              0.8888888888888888,
              "#fdca26"
             ],
             [
              1,
              "#f0f921"
             ]
            ],
            "type": "heatmapgl"
           }
          ],
          "histogram": [
           {
            "marker": {
             "pattern": {
              "fillmode": "overlay",
              "size": 10,
              "solidity": 0.2
             }
            },
            "type": "histogram"
           }
          ],
          "histogram2d": [
           {
            "colorbar": {
             "outlinewidth": 0,
             "ticks": ""
            },
            "colorscale": [
             [
              0,
              "#0d0887"
             ],
             [
              0.1111111111111111,
              "#46039f"
             ],
             [
              0.2222222222222222,
              "#7201a8"
             ],
             [
              0.3333333333333333,
              "#9c179e"
             ],
             [
              0.4444444444444444,
              "#bd3786"
             ],
             [
              0.5555555555555556,
              "#d8576b"
             ],
             [
              0.6666666666666666,
              "#ed7953"
             ],
             [
              0.7777777777777778,
              "#fb9f3a"
             ],
             [
              0.8888888888888888,
              "#fdca26"
             ],
             [
              1,
              "#f0f921"
             ]
            ],
            "type": "histogram2d"
           }
          ],
          "histogram2dcontour": [
           {
            "colorbar": {
             "outlinewidth": 0,
             "ticks": ""
            },
            "colorscale": [
             [
              0,
              "#0d0887"
             ],
             [
              0.1111111111111111,
              "#46039f"
             ],
             [
              0.2222222222222222,
              "#7201a8"
             ],
             [
              0.3333333333333333,
              "#9c179e"
             ],
             [
              0.4444444444444444,
              "#bd3786"
             ],
             [
              0.5555555555555556,
              "#d8576b"
             ],
             [
              0.6666666666666666,
              "#ed7953"
             ],
             [
              0.7777777777777778,
              "#fb9f3a"
             ],
             [
              0.8888888888888888,
              "#fdca26"
             ],
             [
              1,
              "#f0f921"
             ]
            ],
            "type": "histogram2dcontour"
           }
          ],
          "mesh3d": [
           {
            "colorbar": {
             "outlinewidth": 0,
             "ticks": ""
            },
            "type": "mesh3d"
           }
          ],
          "parcoords": [
           {
            "line": {
             "colorbar": {
              "outlinewidth": 0,
              "ticks": ""
             }
            },
            "type": "parcoords"
           }
          ],
          "pie": [
           {
            "automargin": true,
            "type": "pie"
           }
          ],
          "scatter": [
           {
            "fillpattern": {
             "fillmode": "overlay",
             "size": 10,
             "solidity": 0.2
            },
            "type": "scatter"
           }
          ],
          "scatter3d": [
           {
            "line": {
             "colorbar": {
              "outlinewidth": 0,
              "ticks": ""
             }
            },
            "marker": {
             "colorbar": {
              "outlinewidth": 0,
              "ticks": ""
             }
            },
            "type": "scatter3d"
           }
          ],
          "scattercarpet": [
           {
            "marker": {
             "colorbar": {
              "outlinewidth": 0,
              "ticks": ""
             }
            },
            "type": "scattercarpet"
           }
          ],
          "scattergeo": [
           {
            "marker": {
             "colorbar": {
              "outlinewidth": 0,
              "ticks": ""
             }
            },
            "type": "scattergeo"
           }
          ],
          "scattergl": [
           {
            "marker": {
             "colorbar": {
              "outlinewidth": 0,
              "ticks": ""
             }
            },
            "type": "scattergl"
           }
          ],
          "scattermapbox": [
           {
            "marker": {
             "colorbar": {
              "outlinewidth": 0,
              "ticks": ""
             }
            },
            "type": "scattermapbox"
           }
          ],
          "scatterpolar": [
           {
            "marker": {
             "colorbar": {
              "outlinewidth": 0,
              "ticks": ""
             }
            },
            "type": "scatterpolar"
           }
          ],
          "scatterpolargl": [
           {
            "marker": {
             "colorbar": {
              "outlinewidth": 0,
              "ticks": ""
             }
            },
            "type": "scatterpolargl"
           }
          ],
          "scatterternary": [
           {
            "marker": {
             "colorbar": {
              "outlinewidth": 0,
              "ticks": ""
             }
            },
            "type": "scatterternary"
           }
          ],
          "surface": [
           {
            "colorbar": {
             "outlinewidth": 0,
             "ticks": ""
            },
            "colorscale": [
             [
              0,
              "#0d0887"
             ],
             [
              0.1111111111111111,
              "#46039f"
             ],
             [
              0.2222222222222222,
              "#7201a8"
             ],
             [
              0.3333333333333333,
              "#9c179e"
             ],
             [
              0.4444444444444444,
              "#bd3786"
             ],
             [
              0.5555555555555556,
              "#d8576b"
             ],
             [
              0.6666666666666666,
              "#ed7953"
             ],
             [
              0.7777777777777778,
              "#fb9f3a"
             ],
             [
              0.8888888888888888,
              "#fdca26"
             ],
             [
              1,
              "#f0f921"
             ]
            ],
            "type": "surface"
           }
          ],
          "table": [
           {
            "cells": {
             "fill": {
              "color": "#EBF0F8"
             },
             "line": {
              "color": "white"
             }
            },
            "header": {
             "fill": {
              "color": "#C8D4E3"
             },
             "line": {
              "color": "white"
             }
            },
            "type": "table"
           }
          ]
         },
         "layout": {
          "annotationdefaults": {
           "arrowcolor": "#2a3f5f",
           "arrowhead": 0,
           "arrowwidth": 1
          },
          "autotypenumbers": "strict",
          "coloraxis": {
           "colorbar": {
            "outlinewidth": 0,
            "ticks": ""
           }
          },
          "colorscale": {
           "diverging": [
            [
             0,
             "#8e0152"
            ],
            [
             0.1,
             "#c51b7d"
            ],
            [
             0.2,
             "#de77ae"
            ],
            [
             0.3,
             "#f1b6da"
            ],
            [
             0.4,
             "#fde0ef"
            ],
            [
             0.5,
             "#f7f7f7"
            ],
            [
             0.6,
             "#e6f5d0"
            ],
            [
             0.7,
             "#b8e186"
            ],
            [
             0.8,
             "#7fbc41"
            ],
            [
             0.9,
             "#4d9221"
            ],
            [
             1,
             "#276419"
            ]
           ],
           "sequential": [
            [
             0,
             "#0d0887"
            ],
            [
             0.1111111111111111,
             "#46039f"
            ],
            [
             0.2222222222222222,
             "#7201a8"
            ],
            [
             0.3333333333333333,
             "#9c179e"
            ],
            [
             0.4444444444444444,
             "#bd3786"
            ],
            [
             0.5555555555555556,
             "#d8576b"
            ],
            [
             0.6666666666666666,
             "#ed7953"
            ],
            [
             0.7777777777777778,
             "#fb9f3a"
            ],
            [
             0.8888888888888888,
             "#fdca26"
            ],
            [
             1,
             "#f0f921"
            ]
           ],
           "sequentialminus": [
            [
             0,
             "#0d0887"
            ],
            [
             0.1111111111111111,
             "#46039f"
            ],
            [
             0.2222222222222222,
             "#7201a8"
            ],
            [
             0.3333333333333333,
             "#9c179e"
            ],
            [
             0.4444444444444444,
             "#bd3786"
            ],
            [
             0.5555555555555556,
             "#d8576b"
            ],
            [
             0.6666666666666666,
             "#ed7953"
            ],
            [
             0.7777777777777778,
             "#fb9f3a"
            ],
            [
             0.8888888888888888,
             "#fdca26"
            ],
            [
             1,
             "#f0f921"
            ]
           ]
          },
          "colorway": [
           "#636efa",
           "#EF553B",
           "#00cc96",
           "#ab63fa",
           "#FFA15A",
           "#19d3f3",
           "#FF6692",
           "#B6E880",
           "#FF97FF",
           "#FECB52"
          ],
          "font": {
           "color": "#2a3f5f"
          },
          "geo": {
           "bgcolor": "white",
           "lakecolor": "white",
           "landcolor": "#E5ECF6",
           "showlakes": true,
           "showland": true,
           "subunitcolor": "white"
          },
          "hoverlabel": {
           "align": "left"
          },
          "hovermode": "closest",
          "mapbox": {
           "style": "light"
          },
          "paper_bgcolor": "white",
          "plot_bgcolor": "#E5ECF6",
          "polar": {
           "angularaxis": {
            "gridcolor": "white",
            "linecolor": "white",
            "ticks": ""
           },
           "bgcolor": "#E5ECF6",
           "radialaxis": {
            "gridcolor": "white",
            "linecolor": "white",
            "ticks": ""
           }
          },
          "scene": {
           "xaxis": {
            "backgroundcolor": "#E5ECF6",
            "gridcolor": "white",
            "gridwidth": 2,
            "linecolor": "white",
            "showbackground": true,
            "ticks": "",
            "zerolinecolor": "white"
           },
           "yaxis": {
            "backgroundcolor": "#E5ECF6",
            "gridcolor": "white",
            "gridwidth": 2,
            "linecolor": "white",
            "showbackground": true,
            "ticks": "",
            "zerolinecolor": "white"
           },
           "zaxis": {
            "backgroundcolor": "#E5ECF6",
            "gridcolor": "white",
            "gridwidth": 2,
            "linecolor": "white",
            "showbackground": true,
            "ticks": "",
            "zerolinecolor": "white"
           }
          },
          "shapedefaults": {
           "line": {
            "color": "#2a3f5f"
           }
          },
          "ternary": {
           "aaxis": {
            "gridcolor": "white",
            "linecolor": "white",
            "ticks": ""
           },
           "baxis": {
            "gridcolor": "white",
            "linecolor": "white",
            "ticks": ""
           },
           "bgcolor": "#E5ECF6",
           "caxis": {
            "gridcolor": "white",
            "linecolor": "white",
            "ticks": ""
           }
          },
          "title": {
           "x": 0.05
          },
          "xaxis": {
           "automargin": true,
           "gridcolor": "white",
           "linecolor": "white",
           "ticks": "",
           "title": {
            "standoff": 15
           },
           "zerolinecolor": "white",
           "zerolinewidth": 2
          },
          "yaxis": {
           "automargin": true,
           "gridcolor": "white",
           "linecolor": "white",
           "ticks": "",
           "title": {
            "standoff": 15
           },
           "zerolinecolor": "white",
           "zerolinewidth": 2
          }
         }
        },
        "width": 1000
       }
      }
     },
     "metadata": {},
     "output_type": "display_data"
    }
   ],
   "source": [
    "fig = px.scatter_mapbox(combined_df,\n",
    "                     lat='LATITUD',lon='LONGITUD',\n",
    "                     hover_name=\"ESTACION\",\n",
    "                     zoom=10, \n",
    "                     height=500,\n",
    "                     width=1000,\n",
    "                     color = \"station_type\",\n",
    "                     )\n",
    "fig.update_layout(mapbox_style=\"stamen-terrain\")\n",
    "fig.update_traces(marker={'size': 15})\n",
    "fig.update_layout(margin={\"r\":0,\"t\":0,\"l\":0,\"b\":0})\n",
    "fig.show()"
   ]
  },
  {
   "cell_type": "code",
   "execution_count": 114,
   "metadata": {},
   "outputs": [
    {
     "data": {
      "text/plain": [
       "6     24.0\n",
       "13    47.0\n",
       "16    50.0\n",
       "4      NaN\n",
       "9      NaN\n",
       "12     NaN\n",
       "13     NaN\n",
       "14     NaN\n",
       "16     NaN\n",
       "17     NaN\n",
       "18     NaN\n",
       "Name: CODIGO_CORTO, dtype: float64"
      ]
     },
     "execution_count": 114,
     "metadata": {},
     "output_type": "execute_result"
    }
   ],
   "source": [
    "[0,1,2,3,4,6,9]"
   ]
  },
  {
   "cell_type": "code",
   "execution_count": 132,
   "metadata": {},
   "outputs": [
    {
     "name": "stderr",
     "output_type": "stream",
     "text": [
      "/var/folders/tl/rdcj6pp130g_pdpr6thc58qr0000gn/T/ipykernel_25930/4120452713.py:2: SettingWithCopyWarning:\n",
      "\n",
      "\n",
      "A value is trying to be set on a copy of a slice from a DataFrame.\n",
      "Try using .loc[row_indexer,col_indexer] = value instead\n",
      "\n",
      "See the caveats in the documentation: https://pandas.pydata.org/pandas-docs/stable/user_guide/indexing.html#returning-a-view-versus-a-copy\n",
      "\n",
      "/var/folders/tl/rdcj6pp130g_pdpr6thc58qr0000gn/T/ipykernel_25930/4120452713.py:3: SettingWithCopyWarning:\n",
      "\n",
      "\n",
      "A value is trying to be set on a copy of a slice from a DataFrame.\n",
      "Try using .loc[row_indexer,col_indexer] = value instead\n",
      "\n",
      "See the caveats in the documentation: https://pandas.pydata.org/pandas-docs/stable/user_guide/indexing.html#returning-a-view-versus-a-copy\n",
      "\n",
      "/var/folders/tl/rdcj6pp130g_pdpr6thc58qr0000gn/T/ipykernel_25930/4120452713.py:4: SettingWithCopyWarning:\n",
      "\n",
      "\n",
      "A value is trying to be set on a copy of a slice from a DataFrame.\n",
      "Try using .loc[row_indexer,col_indexer] = value instead\n",
      "\n",
      "See the caveats in the documentation: https://pandas.pydata.org/pandas-docs/stable/user_guide/indexing.html#returning-a-view-versus-a-copy\n",
      "\n"
     ]
    }
   ],
   "source": [
    "combined_df['final'] = 5\n",
    "combined_df.iloc[[0,1,2],  :]['final'] = 'Air quality station'\n",
    "combined_df.iloc[[3,6,9], :]['final'] =  'Selected Meteorogical'            \n",
    "combined_df.iloc[[4,5,7,8,10], :]['final']   = 'not selected'"
   ]
  },
  {
   "cell_type": "code",
   "execution_count": 133,
   "metadata": {},
   "outputs": [
    {
     "data": {
      "text/html": [
       "<div>\n",
       "<style scoped>\n",
       "    .dataframe tbody tr th:only-of-type {\n",
       "        vertical-align: middle;\n",
       "    }\n",
       "\n",
       "    .dataframe tbody tr th {\n",
       "        vertical-align: top;\n",
       "    }\n",
       "\n",
       "    .dataframe thead th {\n",
       "        text-align: right;\n",
       "    }\n",
       "</style>\n",
       "<table border=\"1\" class=\"dataframe\">\n",
       "  <thead>\n",
       "    <tr style=\"text-align: right;\">\n",
       "      <th></th>\n",
       "      <th>CODIGO</th>\n",
       "      <th>CODIGO_CORTO</th>\n",
       "      <th>ESTACION</th>\n",
       "      <th>DIRECCION</th>\n",
       "      <th>LONGITUD_ETRS89</th>\n",
       "      <th>LATITUD_ETRS89</th>\n",
       "      <th>ALTITUD</th>\n",
       "      <th>COD_TIPO</th>\n",
       "      <th>NOM_TIPO</th>\n",
       "      <th>NO2</th>\n",
       "      <th>...</th>\n",
       "      <th>VV (81)</th>\n",
       "      <th>DV (82)</th>\n",
       "      <th>T (83)</th>\n",
       "      <th>HR (86)</th>\n",
       "      <th>PB (87)</th>\n",
       "      <th>RS (88)</th>\n",
       "      <th>P (89)</th>\n",
       "      <th>NUM_VIA</th>\n",
       "      <th>Unnamed: 23</th>\n",
       "      <th>final</th>\n",
       "    </tr>\n",
       "  </thead>\n",
       "  <tbody>\n",
       "    <tr>\n",
       "      <th>6</th>\n",
       "      <td>28079024.0</td>\n",
       "      <td>24.0</td>\n",
       "      <td>Casa de Campo</td>\n",
       "      <td>Casa de Campo  (Terminal del Teleférico)</td>\n",
       "      <td>3°44'50.44\"O</td>\n",
       "      <td>40°25'9.69\"N</td>\n",
       "      <td>646.0</td>\n",
       "      <td>S</td>\n",
       "      <td>Suburbana</td>\n",
       "      <td>X</td>\n",
       "      <td>...</td>\n",
       "      <td>NaN</td>\n",
       "      <td>NaN</td>\n",
       "      <td>NaN</td>\n",
       "      <td>NaN</td>\n",
       "      <td>NaN</td>\n",
       "      <td>NaN</td>\n",
       "      <td>NaN</td>\n",
       "      <td>NaN</td>\n",
       "      <td>NaN</td>\n",
       "      <td>5</td>\n",
       "    </tr>\n",
       "    <tr>\n",
       "      <th>13</th>\n",
       "      <td>28079047.0</td>\n",
       "      <td>47.0</td>\n",
       "      <td>Méndez Álvaro</td>\n",
       "      <td>C/ Juan de Mariana / Plaza Amanecer Méndez Álvaro</td>\n",
       "      <td>3°41'12.57\"O</td>\n",
       "      <td>40°23'53.17\"N</td>\n",
       "      <td>600.0</td>\n",
       "      <td>UF</td>\n",
       "      <td>Urbana fondo</td>\n",
       "      <td>X</td>\n",
       "      <td>...</td>\n",
       "      <td>NaN</td>\n",
       "      <td>NaN</td>\n",
       "      <td>NaN</td>\n",
       "      <td>NaN</td>\n",
       "      <td>NaN</td>\n",
       "      <td>NaN</td>\n",
       "      <td>NaN</td>\n",
       "      <td>NaN</td>\n",
       "      <td>NaN</td>\n",
       "      <td>5</td>\n",
       "    </tr>\n",
       "    <tr>\n",
       "      <th>16</th>\n",
       "      <td>28079050.0</td>\n",
       "      <td>50.0</td>\n",
       "      <td>Plaza Castilla</td>\n",
       "      <td>Plaza Castilla (Canal)</td>\n",
       "      <td>3°41'19.48\"O</td>\n",
       "      <td>40°27'56.10\"N</td>\n",
       "      <td>728.0</td>\n",
       "      <td>UT</td>\n",
       "      <td>Urbana tráfico</td>\n",
       "      <td>X</td>\n",
       "      <td>...</td>\n",
       "      <td>NaN</td>\n",
       "      <td>NaN</td>\n",
       "      <td>NaN</td>\n",
       "      <td>NaN</td>\n",
       "      <td>NaN</td>\n",
       "      <td>NaN</td>\n",
       "      <td>NaN</td>\n",
       "      <td>NaN</td>\n",
       "      <td>NaN</td>\n",
       "      <td>5</td>\n",
       "    </tr>\n",
       "    <tr>\n",
       "      <th>4</th>\n",
       "      <td>NaN</td>\n",
       "      <td>NaN</td>\n",
       "      <td>Casa de Campo</td>\n",
       "      <td>Casa de Campo  (Terminal del Teleférico)</td>\n",
       "      <td>3°44'50.44\"O</td>\n",
       "      <td>40°25'9.69\"N</td>\n",
       "      <td>646.0</td>\n",
       "      <td>NaN</td>\n",
       "      <td>NaN</td>\n",
       "      <td>NaN</td>\n",
       "      <td>...</td>\n",
       "      <td>X</td>\n",
       "      <td>X</td>\n",
       "      <td>X</td>\n",
       "      <td>X</td>\n",
       "      <td>X</td>\n",
       "      <td>X</td>\n",
       "      <td>X</td>\n",
       "      <td>NaN</td>\n",
       "      <td>NaN</td>\n",
       "      <td>5</td>\n",
       "    </tr>\n",
       "    <tr>\n",
       "      <th>9</th>\n",
       "      <td>NaN</td>\n",
       "      <td>NaN</td>\n",
       "      <td>Ensanche de Vallecas</td>\n",
       "      <td>Avda La Gavia / Avda. Las Suertes</td>\n",
       "      <td>3°36'43.70\"O</td>\n",
       "      <td>40°22'22.84\"N</td>\n",
       "      <td>629.0</td>\n",
       "      <td>NaN</td>\n",
       "      <td>NaN</td>\n",
       "      <td>NaN</td>\n",
       "      <td>...</td>\n",
       "      <td>X</td>\n",
       "      <td>X</td>\n",
       "      <td>X</td>\n",
       "      <td>X</td>\n",
       "      <td>NaN</td>\n",
       "      <td>X</td>\n",
       "      <td>X</td>\n",
       "      <td>NaN</td>\n",
       "      <td>NaN</td>\n",
       "      <td>5</td>\n",
       "    </tr>\n",
       "    <tr>\n",
       "      <th>12</th>\n",
       "      <td>NaN</td>\n",
       "      <td>NaN</td>\n",
       "      <td>Juan Carlos I</td>\n",
       "      <td>Parque Juan Carlos I (frente oficinas mantenim...</td>\n",
       "      <td>3º 36' 33\"O</td>\n",
       "      <td>40º 27' 55''N</td>\n",
       "      <td>660.0</td>\n",
       "      <td>NaN</td>\n",
       "      <td>NaN</td>\n",
       "      <td>NaN</td>\n",
       "      <td>...</td>\n",
       "      <td>X</td>\n",
       "      <td>X</td>\n",
       "      <td>X</td>\n",
       "      <td>X</td>\n",
       "      <td>X</td>\n",
       "      <td>X</td>\n",
       "      <td>X</td>\n",
       "      <td>NaN</td>\n",
       "      <td>NaN</td>\n",
       "      <td>5</td>\n",
       "    </tr>\n",
       "    <tr>\n",
       "      <th>13</th>\n",
       "      <td>NaN</td>\n",
       "      <td>NaN</td>\n",
       "      <td>J.M.D. Moratalaz</td>\n",
       "      <td>C/ Fuente Carantona, 8</td>\n",
       "      <td>3º 38' 13'' O</td>\n",
       "      <td>40º 23' 55'' N</td>\n",
       "      <td>687.0</td>\n",
       "      <td>NaN</td>\n",
       "      <td>NaN</td>\n",
       "      <td>NaN</td>\n",
       "      <td>...</td>\n",
       "      <td>X</td>\n",
       "      <td>X</td>\n",
       "      <td>X</td>\n",
       "      <td>X</td>\n",
       "      <td>X</td>\n",
       "      <td>X</td>\n",
       "      <td>X</td>\n",
       "      <td>8</td>\n",
       "      <td>NaN</td>\n",
       "      <td>5</td>\n",
       "    </tr>\n",
       "    <tr>\n",
       "      <th>14</th>\n",
       "      <td>NaN</td>\n",
       "      <td>NaN</td>\n",
       "      <td>J.M.D. Villaverde</td>\n",
       "      <td>C/ Arroyo Bueno, 53</td>\n",
       "      <td>3º 42' 39'' O</td>\n",
       "      <td>40º 20' 58'' N</td>\n",
       "      <td>594.0</td>\n",
       "      <td>NaN</td>\n",
       "      <td>NaN</td>\n",
       "      <td>NaN</td>\n",
       "      <td>...</td>\n",
       "      <td>X</td>\n",
       "      <td>X</td>\n",
       "      <td>X</td>\n",
       "      <td>X</td>\n",
       "      <td>X</td>\n",
       "      <td>X</td>\n",
       "      <td>X</td>\n",
       "      <td>53</td>\n",
       "      <td>NaN</td>\n",
       "      <td>5</td>\n",
       "    </tr>\n",
       "    <tr>\n",
       "      <th>16</th>\n",
       "      <td>NaN</td>\n",
       "      <td>NaN</td>\n",
       "      <td>Centro Mpal. De Acústica</td>\n",
       "      <td>Autovía M-30 Km. 21.700</td>\n",
       "      <td>3º 44' 24'' O</td>\n",
       "      <td>40º 26' 32'' N</td>\n",
       "      <td>587.0</td>\n",
       "      <td>NaN</td>\n",
       "      <td>NaN</td>\n",
       "      <td>NaN</td>\n",
       "      <td>...</td>\n",
       "      <td>X</td>\n",
       "      <td>X</td>\n",
       "      <td>X</td>\n",
       "      <td>X</td>\n",
       "      <td>X</td>\n",
       "      <td>X</td>\n",
       "      <td>X</td>\n",
       "      <td>21,7</td>\n",
       "      <td>NaN</td>\n",
       "      <td>5</td>\n",
       "    </tr>\n",
       "    <tr>\n",
       "      <th>17</th>\n",
       "      <td>NaN</td>\n",
       "      <td>NaN</td>\n",
       "      <td>J.M.D. Hortaleza</td>\n",
       "      <td>Ctra. de Canillas, 2</td>\n",
       "      <td>3º 39' 24'' O</td>\n",
       "      <td>40º 27' 46'' N</td>\n",
       "      <td>715.0</td>\n",
       "      <td>NaN</td>\n",
       "      <td>NaN</td>\n",
       "      <td>NaN</td>\n",
       "      <td>...</td>\n",
       "      <td>X</td>\n",
       "      <td>X</td>\n",
       "      <td>X</td>\n",
       "      <td>X</td>\n",
       "      <td>X</td>\n",
       "      <td>X</td>\n",
       "      <td>X</td>\n",
       "      <td>2</td>\n",
       "      <td>NaN</td>\n",
       "      <td>5</td>\n",
       "    </tr>\n",
       "    <tr>\n",
       "      <th>18</th>\n",
       "      <td>NaN</td>\n",
       "      <td>NaN</td>\n",
       "      <td>Peñagrande</td>\n",
       "      <td>C.D.M. Peñagrande</td>\n",
       "      <td>3°43'4.37\"O</td>\n",
       "      <td>40°28'35.88\"N</td>\n",
       "      <td>660.0</td>\n",
       "      <td>NaN</td>\n",
       "      <td>NaN</td>\n",
       "      <td>NaN</td>\n",
       "      <td>...</td>\n",
       "      <td>X</td>\n",
       "      <td>X</td>\n",
       "      <td>X</td>\n",
       "      <td>X</td>\n",
       "      <td>X</td>\n",
       "      <td>X</td>\n",
       "      <td>X</td>\n",
       "      <td>184</td>\n",
       "      <td>NaN</td>\n",
       "      <td>5</td>\n",
       "    </tr>\n",
       "  </tbody>\n",
       "</table>\n",
       "<p>11 rows × 39 columns</p>\n",
       "</div>"
      ],
      "text/plain": [
       "        CODIGO  CODIGO_CORTO                  ESTACION  \\\n",
       "6   28079024.0          24.0             Casa de Campo   \n",
       "13  28079047.0          47.0             Méndez Álvaro   \n",
       "16  28079050.0          50.0            Plaza Castilla   \n",
       "4          NaN           NaN             Casa de Campo   \n",
       "9          NaN           NaN      Ensanche de Vallecas   \n",
       "12         NaN           NaN             Juan Carlos I   \n",
       "13         NaN           NaN          J.M.D. Moratalaz   \n",
       "14         NaN           NaN         J.M.D. Villaverde   \n",
       "16         NaN           NaN  Centro Mpal. De Acústica   \n",
       "17         NaN           NaN          J.M.D. Hortaleza   \n",
       "18         NaN           NaN                Peñagrande   \n",
       "\n",
       "                                            DIRECCION LONGITUD_ETRS89  \\\n",
       "6            Casa de Campo  (Terminal del Teleférico)    3°44'50.44\"O   \n",
       "13  C/ Juan de Mariana / Plaza Amanecer Méndez Álvaro    3°41'12.57\"O   \n",
       "16                             Plaza Castilla (Canal)    3°41'19.48\"O   \n",
       "4            Casa de Campo  (Terminal del Teleférico)    3°44'50.44\"O   \n",
       "9                   Avda La Gavia / Avda. Las Suertes    3°36'43.70\"O   \n",
       "12  Parque Juan Carlos I (frente oficinas mantenim...     3º 36' 33\"O   \n",
       "13                             C/ Fuente Carantona, 8   3º 38' 13'' O   \n",
       "14                                C/ Arroyo Bueno, 53   3º 42' 39'' O   \n",
       "16                            Autovía M-30 Km. 21.700   3º 44' 24'' O   \n",
       "17                               Ctra. de Canillas, 2   3º 39' 24'' O   \n",
       "18                                  C.D.M. Peñagrande     3°43'4.37\"O   \n",
       "\n",
       "    LATITUD_ETRS89  ALTITUD COD_TIPO        NOM_TIPO  NO2  ... VV (81)  \\\n",
       "6     40°25'9.69\"N    646.0        S       Suburbana    X  ...     NaN   \n",
       "13   40°23'53.17\"N    600.0       UF    Urbana fondo    X  ...     NaN   \n",
       "16   40°27'56.10\"N    728.0       UT  Urbana tráfico    X  ...     NaN   \n",
       "4     40°25'9.69\"N    646.0      NaN             NaN  NaN  ...       X   \n",
       "9    40°22'22.84\"N    629.0      NaN             NaN  NaN  ...       X   \n",
       "12   40º 27' 55''N    660.0      NaN             NaN  NaN  ...       X   \n",
       "13  40º 23' 55'' N    687.0      NaN             NaN  NaN  ...       X   \n",
       "14  40º 20' 58'' N    594.0      NaN             NaN  NaN  ...       X   \n",
       "16  40º 26' 32'' N    587.0      NaN             NaN  NaN  ...       X   \n",
       "17  40º 27' 46'' N    715.0      NaN             NaN  NaN  ...       X   \n",
       "18   40°28'35.88\"N    660.0      NaN             NaN  NaN  ...       X   \n",
       "\n",
       "   DV (82) T (83) HR (86) PB (87) RS (88)  P (89) NUM_VIA Unnamed: 23 final  \n",
       "6      NaN    NaN     NaN     NaN     NaN     NaN     NaN         NaN     5  \n",
       "13     NaN    NaN     NaN     NaN     NaN     NaN     NaN         NaN     5  \n",
       "16     NaN    NaN     NaN     NaN     NaN     NaN     NaN         NaN     5  \n",
       "4        X      X       X       X       X       X     NaN         NaN     5  \n",
       "9        X      X       X     NaN       X       X     NaN         NaN     5  \n",
       "12       X      X       X       X       X       X     NaN         NaN     5  \n",
       "13       X      X       X       X       X       X       8         NaN     5  \n",
       "14       X      X       X       X       X       X      53         NaN     5  \n",
       "16       X      X       X       X       X       X    21,7         NaN     5  \n",
       "17       X      X       X       X       X       X       2         NaN     5  \n",
       "18       X      X       X       X       X       X     184         NaN     5  \n",
       "\n",
       "[11 rows x 39 columns]"
      ]
     },
     "execution_count": 133,
     "metadata": {},
     "output_type": "execute_result"
    }
   ],
   "source": [
    "combined_df"
   ]
  },
  {
   "cell_type": "code",
   "execution_count": 124,
   "metadata": {},
   "outputs": [
    {
     "data": {
      "text/plain": [
       "(11, 38)"
      ]
     },
     "execution_count": 124,
     "metadata": {},
     "output_type": "execute_result"
    }
   ],
   "source": [
    "combined_df.shape"
   ]
  },
  {
   "cell_type": "code",
   "execution_count": 42,
   "metadata": {},
   "outputs": [],
   "source": [
    "# combined_df.to_csv('test.csv')"
   ]
  },
  {
   "cell_type": "markdown",
   "metadata": {},
   "source": [
    "---"
   ]
  },
  {
   "cell_type": "markdown",
   "metadata": {},
   "source": [
    "### COMPUTE DISTANCE BETWEEN METEORLOGICAL STATIONS AND AIR STATIONS"
   ]
  },
  {
   "cell_type": "code",
   "execution_count": 103,
   "metadata": {},
   "outputs": [],
   "source": [
    "a =selected_meteor_stations_df.iloc[0]['LATITUD'] ,selected_meteor_stations_df.iloc[0]['LONGITUD']\n",
    "b= selected_meteor_stations_df.iloc[1]['LATITUD'] ,selected_meteor_stations_df.iloc[0]['LONGITUD']"
   ]
  },
  {
   "cell_type": "code",
   "execution_count": 104,
   "metadata": {},
   "outputs": [
    {
     "name": "stdout",
     "output_type": "stream",
     "text": [
      "0, 0 : 0.0 \n",
      "0, 1 : 5.654335192007132 \n",
      "0, 2 : 7.146030444415046 \n",
      "1, 0 : 12.579549016551976 \n",
      "1, 1 : 6.925689763291797 \n",
      "1, 2 : 12.162915677942072 \n",
      "2, 0 : 12.02661758398815 \n",
      "2, 1 : 9.171846102367137 \n",
      "2, 2 : 6.164552879902848 \n",
      "3, 0 : 9.727599966420742 \n",
      "3, 1 : 4.348709919521408 \n",
      "3, 2 : 8.583688753015908 \n",
      "4, 0 : 8.280028543964866 \n",
      "4, 1 : 5.613079336310909 \n",
      "4, 2 : 12.886321634959016 \n",
      "5, 0 : 2.6142889124497595 \n",
      "5, 1 : 6.661823332463855 \n",
      "5, 2 : 5.062890301192097 \n",
      "6, 0 : 9.079273412277159 \n",
      "6, 1 : 7.624105904858359 \n",
      "6, 2 : 2.738403520435202 \n",
      "7, 0 : 6.833585370780918 \n",
      "7, 1 : 9.110346249206223 \n",
      "7, 2 : 2.7587219718718203 \n"
     ]
    }
   ],
   "source": [
    "output_matrix = np.zeros((8,3))\n",
    "\n",
    "for meteo_station_idx in range(selected_meteor_stations_df.shape[0]):\n",
    "    for air_station_idx in range(selected_air_stations_df.shape[0]):\n",
    "        geo_a = selected_meteor_stations_df.iloc[meteo_station_idx]['LATITUD'] ,selected_meteor_stations_df.iloc[meteo_station_idx]['LONGITUD'] \n",
    "        geo_b = selected_air_stations_df.iloc[air_station_idx]['LATITUD'] ,selected_air_stations_df.iloc[air_station_idx]['LONGITUD'] \n",
    "        \n",
    "        distance = GD(geo_a, geo_b).km\n",
    "        \n",
    "        output_matrix[meteo_station_idx][air_station_idx] = distance\n",
    "        \n",
    "        print(f\"{meteo_station_idx}, {air_station_idx } : {distance} \")"
   ]
  },
  {
   "cell_type": "code",
   "execution_count": 112,
   "metadata": {},
   "outputs": [
    {
     "data": {
      "image/png": "[encoded data removed]",
      "text/plain": [
       "<Figure size 600x400 with 2 Axes>"
      ]
     },
     "metadata": {},
     "output_type": "display_data"
    }
   ],
   "source": [
    "plt.figure(figsize = (6,4))\n",
    "sns.heatmap(output_matrix.T, annot = True, cmap = 'coolwarm')\n",
    "plt.xticks(ticks=np.arange(8), labels = list(selected_meteor_stations_df['ESTACION']), rotation = 42 )\n",
    "plt.yticks(ticks=np.arange(3), labels = list(selected_air_stations_df['ESTACION']), rotation = 0)\n",
    "plt.xlabel(\"Meteorlogical Stations\")\n",
    "plt.ylabel(\"Air Quality Stations\")\n",
    "plt.show()"
   ]
  },
  {
   "cell_type": "code",
   "execution_count": 128,
   "metadata": {},
   "outputs": [
    {
     "data": {
      "text/html": [
       "<div>\n",
       "<style scoped>\n",
       "    .dataframe tbody tr th:only-of-type {\n",
       "        vertical-align: middle;\n",
       "    }\n",
       "\n",
       "    .dataframe tbody tr th {\n",
       "        vertical-align: top;\n",
       "    }\n",
       "\n",
       "    .dataframe thead th {\n",
       "        text-align: right;\n",
       "    }\n",
       "</style>\n",
       "<table border=\"1\" class=\"dataframe\">\n",
       "  <thead>\n",
       "    <tr style=\"text-align: right;\">\n",
       "      <th></th>\n",
       "      <th>CODIGO</th>\n",
       "      <th>CODIGO_CORTO</th>\n",
       "      <th>ESTACION</th>\n",
       "      <th>DIRECCION</th>\n",
       "      <th>LONGITUD_ETRS89</th>\n",
       "      <th>LATITUD_ETRS89</th>\n",
       "      <th>ALTITUD</th>\n",
       "      <th>COD_TIPO</th>\n",
       "      <th>NOM_TIPO</th>\n",
       "      <th>NO2</th>\n",
       "      <th>...</th>\n",
       "      <th>CÓDIGO_CORTO</th>\n",
       "      <th>VV (81)</th>\n",
       "      <th>DV (82)</th>\n",
       "      <th>T (83)</th>\n",
       "      <th>HR (86)</th>\n",
       "      <th>PB (87)</th>\n",
       "      <th>RS (88)</th>\n",
       "      <th>P (89)</th>\n",
       "      <th>NUM_VIA</th>\n",
       "      <th>Unnamed: 23</th>\n",
       "    </tr>\n",
       "  </thead>\n",
       "  <tbody>\n",
       "    <tr>\n",
       "      <th>6</th>\n",
       "      <td>28079024.0</td>\n",
       "      <td>24.0</td>\n",
       "      <td>Casa de Campo</td>\n",
       "      <td>Casa de Campo  (Terminal del Teleférico)</td>\n",
       "      <td>3°44'50.44\"O</td>\n",
       "      <td>40°25'9.69\"N</td>\n",
       "      <td>646.0</td>\n",
       "      <td>S</td>\n",
       "      <td>Suburbana</td>\n",
       "      <td>X</td>\n",
       "      <td>...</td>\n",
       "      <td>NaN</td>\n",
       "      <td>NaN</td>\n",
       "      <td>NaN</td>\n",
       "      <td>NaN</td>\n",
       "      <td>NaN</td>\n",
       "      <td>NaN</td>\n",
       "      <td>NaN</td>\n",
       "      <td>NaN</td>\n",
       "      <td>NaN</td>\n",
       "      <td>NaN</td>\n",
       "    </tr>\n",
       "    <tr>\n",
       "      <th>13</th>\n",
       "      <td>28079047.0</td>\n",
       "      <td>47.0</td>\n",
       "      <td>Méndez Álvaro</td>\n",
       "      <td>C/ Juan de Mariana / Plaza Amanecer Méndez Álvaro</td>\n",
       "      <td>3°41'12.57\"O</td>\n",
       "      <td>40°23'53.17\"N</td>\n",
       "      <td>600.0</td>\n",
       "      <td>UF</td>\n",
       "      <td>Urbana fondo</td>\n",
       "      <td>X</td>\n",
       "      <td>...</td>\n",
       "      <td>NaN</td>\n",
       "      <td>NaN</td>\n",
       "      <td>NaN</td>\n",
       "      <td>NaN</td>\n",
       "      <td>NaN</td>\n",
       "      <td>NaN</td>\n",
       "      <td>NaN</td>\n",
       "      <td>NaN</td>\n",
       "      <td>NaN</td>\n",
       "      <td>NaN</td>\n",
       "    </tr>\n",
       "    <tr>\n",
       "      <th>16</th>\n",
       "      <td>28079050.0</td>\n",
       "      <td>50.0</td>\n",
       "      <td>Plaza Castilla</td>\n",
       "      <td>Plaza Castilla (Canal)</td>\n",
       "      <td>3°41'19.48\"O</td>\n",
       "      <td>40°27'56.10\"N</td>\n",
       "      <td>728.0</td>\n",
       "      <td>UT</td>\n",
       "      <td>Urbana tráfico</td>\n",
       "      <td>X</td>\n",
       "      <td>...</td>\n",
       "      <td>NaN</td>\n",
       "      <td>NaN</td>\n",
       "      <td>NaN</td>\n",
       "      <td>NaN</td>\n",
       "      <td>NaN</td>\n",
       "      <td>NaN</td>\n",
       "      <td>NaN</td>\n",
       "      <td>NaN</td>\n",
       "      <td>NaN</td>\n",
       "      <td>NaN</td>\n",
       "    </tr>\n",
       "    <tr>\n",
       "      <th>4</th>\n",
       "      <td>NaN</td>\n",
       "      <td>NaN</td>\n",
       "      <td>Casa de Campo</td>\n",
       "      <td>Casa de Campo  (Terminal del Teleférico)</td>\n",
       "      <td>3°44'50.44\"O</td>\n",
       "      <td>40°25'9.69\"N</td>\n",
       "      <td>646.0</td>\n",
       "      <td>NaN</td>\n",
       "      <td>NaN</td>\n",
       "      <td>NaN</td>\n",
       "      <td>...</td>\n",
       "      <td>24.0</td>\n",
       "      <td>X</td>\n",
       "      <td>X</td>\n",
       "      <td>X</td>\n",
       "      <td>X</td>\n",
       "      <td>X</td>\n",
       "      <td>X</td>\n",
       "      <td>X</td>\n",
       "      <td>NaN</td>\n",
       "      <td>NaN</td>\n",
       "    </tr>\n",
       "    <tr>\n",
       "      <th>9</th>\n",
       "      <td>NaN</td>\n",
       "      <td>NaN</td>\n",
       "      <td>Ensanche de Vallecas</td>\n",
       "      <td>Avda La Gavia / Avda. Las Suertes</td>\n",
       "      <td>3°36'43.70\"O</td>\n",
       "      <td>40°22'22.84\"N</td>\n",
       "      <td>629.0</td>\n",
       "      <td>NaN</td>\n",
       "      <td>NaN</td>\n",
       "      <td>NaN</td>\n",
       "      <td>...</td>\n",
       "      <td>54.0</td>\n",
       "      <td>X</td>\n",
       "      <td>X</td>\n",
       "      <td>X</td>\n",
       "      <td>X</td>\n",
       "      <td>NaN</td>\n",
       "      <td>X</td>\n",
       "      <td>X</td>\n",
       "      <td>NaN</td>\n",
       "      <td>NaN</td>\n",
       "    </tr>\n",
       "    <tr>\n",
       "      <th>12</th>\n",
       "      <td>NaN</td>\n",
       "      <td>NaN</td>\n",
       "      <td>Juan Carlos I</td>\n",
       "      <td>Parque Juan Carlos I (frente oficinas mantenim...</td>\n",
       "      <td>3º 36' 33\"O</td>\n",
       "      <td>40º 27' 55''N</td>\n",
       "      <td>660.0</td>\n",
       "      <td>NaN</td>\n",
       "      <td>NaN</td>\n",
       "      <td>NaN</td>\n",
       "      <td>...</td>\n",
       "      <td>59.0</td>\n",
       "      <td>X</td>\n",
       "      <td>X</td>\n",
       "      <td>X</td>\n",
       "      <td>X</td>\n",
       "      <td>X</td>\n",
       "      <td>X</td>\n",
       "      <td>X</td>\n",
       "      <td>NaN</td>\n",
       "      <td>NaN</td>\n",
       "    </tr>\n",
       "    <tr>\n",
       "      <th>13</th>\n",
       "      <td>NaN</td>\n",
       "      <td>NaN</td>\n",
       "      <td>J.M.D. Moratalaz</td>\n",
       "      <td>C/ Fuente Carantona, 8</td>\n",
       "      <td>3º 38' 13'' O</td>\n",
       "      <td>40º 23' 55'' N</td>\n",
       "      <td>687.0</td>\n",
       "      <td>NaN</td>\n",
       "      <td>NaN</td>\n",
       "      <td>NaN</td>\n",
       "      <td>...</td>\n",
       "      <td>102.0</td>\n",
       "      <td>X</td>\n",
       "      <td>X</td>\n",
       "      <td>X</td>\n",
       "      <td>X</td>\n",
       "      <td>X</td>\n",
       "      <td>X</td>\n",
       "      <td>X</td>\n",
       "      <td>8</td>\n",
       "      <td>NaN</td>\n",
       "    </tr>\n",
       "    <tr>\n",
       "      <th>14</th>\n",
       "      <td>NaN</td>\n",
       "      <td>NaN</td>\n",
       "      <td>J.M.D. Villaverde</td>\n",
       "      <td>C/ Arroyo Bueno, 53</td>\n",
       "      <td>3º 42' 39'' O</td>\n",
       "      <td>40º 20' 58'' N</td>\n",
       "      <td>594.0</td>\n",
       "      <td>NaN</td>\n",
       "      <td>NaN</td>\n",
       "      <td>NaN</td>\n",
       "      <td>...</td>\n",
       "      <td>103.0</td>\n",
       "      <td>X</td>\n",
       "      <td>X</td>\n",
       "      <td>X</td>\n",
       "      <td>X</td>\n",
       "      <td>X</td>\n",
       "      <td>X</td>\n",
       "      <td>X</td>\n",
       "      <td>53</td>\n",
       "      <td>NaN</td>\n",
       "    </tr>\n",
       "    <tr>\n",
       "      <th>16</th>\n",
       "      <td>NaN</td>\n",
       "      <td>NaN</td>\n",
       "      <td>Centro Mpal. De Acústica</td>\n",
       "      <td>Autovía M-30 Km. 21.700</td>\n",
       "      <td>3º 44' 24'' O</td>\n",
       "      <td>40º 26' 32'' N</td>\n",
       "      <td>587.0</td>\n",
       "      <td>NaN</td>\n",
       "      <td>NaN</td>\n",
       "      <td>NaN</td>\n",
       "      <td>...</td>\n",
       "      <td>106.0</td>\n",
       "      <td>X</td>\n",
       "      <td>X</td>\n",
       "      <td>X</td>\n",
       "      <td>X</td>\n",
       "      <td>X</td>\n",
       "      <td>X</td>\n",
       "      <td>X</td>\n",
       "      <td>21,7</td>\n",
       "      <td>NaN</td>\n",
       "    </tr>\n",
       "    <tr>\n",
       "      <th>17</th>\n",
       "      <td>NaN</td>\n",
       "      <td>NaN</td>\n",
       "      <td>J.M.D. Hortaleza</td>\n",
       "      <td>Ctra. de Canillas, 2</td>\n",
       "      <td>3º 39' 24'' O</td>\n",
       "      <td>40º 27' 46'' N</td>\n",
       "      <td>715.0</td>\n",
       "      <td>NaN</td>\n",
       "      <td>NaN</td>\n",
       "      <td>NaN</td>\n",
       "      <td>...</td>\n",
       "      <td>107.0</td>\n",
       "      <td>X</td>\n",
       "      <td>X</td>\n",
       "      <td>X</td>\n",
       "      <td>X</td>\n",
       "      <td>X</td>\n",
       "      <td>X</td>\n",
       "      <td>X</td>\n",
       "      <td>2</td>\n",
       "      <td>NaN</td>\n",
       "    </tr>\n",
       "    <tr>\n",
       "      <th>18</th>\n",
       "      <td>NaN</td>\n",
       "      <td>NaN</td>\n",
       "      <td>Peñagrande</td>\n",
       "      <td>C.D.M. Peñagrande</td>\n",
       "      <td>3°43'4.37\"O</td>\n",
       "      <td>40°28'35.88\"N</td>\n",
       "      <td>660.0</td>\n",
       "      <td>NaN</td>\n",
       "      <td>NaN</td>\n",
       "      <td>NaN</td>\n",
       "      <td>...</td>\n",
       "      <td>108.0</td>\n",
       "      <td>X</td>\n",
       "      <td>X</td>\n",
       "      <td>X</td>\n",
       "      <td>X</td>\n",
       "      <td>X</td>\n",
       "      <td>X</td>\n",
       "      <td>X</td>\n",
       "      <td>184</td>\n",
       "      <td>NaN</td>\n",
       "    </tr>\n",
       "  </tbody>\n",
       "</table>\n",
       "<p>11 rows × 38 columns</p>\n",
       "</div>"
      ],
      "text/plain": [
       "        CODIGO  CODIGO_CORTO                  ESTACION  \\\n",
       "6   28079024.0          24.0             Casa de Campo   \n",
       "13  28079047.0          47.0             Méndez Álvaro   \n",
       "16  28079050.0          50.0            Plaza Castilla   \n",
       "4          NaN           NaN             Casa de Campo   \n",
       "9          NaN           NaN      Ensanche de Vallecas   \n",
       "12         NaN           NaN             Juan Carlos I   \n",
       "13         NaN           NaN          J.M.D. Moratalaz   \n",
       "14         NaN           NaN         J.M.D. Villaverde   \n",
       "16         NaN           NaN  Centro Mpal. De Acústica   \n",
       "17         NaN           NaN          J.M.D. Hortaleza   \n",
       "18         NaN           NaN                Peñagrande   \n",
       "\n",
       "                                            DIRECCION LONGITUD_ETRS89  \\\n",
       "6            Casa de Campo  (Terminal del Teleférico)    3°44'50.44\"O   \n",
       "13  C/ Juan de Mariana / Plaza Amanecer Méndez Álvaro    3°41'12.57\"O   \n",
       "16                             Plaza Castilla (Canal)    3°41'19.48\"O   \n",
       "4            Casa de Campo  (Terminal del Teleférico)    3°44'50.44\"O   \n",
       "9                   Avda La Gavia / Avda. Las Suertes    3°36'43.70\"O   \n",
       "12  Parque Juan Carlos I (frente oficinas mantenim...     3º 36' 33\"O   \n",
       "13                             C/ Fuente Carantona, 8   3º 38' 13'' O   \n",
       "14                                C/ Arroyo Bueno, 53   3º 42' 39'' O   \n",
       "16                            Autovía M-30 Km. 21.700   3º 44' 24'' O   \n",
       "17                               Ctra. de Canillas, 2   3º 39' 24'' O   \n",
       "18                                  C.D.M. Peñagrande     3°43'4.37\"O   \n",
       "\n",
       "    LATITUD_ETRS89  ALTITUD COD_TIPO        NOM_TIPO  NO2  ... CÓDIGO_CORTO  \\\n",
       "6     40°25'9.69\"N    646.0        S       Suburbana    X  ...          NaN   \n",
       "13   40°23'53.17\"N    600.0       UF    Urbana fondo    X  ...          NaN   \n",
       "16   40°27'56.10\"N    728.0       UT  Urbana tráfico    X  ...          NaN   \n",
       "4     40°25'9.69\"N    646.0      NaN             NaN  NaN  ...         24.0   \n",
       "9    40°22'22.84\"N    629.0      NaN             NaN  NaN  ...         54.0   \n",
       "12   40º 27' 55''N    660.0      NaN             NaN  NaN  ...         59.0   \n",
       "13  40º 23' 55'' N    687.0      NaN             NaN  NaN  ...        102.0   \n",
       "14  40º 20' 58'' N    594.0      NaN             NaN  NaN  ...        103.0   \n",
       "16  40º 26' 32'' N    587.0      NaN             NaN  NaN  ...        106.0   \n",
       "17  40º 27' 46'' N    715.0      NaN             NaN  NaN  ...        107.0   \n",
       "18   40°28'35.88\"N    660.0      NaN             NaN  NaN  ...        108.0   \n",
       "\n",
       "   VV (81) DV (82) T (83) HR (86) PB (87)  RS (88) P (89) NUM_VIA Unnamed: 23  \n",
       "6      NaN     NaN    NaN     NaN     NaN      NaN    NaN     NaN         NaN  \n",
       "13     NaN     NaN    NaN     NaN     NaN      NaN    NaN     NaN         NaN  \n",
       "16     NaN     NaN    NaN     NaN     NaN      NaN    NaN     NaN         NaN  \n",
       "4        X       X      X       X       X        X      X     NaN         NaN  \n",
       "9        X       X      X       X     NaN        X      X     NaN         NaN  \n",
       "12       X       X      X       X       X        X      X     NaN         NaN  \n",
       "13       X       X      X       X       X        X      X       8         NaN  \n",
       "14       X       X      X       X       X        X      X      53         NaN  \n",
       "16       X       X      X       X       X        X      X    21,7         NaN  \n",
       "17       X       X      X       X       X        X      X       2         NaN  \n",
       "18       X       X      X       X       X        X      X     184         NaN  \n",
       "\n",
       "[11 rows x 38 columns]"
      ]
     },
     "execution_count": 128,
     "metadata": {},
     "output_type": "execute_result"
    }
   ],
   "source": [
    "combined_df"
   ]
  },
  {
   "cell_type": "code",
   "execution_count": 127,
   "metadata": {},
   "outputs": [
    {
     "ename": "ValueError",
     "evalue": "Value of 'color' is not the name of a column in 'data_frame'. Expected one of ['CODIGO', 'CODIGO_CORTO', 'ESTACION', 'DIRECCION', 'LONGITUD_ETRS89', 'LATITUD_ETRS89', 'ALTITUD', 'COD_TIPO', 'NOM_TIPO', 'NO2', 'SO2', 'CO', 'PM10', 'PM2_5', 'O3', 'BTX', 'COD_VIA', 'VIA_CLASE', 'VIA_PAR', 'VIA_NOMBRE', 'Fecha alta', 'COORDENADA_X_ETRS89', 'COORDENADA_Y_ETRS89', 'LONGITUD', 'LATITUD', 'geometry', 'station_type', 'CÓDIGO', 'CÓDIGO_CORTO', 'VV (81)', 'DV (82)', 'T (83)', 'HR (86)', 'PB (87)', 'RS (88)', 'P (89)', 'NUM_VIA', 'Unnamed: 23'] but received: final",
     "output_type": "error",
     "traceback": [
      "\u001b[0;31m---------------------------------------------------------------------------\u001b[0m",
      "\u001b[0;31mValueError\u001b[0m                                Traceback (most recent call last)",
      "Cell \u001b[0;32mIn [127], line 1\u001b[0m\n\u001b[0;32m----> 1\u001b[0m fig \u001b[39m=\u001b[39m px\u001b[39m.\u001b[39;49mscatter_mapbox(combined_df,\n\u001b[1;32m      2\u001b[0m                      lat\u001b[39m=\u001b[39;49m\u001b[39m'\u001b[39;49m\u001b[39mLATITUD\u001b[39;49m\u001b[39m'\u001b[39;49m,lon\u001b[39m=\u001b[39;49m\u001b[39m'\u001b[39;49m\u001b[39mLONGITUD\u001b[39;49m\u001b[39m'\u001b[39;49m,\n\u001b[1;32m      3\u001b[0m                      hover_name\u001b[39m=\u001b[39;49m\u001b[39m\"\u001b[39;49m\u001b[39mESTACION\u001b[39;49m\u001b[39m\"\u001b[39;49m,\n\u001b[1;32m      4\u001b[0m                      zoom\u001b[39m=\u001b[39;49m\u001b[39m10\u001b[39;49m, \n\u001b[1;32m      5\u001b[0m                      height\u001b[39m=\u001b[39;49m\u001b[39m500\u001b[39;49m,\n\u001b[1;32m      6\u001b[0m                      width\u001b[39m=\u001b[39;49m\u001b[39m1000\u001b[39;49m,\n\u001b[1;32m      7\u001b[0m                      color \u001b[39m=\u001b[39;49m \u001b[39m\"\u001b[39;49m\u001b[39mfinal\u001b[39;49m\u001b[39m\"\u001b[39;49m,\n\u001b[1;32m      8\u001b[0m                      )\n\u001b[1;32m      9\u001b[0m fig\u001b[39m.\u001b[39mupdate_layout(mapbox_style\u001b[39m=\u001b[39m\u001b[39m\"\u001b[39m\u001b[39mstamen-terrain\u001b[39m\u001b[39m\"\u001b[39m)\n\u001b[1;32m     10\u001b[0m fig\u001b[39m.\u001b[39mupdate_traces(marker\u001b[39m=\u001b[39m{\u001b[39m'\u001b[39m\u001b[39msize\u001b[39m\u001b[39m'\u001b[39m: \u001b[39m15\u001b[39m})\n",
      "File \u001b[0;32m~/Library/CloudStorage/OneDrive-Personal/AIT material/DANIclass/2-Iot/Project/code/madrid_iot/lib/python3.10/site-packages/plotly/express/_chart_types.py:1247\u001b[0m, in \u001b[0;36mscatter_mapbox\u001b[0;34m(data_frame, lat, lon, color, text, hover_name, hover_data, custom_data, size, animation_frame, animation_group, category_orders, labels, color_discrete_sequence, color_discrete_map, color_continuous_scale, range_color, color_continuous_midpoint, opacity, size_max, zoom, center, mapbox_style, title, template, width, height)\u001b[0m\n\u001b[1;32m   1214\u001b[0m \u001b[39mdef\u001b[39;00m \u001b[39mscatter_mapbox\u001b[39m(\n\u001b[1;32m   1215\u001b[0m     data_frame\u001b[39m=\u001b[39m\u001b[39mNone\u001b[39;00m,\n\u001b[1;32m   1216\u001b[0m     lat\u001b[39m=\u001b[39m\u001b[39mNone\u001b[39;00m,\n\u001b[0;32m   (...)\u001b[0m\n\u001b[1;32m   1241\u001b[0m     height\u001b[39m=\u001b[39m\u001b[39mNone\u001b[39;00m,\n\u001b[1;32m   1242\u001b[0m ) \u001b[39m-\u001b[39m\u001b[39m>\u001b[39m go\u001b[39m.\u001b[39mFigure:\n\u001b[1;32m   1243\u001b[0m     \u001b[39m\"\"\"\u001b[39;00m\n\u001b[1;32m   1244\u001b[0m \u001b[39m    In a Mapbox scatter plot, each row of `data_frame` is represented by a\u001b[39;00m\n\u001b[1;32m   1245\u001b[0m \u001b[39m    symbol mark on a Mapbox map.\u001b[39;00m\n\u001b[1;32m   1246\u001b[0m \u001b[39m    \"\"\"\u001b[39;00m\n\u001b[0;32m-> 1247\u001b[0m     \u001b[39mreturn\u001b[39;00m make_figure(args\u001b[39m=\u001b[39;49m\u001b[39mlocals\u001b[39;49m(), constructor\u001b[39m=\u001b[39;49mgo\u001b[39m.\u001b[39;49mScattermapbox)\n",
      "File \u001b[0;32m~/Library/CloudStorage/OneDrive-Personal/AIT material/DANIclass/2-Iot/Project/code/madrid_iot/lib/python3.10/site-packages/plotly/express/_core.py:1990\u001b[0m, in \u001b[0;36mmake_figure\u001b[0;34m(args, constructor, trace_patch, layout_patch)\u001b[0m\n\u001b[1;32m   1987\u001b[0m layout_patch \u001b[39m=\u001b[39m layout_patch \u001b[39mor\u001b[39;00m {}\n\u001b[1;32m   1988\u001b[0m apply_default_cascade(args)\n\u001b[0;32m-> 1990\u001b[0m args \u001b[39m=\u001b[39m build_dataframe(args, constructor)\n\u001b[1;32m   1991\u001b[0m \u001b[39mif\u001b[39;00m constructor \u001b[39min\u001b[39;00m [go\u001b[39m.\u001b[39mTreemap, go\u001b[39m.\u001b[39mSunburst, go\u001b[39m.\u001b[39mIcicle] \u001b[39mand\u001b[39;00m args[\u001b[39m\"\u001b[39m\u001b[39mpath\u001b[39m\u001b[39m\"\u001b[39m] \u001b[39mis\u001b[39;00m \u001b[39mnot\u001b[39;00m \u001b[39mNone\u001b[39;00m:\n\u001b[1;32m   1992\u001b[0m     args \u001b[39m=\u001b[39m process_dataframe_hierarchy(args)\n",
      "File \u001b[0;32m~/Library/CloudStorage/OneDrive-Personal/AIT material/DANIclass/2-Iot/Project/code/madrid_iot/lib/python3.10/site-packages/plotly/express/_core.py:1405\u001b[0m, in \u001b[0;36mbuild_dataframe\u001b[0;34m(args, constructor)\u001b[0m\n\u001b[1;32m   1402\u001b[0m     args[\u001b[39m\"\u001b[39m\u001b[39mcolor\u001b[39m\u001b[39m\"\u001b[39m] \u001b[39m=\u001b[39m \u001b[39mNone\u001b[39;00m\n\u001b[1;32m   1403\u001b[0m \u001b[39m# now that things have been prepped, we do the systematic rewriting of `args`\u001b[39;00m\n\u001b[0;32m-> 1405\u001b[0m df_output, wide_id_vars \u001b[39m=\u001b[39m process_args_into_dataframe(\n\u001b[1;32m   1406\u001b[0m     args, wide_mode, var_name, value_name\n\u001b[1;32m   1407\u001b[0m )\n\u001b[1;32m   1409\u001b[0m \u001b[39m# now that `df_output` exists and `args` contains only references, we complete\u001b[39;00m\n\u001b[1;32m   1410\u001b[0m \u001b[39m# the special-case and wide-mode handling by further rewriting args and/or mutating\u001b[39;00m\n\u001b[1;32m   1411\u001b[0m \u001b[39m# df_output\u001b[39;00m\n\u001b[1;32m   1413\u001b[0m count_name \u001b[39m=\u001b[39m _escape_col_name(df_output, \u001b[39m\"\u001b[39m\u001b[39mcount\u001b[39m\u001b[39m\"\u001b[39m, [var_name, value_name])\n",
      "File \u001b[0;32m~/Library/CloudStorage/OneDrive-Personal/AIT material/DANIclass/2-Iot/Project/code/madrid_iot/lib/python3.10/site-packages/plotly/express/_core.py:1207\u001b[0m, in \u001b[0;36mprocess_args_into_dataframe\u001b[0;34m(args, wide_mode, var_name, value_name)\u001b[0m\n\u001b[1;32m   1205\u001b[0m         \u001b[39mif\u001b[39;00m argument \u001b[39m==\u001b[39m \u001b[39m\"\u001b[39m\u001b[39mindex\u001b[39m\u001b[39m\"\u001b[39m:\n\u001b[1;32m   1206\u001b[0m             err_msg \u001b[39m+\u001b[39m\u001b[39m=\u001b[39m \u001b[39m\"\u001b[39m\u001b[39m\\n\u001b[39;00m\u001b[39m To use the index, pass it in directly as `df.index`.\u001b[39m\u001b[39m\"\u001b[39m\n\u001b[0;32m-> 1207\u001b[0m         \u001b[39mraise\u001b[39;00m \u001b[39mValueError\u001b[39;00m(err_msg)\n\u001b[1;32m   1208\u001b[0m \u001b[39melif\u001b[39;00m length \u001b[39mand\u001b[39;00m \u001b[39mlen\u001b[39m(df_input[argument]) \u001b[39m!=\u001b[39m length:\n\u001b[1;32m   1209\u001b[0m     \u001b[39mraise\u001b[39;00m \u001b[39mValueError\u001b[39;00m(\n\u001b[1;32m   1210\u001b[0m         \u001b[39m\"\u001b[39m\u001b[39mAll arguments should have the same length. \u001b[39m\u001b[39m\"\u001b[39m\n\u001b[1;32m   1211\u001b[0m         \u001b[39m\"\u001b[39m\u001b[39mThe length of column argument `df[\u001b[39m\u001b[39m%s\u001b[39;00m\u001b[39m]` is \u001b[39m\u001b[39m%d\u001b[39;00m\u001b[39m, whereas the \u001b[39m\u001b[39m\"\u001b[39m\n\u001b[0;32m   (...)\u001b[0m\n\u001b[1;32m   1218\u001b[0m         )\n\u001b[1;32m   1219\u001b[0m     )\n",
      "\u001b[0;31mValueError\u001b[0m: Value of 'color' is not the name of a column in 'data_frame'. Expected one of ['CODIGO', 'CODIGO_CORTO', 'ESTACION', 'DIRECCION', 'LONGITUD_ETRS89', 'LATITUD_ETRS89', 'ALTITUD', 'COD_TIPO', 'NOM_TIPO', 'NO2', 'SO2', 'CO', 'PM10', 'PM2_5', 'O3', 'BTX', 'COD_VIA', 'VIA_CLASE', 'VIA_PAR', 'VIA_NOMBRE', 'Fecha alta', 'COORDENADA_X_ETRS89', 'COORDENADA_Y_ETRS89', 'LONGITUD', 'LATITUD', 'geometry', 'station_type', 'CÓDIGO', 'CÓDIGO_CORTO', 'VV (81)', 'DV (82)', 'T (83)', 'HR (86)', 'PB (87)', 'RS (88)', 'P (89)', 'NUM_VIA', 'Unnamed: 23'] but received: final"
     ]
    }
   ],
   "source": [
    "fig = px.scatter_mapbox(combined_df,\n",
    "                     lat='LATITUD',lon='LONGITUD',\n",
    "                     hover_name=\"ESTACION\",\n",
    "                     zoom=10, \n",
    "                     height=500,\n",
    "                     width=1000,\n",
    "                     color = \"final\",\n",
    "                     )\n",
    "fig.update_layout(mapbox_style=\"stamen-terrain\")\n",
    "fig.update_traces(marker={'size': 15})\n",
    "fig.update_layout(margin={\"r\":0,\"t\":0,\"l\":0,\"b\":0})\n",
    "fig.show()"
   ]
  },
  {
   "cell_type": "code",
   "execution_count": 46,
   "metadata": {},
   "outputs": [
    {
     "data": {
      "image/png": "[encoded data removed]",
      "text/plain": [
       "<Figure size 640x480 with 2 Axes>"
      ]
     },
     "metadata": {},
     "output_type": "display_data"
    }
   ],
   "source": [
    "sns.heatmap(output_matrix.T, annot = True)\n",
    "plt.xticks(ticks=np.arange(8), labels = list(selected_meteor_stations_df['ESTACION']), rotation = 42 )\n",
    "plt.yticks(ticks=np.arange(3), labels = list(selected_air_stations_df['ESTACION']), rotation = 0)\n",
    "plt.show()"
   ]
  },
  {
   "cell_type": "markdown",
   "metadata": {},
   "source": [
    "## Summary\n",
    "AIR STATION          ---     METEO CLOSEST STATION\n",
    "Case de campo(24)    ---     Case de campo(24)\n",
    "Mendez Alvaro(47)    ---     JMD Moratalaz(102)\n",
    "Plaza Castilla(50)   ---     JMD Hortaleza(107)"
   ]
  },
  {
   "cell_type": "markdown",
   "metadata": {},
   "source": [
    "# "
   ]
  },
  {
   "cell_type": "code",
   "execution_count": 47,
   "metadata": {},
   "outputs": [
    {
     "data": {
      "text/html": [
       "<div>\n",
       "<style scoped>\n",
       "    .dataframe tbody tr th:only-of-type {\n",
       "        vertical-align: middle;\n",
       "    }\n",
       "\n",
       "    .dataframe tbody tr th {\n",
       "        vertical-align: top;\n",
       "    }\n",
       "\n",
       "    .dataframe thead th {\n",
       "        text-align: right;\n",
       "    }\n",
       "</style>\n",
       "<table border=\"1\" class=\"dataframe\">\n",
       "  <thead>\n",
       "    <tr style=\"text-align: right;\">\n",
       "      <th></th>\n",
       "      <th>CÓDIGO</th>\n",
       "      <th>CÓDIGO_CORTO</th>\n",
       "      <th>ESTACION</th>\n",
       "      <th>DIRECCION</th>\n",
       "      <th>LONGITUD_ETRS89</th>\n",
       "      <th>LATITUD_ETRS89</th>\n",
       "      <th>ALTITUD</th>\n",
       "      <th>VV (81)</th>\n",
       "      <th>DV (82)</th>\n",
       "      <th>T (83)</th>\n",
       "      <th>...</th>\n",
       "      <th>VIA_CLASE</th>\n",
       "      <th>VIA_PAR</th>\n",
       "      <th>VIA_NOMBRE</th>\n",
       "      <th>NUM_VIA</th>\n",
       "      <th>COORDENADA_X_ETRS89</th>\n",
       "      <th>COORDENADA_Y_ETRS89</th>\n",
       "      <th>LONGITUD</th>\n",
       "      <th>LATITUD</th>\n",
       "      <th>Unnamed: 23</th>\n",
       "      <th>station_type</th>\n",
       "    </tr>\n",
       "  </thead>\n",
       "  <tbody>\n",
       "    <tr>\n",
       "      <th>4</th>\n",
       "      <td>28079024.0</td>\n",
       "      <td>24.0</td>\n",
       "      <td>Casa de Campo</td>\n",
       "      <td>Casa de Campo  (Terminal del Teleférico)</td>\n",
       "      <td>3°44'50.44\"O</td>\n",
       "      <td>40°25'9.69\"N</td>\n",
       "      <td>646.0</td>\n",
       "      <td>X</td>\n",
       "      <td>X</td>\n",
       "      <td>X</td>\n",
       "      <td>...</td>\n",
       "      <td>CARRETERA</td>\n",
       "      <td>DEL</td>\n",
       "      <td>TELEFERICO</td>\n",
       "      <td>NaN</td>\n",
       "      <td>436598,5637</td>\n",
       "      <td>4474571,618</td>\n",
       "      <td>-3.747345</td>\n",
       "      <td>40.419358</td>\n",
       "      <td>NaN</td>\n",
       "      <td>meteorlogical station</td>\n",
       "    </tr>\n",
       "    <tr>\n",
       "      <th>13</th>\n",
       "      <td>28079102.0</td>\n",
       "      <td>102.0</td>\n",
       "      <td>J.M.D. Moratalaz</td>\n",
       "      <td>C/ Fuente Carantona, 8</td>\n",
       "      <td>3º 38' 13'' O</td>\n",
       "      <td>40º 23' 55'' N</td>\n",
       "      <td>687.0</td>\n",
       "      <td>X</td>\n",
       "      <td>X</td>\n",
       "      <td>X</td>\n",
       "      <td>...</td>\n",
       "      <td>CALLE</td>\n",
       "      <td>DE LA</td>\n",
       "      <td>FUENTE CARRANTONA</td>\n",
       "      <td>8</td>\n",
       "      <td>445947,89</td>\n",
       "      <td>4472195,4</td>\n",
       "      <td>-3.635637</td>\n",
       "      <td>40.399793</td>\n",
       "      <td>NaN</td>\n",
       "      <td>meteorlogical station</td>\n",
       "    </tr>\n",
       "    <tr>\n",
       "      <th>17</th>\n",
       "      <td>28079107.0</td>\n",
       "      <td>107.0</td>\n",
       "      <td>J.M.D. Hortaleza</td>\n",
       "      <td>Ctra. de Canillas, 2</td>\n",
       "      <td>3º 39' 24'' O</td>\n",
       "      <td>40º 27' 46'' N</td>\n",
       "      <td>715.0</td>\n",
       "      <td>X</td>\n",
       "      <td>X</td>\n",
       "      <td>X</td>\n",
       "      <td>...</td>\n",
       "      <td>CARRETERA</td>\n",
       "      <td>DE</td>\n",
       "      <td>CANILLAS</td>\n",
       "      <td>2</td>\n",
       "      <td>444215,2</td>\n",
       "      <td>4479200,02</td>\n",
       "      <td>-3.656667</td>\n",
       "      <td>40.462778</td>\n",
       "      <td>NaN</td>\n",
       "      <td>meteorlogical station</td>\n",
       "    </tr>\n",
       "  </tbody>\n",
       "</table>\n",
       "<p>3 rows × 25 columns</p>\n",
       "</div>"
      ],
      "text/plain": [
       "        CÓDIGO  CÓDIGO_CORTO          ESTACION  \\\n",
       "4   28079024.0          24.0     Casa de Campo   \n",
       "13  28079102.0         102.0  J.M.D. Moratalaz   \n",
       "17  28079107.0         107.0  J.M.D. Hortaleza   \n",
       "\n",
       "                                   DIRECCION LONGITUD_ETRS89  LATITUD_ETRS89  \\\n",
       "4   Casa de Campo  (Terminal del Teleférico)    3°44'50.44\"O    40°25'9.69\"N   \n",
       "13                    C/ Fuente Carantona, 8   3º 38' 13'' O  40º 23' 55'' N   \n",
       "17                      Ctra. de Canillas, 2   3º 39' 24'' O  40º 27' 46'' N   \n",
       "\n",
       "    ALTITUD VV (81) DV (82) T (83)  ...  VIA_CLASE VIA_PAR         VIA_NOMBRE  \\\n",
       "4     646.0       X       X      X  ...  CARRETERA     DEL         TELEFERICO   \n",
       "13    687.0       X       X      X  ...      CALLE   DE LA  FUENTE CARRANTONA   \n",
       "17    715.0       X       X      X  ...  CARRETERA      DE           CANILLAS   \n",
       "\n",
       "   NUM_VIA  COORDENADA_X_ETRS89 COORDENADA_Y_ETRS89  LONGITUD    LATITUD  \\\n",
       "4      NaN          436598,5637         4474571,618 -3.747345  40.419358   \n",
       "13       8            445947,89           4472195,4 -3.635637  40.399793   \n",
       "17       2             444215,2          4479200,02 -3.656667  40.462778   \n",
       "\n",
       "   Unnamed: 23           station_type  \n",
       "4          NaN  meteorlogical station  \n",
       "13         NaN  meteorlogical station  \n",
       "17         NaN  meteorlogical station  \n",
       "\n",
       "[3 rows x 25 columns]"
      ]
     },
     "execution_count": 47,
     "metadata": {},
     "output_type": "execute_result"
    }
   ],
   "source": [
    "selected_meteor_station_index = [24,102,107]\n",
    "selected_meteor_stations_df[selected_meteor_stations_df['CÓDIGO_CORTO'].isin(selected_meteor_station_index)]"
   ]
  },
  {
   "cell_type": "markdown",
   "metadata": {},
   "source": []
  },
  {
   "cell_type": "markdown",
   "metadata": {},
   "source": [
    "---"
   ]
  },
  {
   "cell_type": "markdown",
   "metadata": {},
   "source": [
    "## "
   ]
  },
  {
   "cell_type": "markdown",
   "metadata": {},
   "source": [
    "## create combined df for selected meteor stations and meteor index"
   ]
  },
  {
   "cell_type": "markdown",
   "metadata": {},
   "source": [
    "df = pd.read_csv*()"
   ]
  },
  {
   "cell_type": "code",
   "execution_count": 5,
   "metadata": {},
   "outputs": [],
   "source": [
    "import numpy as np\n",
    "import pandas as pd\n",
    "import matplotlib.pyplot as plt\n",
    "import seaborn as sns\n",
    "\n",
    "from shapely.geometry import Point\n",
    "import geopandas as gpd\n",
    "from geopandas import GeoDataFrame\n",
    "\n",
    "import plotly.express as px\n",
    "import plotly.graph_objects as go\n",
    "\n",
    "from geopy.distance import geodesic as GD\n",
    "\n",
    "import haversine as hs\n",
    "from haversine import Unit"
   ]
  },
  {
   "cell_type": "code",
   "execution_count": 70,
   "metadata": {},
   "outputs": [
    {
     "data": {
      "text/html": [
       "<div>\n",
       "<style scoped>\n",
       "    .dataframe tbody tr th:only-of-type {\n",
       "        vertical-align: middle;\n",
       "    }\n",
       "\n",
       "    .dataframe tbody tr th {\n",
       "        vertical-align: top;\n",
       "    }\n",
       "\n",
       "    .dataframe thead th {\n",
       "        text-align: right;\n",
       "    }\n",
       "</style>\n",
       "<table border=\"1\" class=\"dataframe\">\n",
       "  <thead>\n",
       "    <tr style=\"text-align: right;\">\n",
       "      <th></th>\n",
       "      <th>PROVINCIA</th>\n",
       "      <th>MUNICIPIO</th>\n",
       "      <th>ESTACION</th>\n",
       "      <th>MAGNITUD</th>\n",
       "      <th>PUNTO_MUESTREO</th>\n",
       "      <th>ANO</th>\n",
       "      <th>MES</th>\n",
       "      <th>D01</th>\n",
       "      <th>V01</th>\n",
       "      <th>D02</th>\n",
       "      <th>...</th>\n",
       "      <th>D27</th>\n",
       "      <th>V27</th>\n",
       "      <th>D28</th>\n",
       "      <th>V28</th>\n",
       "      <th>D29</th>\n",
       "      <th>V29</th>\n",
       "      <th>D30</th>\n",
       "      <th>V30</th>\n",
       "      <th>D31</th>\n",
       "      <th>V31</th>\n",
       "    </tr>\n",
       "  </thead>\n",
       "  <tbody>\n",
       "    <tr>\n",
       "      <th>0</th>\n",
       "      <td>28</td>\n",
       "      <td>79</td>\n",
       "      <td>102</td>\n",
       "      <td>81</td>\n",
       "      <td>28079102_81_98</td>\n",
       "      <td>2019</td>\n",
       "      <td>1</td>\n",
       "      <td>0.66</td>\n",
       "      <td>V</td>\n",
       "      <td>1.16</td>\n",
       "      <td>...</td>\n",
       "      <td>2.57</td>\n",
       "      <td>V</td>\n",
       "      <td>2.93</td>\n",
       "      <td>V</td>\n",
       "      <td>3.23</td>\n",
       "      <td>V</td>\n",
       "      <td>3.18</td>\n",
       "      <td>V</td>\n",
       "      <td>4.72</td>\n",
       "      <td>V</td>\n",
       "    </tr>\n",
       "    <tr>\n",
       "      <th>1</th>\n",
       "      <td>28</td>\n",
       "      <td>79</td>\n",
       "      <td>102</td>\n",
       "      <td>81</td>\n",
       "      <td>28079102_81_98</td>\n",
       "      <td>2019</td>\n",
       "      <td>2</td>\n",
       "      <td>4.32</td>\n",
       "      <td>V</td>\n",
       "      <td>2.98</td>\n",
       "      <td>...</td>\n",
       "      <td>1.36</td>\n",
       "      <td>V</td>\n",
       "      <td>0.97</td>\n",
       "      <td>V</td>\n",
       "      <td>0.00</td>\n",
       "      <td>N</td>\n",
       "      <td>0.00</td>\n",
       "      <td>N</td>\n",
       "      <td>0.00</td>\n",
       "      <td>N</td>\n",
       "    </tr>\n",
       "    <tr>\n",
       "      <th>2</th>\n",
       "      <td>28</td>\n",
       "      <td>79</td>\n",
       "      <td>102</td>\n",
       "      <td>81</td>\n",
       "      <td>28079102_81_98</td>\n",
       "      <td>2019</td>\n",
       "      <td>3</td>\n",
       "      <td>1.57</td>\n",
       "      <td>V</td>\n",
       "      <td>1.13</td>\n",
       "      <td>...</td>\n",
       "      <td>1.48</td>\n",
       "      <td>V</td>\n",
       "      <td>1.69</td>\n",
       "      <td>V</td>\n",
       "      <td>2.89</td>\n",
       "      <td>V</td>\n",
       "      <td>1.99</td>\n",
       "      <td>V</td>\n",
       "      <td>1.72</td>\n",
       "      <td>V</td>\n",
       "    </tr>\n",
       "    <tr>\n",
       "      <th>3</th>\n",
       "      <td>28</td>\n",
       "      <td>79</td>\n",
       "      <td>102</td>\n",
       "      <td>81</td>\n",
       "      <td>28079102_81_98</td>\n",
       "      <td>2019</td>\n",
       "      <td>4</td>\n",
       "      <td>1.32</td>\n",
       "      <td>V</td>\n",
       "      <td>1.21</td>\n",
       "      <td>...</td>\n",
       "      <td>1.00</td>\n",
       "      <td>V</td>\n",
       "      <td>1.82</td>\n",
       "      <td>V</td>\n",
       "      <td>1.97</td>\n",
       "      <td>V</td>\n",
       "      <td>1.84</td>\n",
       "      <td>V</td>\n",
       "      <td>0.00</td>\n",
       "      <td>N</td>\n",
       "    </tr>\n",
       "    <tr>\n",
       "      <th>4</th>\n",
       "      <td>28</td>\n",
       "      <td>79</td>\n",
       "      <td>102</td>\n",
       "      <td>81</td>\n",
       "      <td>28079102_81_98</td>\n",
       "      <td>2019</td>\n",
       "      <td>5</td>\n",
       "      <td>2.06</td>\n",
       "      <td>V</td>\n",
       "      <td>2.21</td>\n",
       "      <td>...</td>\n",
       "      <td>1.77</td>\n",
       "      <td>V</td>\n",
       "      <td>3.32</td>\n",
       "      <td>V</td>\n",
       "      <td>3.76</td>\n",
       "      <td>V</td>\n",
       "      <td>3.04</td>\n",
       "      <td>V</td>\n",
       "      <td>1.89</td>\n",
       "      <td>V</td>\n",
       "    </tr>\n",
       "  </tbody>\n",
       "</table>\n",
       "<p>5 rows × 69 columns</p>\n",
       "</div>"
      ],
      "text/plain": [
       "   PROVINCIA  MUNICIPIO  ESTACION  MAGNITUD  PUNTO_MUESTREO   ANO  MES   D01  \\\n",
       "0         28         79       102        81  28079102_81_98  2019    1  0.66   \n",
       "1         28         79       102        81  28079102_81_98  2019    2  4.32   \n",
       "2         28         79       102        81  28079102_81_98  2019    3  1.57   \n",
       "3         28         79       102        81  28079102_81_98  2019    4  1.32   \n",
       "4         28         79       102        81  28079102_81_98  2019    5  2.06   \n",
       "\n",
       "  V01   D02  ...   D27  V27   D28  V28   D29  V29   D30  V30   D31  V31  \n",
       "0   V  1.16  ...  2.57    V  2.93    V  3.23    V  3.18    V  4.72    V  \n",
       "1   V  2.98  ...  1.36    V  0.97    V  0.00    N  0.00    N  0.00    N  \n",
       "2   V  1.13  ...  1.48    V  1.69    V  2.89    V  1.99    V  1.72    V  \n",
       "3   V  1.21  ...  1.00    V  1.82    V  1.97    V  1.84    V  0.00    N  \n",
       "4   V  2.21  ...  1.77    V  3.32    V  3.76    V  3.04    V  1.89    V  \n",
       "\n",
       "[5 rows x 69 columns]"
      ]
     },
     "execution_count": 70,
     "metadata": {},
     "output_type": "execute_result"
    }
   ],
   "source": [
    "df = pd.read_csv(\"/Users/carlosito/Library/CloudStorage/OneDrive-Personal/AIT material/DANIclass/2-Iot/Project/Madrid/meteo/2019meteorologicos-diarios.csv\",\n",
    "                 sep = ';')\n",
    "df.head()"
   ]
  },
  {
   "cell_type": "code",
   "execution_count": 81,
   "metadata": {},
   "outputs": [
    {
     "data": {
      "text/plain": [
       "array([[28, 79, 24, 83, '28079024_83_98', 2019, 11, 16.4, 'V', 15.3, 'V',\n",
       "        13.8, 'V', 12.9, 'V', 9.9, 'V', 10.4, 'V', 9.5, 'V', 7.7, 'V',\n",
       "        7.4, 'V', 7.1, 'V', 7.9, 'V', 7.9, 'V', 11.8, 'V', 7.2, 'N',\n",
       "        -29.6, 'N', -28.8, 'N', -29.0, 'N', -26.5, 'N', -20.4, 'N', 6.5,\n",
       "        'N', 6.8, 'V', 8.6, 'V', 8.7, 'V', 8.6, 'V', 11.0, 'V', 11.2,\n",
       "        'V', 10.6, 'V', 9.6, 'V', 12.3, 'V', 11.7, 'V', 0.0, 'N']],\n",
       "      dtype=object)"
      ]
     },
     "execution_count": 81,
     "metadata": {},
     "output_type": "execute_result"
    }
   ],
   "source": [
    "df[(df[\"MES\"] == 11)&  (df[\"MAGNITUD\"] == 83) &  (df[\"ESTACION\"] == 24)].values"
   ]
  },
  {
   "cell_type": "code",
   "execution_count": 118,
   "metadata": {},
   "outputs": [],
   "source": [
    "\n",
    "selected_meteor_station_index = [24,102,107]\n",
    "selected_meteorlogical_factors = [81,83,88,89]\n",
    "\n",
    "\n",
    "meteor_dict = {\n",
    "    'station_name' : {24 : 'Casa de Campo',\n",
    "               102: \"J.M.D. Moratalaz\",\n",
    "               107: \"J.M.D. Hortaleza\"}\n",
    "    ,\n",
    "\n",
    "    'meteor_factor': {81: 'Wind Speed',\n",
    "                 83: 'Temperature',\n",
    "                 88: 'Solar Radiation',\n",
    "                 89: 'Precipitation'\n",
    "                 }\n",
    "}\n",
    "\n",
    "def clean_meteor_data(filename):\n",
    "        \n",
    "        \n",
    "        \n",
    "    V_list= [\"V0\"+str(i) for i in range(1, 10)]  + [\"V1\"+str(i) for i in range(0, 10)] + [\"V2\"+str(i) for i in range(0, 10)] +['V30', \"V31\"]\n",
    "    print('Cleaning METEOR data...')\n",
    "    df = pd.read_csv(filename, sep=';')\n",
    "    df = df[(df['ESTACION'].isin(selected_meteor_station_index)) &\n",
    "            (df['MAGNITUD'].isin(selected_meteorlogical_factors))]\n",
    "\n",
    "    \n",
    "    df = pd.melt(df, id_vars=['ESTACION', 'ANO', 'MES', 'MAGNITUD'], value_vars=V_list)\n",
    "    \n",
    "    return df"
   ]
  },
  {
   "cell_type": "code",
   "execution_count": 121,
   "metadata": {},
   "outputs": [],
   "source": [
    "\n",
    "\n",
    "\n",
    "def edit_month_to_two_digit(input):\n",
    "    if len(str(input)) < 2:\n",
    "        new_input = str(0) + str(input)\n",
    "    else:\n",
    "        new_input = input\n",
    "    \n",
    "    return new_input\n",
    "\n",
    "def clean_meteor_data(filename):\n",
    "    \n",
    "    print('Cleaning METEOR data...')\n",
    "    df = pd.read_csv(filename, sep=';')\n",
    "    df = df[(df['ESTACION'].isin(selected_meteor_station_index)) &\n",
    "            (df['MAGNITUD'].isin(selected_meteorlogical_factors))]\n",
    "\n",
    "    D_list= [\"D0\"+str(i) for i in range(1, 10)]  + [\"D1\"+str(i) for i in range(0, 10)] + [\"D2\"+str(i) for i in range(0, 10)] +['D30', \"D31\"]\n",
    "    V_list= [\"V0\"+str(i) for i in range(1, 10)]  + [\"V1\"+str(i) for i in range(0, 10)] + [\"V2\"+str(i) for i in range(0, 10)] +['V30', \"V31\"]\n",
    "\n",
    "\n",
    "    v_df = pd.melt(df, id_vars=['ESTACION', 'ANO', 'MES', 'MAGNITUD'], value_vars=V_list, value_name= 'sensor_valid')\n",
    "    df = pd.melt(df, id_vars=['ESTACION', 'ANO', 'MES', 'MAGNITUD'], value_vars=D_list)\n",
    "    \n",
    "    df['sensor_valid'] = v_df['sensor_valid']\n",
    "    invalid_sensor_index = df[df['sensor_valid'] != 'V'].index\n",
    "    \n",
    "    date_constraint_df = df[ (df['MES'] == 2) & (df['variable'].isin(['D29','D30','D31'])) |\n",
    "    ((df['MES'] == 4) & (df['variable'].isin(['D31'])) )  |\n",
    "    ((df['MES'] == 6) & (df['variable'].isin(['D31'])) )  |\n",
    "    ((df['MES'] == 9) & (df['variable'].isin(['D31'])) )  |\n",
    "    ((df['MES'] == 11) & (df['variable'].isin(['D31'])) ) \n",
    "    ]  \n",
    "    \n",
    "    # # assert date_constraint_df['value'].sum() == 0\n",
    "    \n",
    "    to_drop_index = invalid_sensor_index.union(date_constraint_df.index)\n",
    "    print(f'Dropping: {len(invalid_sensor_index)} rows')\n",
    "    df = df.drop(to_drop_index)\n",
    "    df['meteor_factor'] = df['MAGNITUD'].apply(lambda x : meteor_dict['meteor_factor'][x] )\n",
    "    df['station_name'] = df['ESTACION'].apply(lambda x : meteor_dict['station_name'][x] )\n",
    "\n",
    "    \n",
    "    \n",
    "    # MANAGE TIMESTAMP\n",
    "    \n",
    "    df['MES'] = df.apply(lambda x: edit_month_to_two_digit(x['MES']), axis = 1)\n",
    "    df['datestamp'] = pd.to_datetime(df.apply(lambda x  : x['variable'][1:] +\"-\" + str(x['MES']) + \"-\" + str(x['ANO']), axis = 1),\n",
    "               format = '%d-%m-%Y')\n",
    "    \n",
    "    \n",
    "    return df"
   ]
  },
  {
   "cell_type": "code",
   "execution_count": 122,
   "metadata": {},
   "outputs": [
    {
     "name": "stdout",
     "output_type": "stream",
     "text": [
      "Cleaning METEOR data...\n",
      "Dropping: 116 rows\n"
     ]
    }
   ],
   "source": [
    "test = clean_meteor_data(\"/Users/carlosito/Library/CloudStorage/OneDrive-Personal/AIT material/DANIclass/2-Iot/Project/Madrid/meteo/2019meteorologicos-diarios.csv\")"
   ]
  },
  {
   "cell_type": "code",
   "execution_count": 131,
   "metadata": {},
   "outputs": [
    {
     "ename": "ValueError",
     "evalue": "Could not interpret value `datestamp` for parameter `x`",
     "output_type": "error",
     "traceback": [
      "\u001b[0;31m---------------------------------------------------------------------------\u001b[0m",
      "\u001b[0;31mValueError\u001b[0m                                Traceback (most recent call last)",
      "Cell \u001b[0;32mIn [131], line 1\u001b[0m\n\u001b[0;32m----> 1\u001b[0m sns\u001b[39m.\u001b[39;49mlineplot(df \u001b[39m=\u001b[39;49m test[(test[\u001b[39m'\u001b[39;49m\u001b[39mMES\u001b[39;49m\u001b[39m'\u001b[39;49m] \u001b[39m==\u001b[39;49m \u001b[39m11\u001b[39;49m) \u001b[39m&\u001b[39;49m (test[\u001b[39m'\u001b[39;49m\u001b[39mMAGNITUD\u001b[39;49m\u001b[39m'\u001b[39;49m] \u001b[39m==\u001b[39;49m \u001b[39m83\u001b[39;49m)], x\u001b[39m=\u001b[39;49m \u001b[39m'\u001b[39;49m\u001b[39mdatestamp\u001b[39;49m\u001b[39m'\u001b[39;49m, y \u001b[39m=\u001b[39;49m \u001b[39m'\u001b[39;49m\u001b[39mvalue\u001b[39;49m\u001b[39m'\u001b[39;49m)\n",
      "File \u001b[0;32m~/Library/CloudStorage/OneDrive-Personal/AIT material/DANIclass/2-Iot/Project/code/madrid_iot/lib/python3.10/site-packages/seaborn/relational.py:618\u001b[0m, in \u001b[0;36mlineplot\u001b[0;34m(data, x, y, hue, size, style, units, palette, hue_order, hue_norm, sizes, size_order, size_norm, dashes, markers, style_order, estimator, errorbar, n_boot, seed, orient, sort, err_style, err_kws, legend, ci, ax, **kwargs)\u001b[0m\n\u001b[1;32m    615\u001b[0m errorbar \u001b[39m=\u001b[39m _deprecate_ci(errorbar, ci)\n\u001b[1;32m    617\u001b[0m variables \u001b[39m=\u001b[39m _LinePlotter\u001b[39m.\u001b[39mget_semantics(\u001b[39mlocals\u001b[39m())\n\u001b[0;32m--> 618\u001b[0m p \u001b[39m=\u001b[39m _LinePlotter(\n\u001b[1;32m    619\u001b[0m     data\u001b[39m=\u001b[39;49mdata, variables\u001b[39m=\u001b[39;49mvariables,\n\u001b[1;32m    620\u001b[0m     estimator\u001b[39m=\u001b[39;49mestimator, n_boot\u001b[39m=\u001b[39;49mn_boot, seed\u001b[39m=\u001b[39;49mseed, errorbar\u001b[39m=\u001b[39;49merrorbar,\n\u001b[1;32m    621\u001b[0m     sort\u001b[39m=\u001b[39;49msort, orient\u001b[39m=\u001b[39;49morient, err_style\u001b[39m=\u001b[39;49merr_style, err_kws\u001b[39m=\u001b[39;49merr_kws,\n\u001b[1;32m    622\u001b[0m     legend\u001b[39m=\u001b[39;49mlegend,\n\u001b[1;32m    623\u001b[0m )\n\u001b[1;32m    625\u001b[0m p\u001b[39m.\u001b[39mmap_hue(palette\u001b[39m=\u001b[39mpalette, order\u001b[39m=\u001b[39mhue_order, norm\u001b[39m=\u001b[39mhue_norm)\n\u001b[1;32m    626\u001b[0m p\u001b[39m.\u001b[39mmap_size(sizes\u001b[39m=\u001b[39msizes, order\u001b[39m=\u001b[39msize_order, norm\u001b[39m=\u001b[39msize_norm)\n",
      "File \u001b[0;32m~/Library/CloudStorage/OneDrive-Personal/AIT material/DANIclass/2-Iot/Project/code/madrid_iot/lib/python3.10/site-packages/seaborn/relational.py:365\u001b[0m, in \u001b[0;36m_LinePlotter.__init__\u001b[0;34m(self, data, variables, estimator, n_boot, seed, errorbar, sort, orient, err_style, err_kws, legend)\u001b[0m\n\u001b[1;32m    351\u001b[0m \u001b[39mdef\u001b[39;00m \u001b[39m__init__\u001b[39m(\n\u001b[1;32m    352\u001b[0m     \u001b[39mself\u001b[39m, \u001b[39m*\u001b[39m,\n\u001b[1;32m    353\u001b[0m     data\u001b[39m=\u001b[39m\u001b[39mNone\u001b[39;00m, variables\u001b[39m=\u001b[39m{},\n\u001b[0;32m   (...)\u001b[0m\n\u001b[1;32m    359\u001b[0m     \u001b[39m# the kind of plot to draw, but for the time being we need to set\u001b[39;00m\n\u001b[1;32m    360\u001b[0m     \u001b[39m# this information so the SizeMapping can use it\u001b[39;00m\n\u001b[1;32m    361\u001b[0m     \u001b[39mself\u001b[39m\u001b[39m.\u001b[39m_default_size_range \u001b[39m=\u001b[39m (\n\u001b[1;32m    362\u001b[0m         np\u001b[39m.\u001b[39mr_[\u001b[39m.5\u001b[39m, \u001b[39m2\u001b[39m] \u001b[39m*\u001b[39m mpl\u001b[39m.\u001b[39mrcParams[\u001b[39m\"\u001b[39m\u001b[39mlines.linewidth\u001b[39m\u001b[39m\"\u001b[39m]\n\u001b[1;32m    363\u001b[0m     )\n\u001b[0;32m--> 365\u001b[0m     \u001b[39msuper\u001b[39;49m()\u001b[39m.\u001b[39;49m\u001b[39m__init__\u001b[39;49m(data\u001b[39m=\u001b[39;49mdata, variables\u001b[39m=\u001b[39;49mvariables)\n\u001b[1;32m    367\u001b[0m     \u001b[39mself\u001b[39m\u001b[39m.\u001b[39mestimator \u001b[39m=\u001b[39m estimator\n\u001b[1;32m    368\u001b[0m     \u001b[39mself\u001b[39m\u001b[39m.\u001b[39merrorbar \u001b[39m=\u001b[39m errorbar\n",
      "File \u001b[0;32m~/Library/CloudStorage/OneDrive-Personal/AIT material/DANIclass/2-Iot/Project/code/madrid_iot/lib/python3.10/site-packages/seaborn/_oldcore.py:640\u001b[0m, in \u001b[0;36mVectorPlotter.__init__\u001b[0;34m(self, data, variables)\u001b[0m\n\u001b[1;32m    635\u001b[0m \u001b[39m# var_ordered is relevant only for categorical axis variables, and may\u001b[39;00m\n\u001b[1;32m    636\u001b[0m \u001b[39m# be better handled by an internal axis information object that tracks\u001b[39;00m\n\u001b[1;32m    637\u001b[0m \u001b[39m# such information and is set up by the scale_* methods. The analogous\u001b[39;00m\n\u001b[1;32m    638\u001b[0m \u001b[39m# information for numeric axes would be information about log scales.\u001b[39;00m\n\u001b[1;32m    639\u001b[0m \u001b[39mself\u001b[39m\u001b[39m.\u001b[39m_var_ordered \u001b[39m=\u001b[39m {\u001b[39m\"\u001b[39m\u001b[39mx\u001b[39m\u001b[39m\"\u001b[39m: \u001b[39mFalse\u001b[39;00m, \u001b[39m\"\u001b[39m\u001b[39my\u001b[39m\u001b[39m\"\u001b[39m: \u001b[39mFalse\u001b[39;00m}  \u001b[39m# alt., used DefaultDict\u001b[39;00m\n\u001b[0;32m--> 640\u001b[0m \u001b[39mself\u001b[39;49m\u001b[39m.\u001b[39;49massign_variables(data, variables)\n\u001b[1;32m    642\u001b[0m \u001b[39mfor\u001b[39;00m var, \u001b[39mcls\u001b[39m \u001b[39min\u001b[39;00m \u001b[39mself\u001b[39m\u001b[39m.\u001b[39m_semantic_mappings\u001b[39m.\u001b[39mitems():\n\u001b[1;32m    643\u001b[0m \n\u001b[1;32m    644\u001b[0m     \u001b[39m# Create the mapping function\u001b[39;00m\n\u001b[1;32m    645\u001b[0m     map_func \u001b[39m=\u001b[39m partial(\u001b[39mcls\u001b[39m\u001b[39m.\u001b[39mmap, plotter\u001b[39m=\u001b[39m\u001b[39mself\u001b[39m)\n",
      "File \u001b[0;32m~/Library/CloudStorage/OneDrive-Personal/AIT material/DANIclass/2-Iot/Project/code/madrid_iot/lib/python3.10/site-packages/seaborn/_oldcore.py:701\u001b[0m, in \u001b[0;36mVectorPlotter.assign_variables\u001b[0;34m(self, data, variables)\u001b[0m\n\u001b[1;32m    699\u001b[0m \u001b[39melse\u001b[39;00m:\n\u001b[1;32m    700\u001b[0m     \u001b[39mself\u001b[39m\u001b[39m.\u001b[39minput_format \u001b[39m=\u001b[39m \u001b[39m\"\u001b[39m\u001b[39mlong\u001b[39m\u001b[39m\"\u001b[39m\n\u001b[0;32m--> 701\u001b[0m     plot_data, variables \u001b[39m=\u001b[39m \u001b[39mself\u001b[39;49m\u001b[39m.\u001b[39;49m_assign_variables_longform(\n\u001b[1;32m    702\u001b[0m         data, \u001b[39m*\u001b[39;49m\u001b[39m*\u001b[39;49mvariables,\n\u001b[1;32m    703\u001b[0m     )\n\u001b[1;32m    705\u001b[0m \u001b[39mself\u001b[39m\u001b[39m.\u001b[39mplot_data \u001b[39m=\u001b[39m plot_data\n\u001b[1;32m    706\u001b[0m \u001b[39mself\u001b[39m\u001b[39m.\u001b[39mvariables \u001b[39m=\u001b[39m variables\n",
      "File \u001b[0;32m~/Library/CloudStorage/OneDrive-Personal/AIT material/DANIclass/2-Iot/Project/code/madrid_iot/lib/python3.10/site-packages/seaborn/_oldcore.py:938\u001b[0m, in \u001b[0;36mVectorPlotter._assign_variables_longform\u001b[0;34m(self, data, **kwargs)\u001b[0m\n\u001b[1;32m    933\u001b[0m \u001b[39melif\u001b[39;00m \u001b[39misinstance\u001b[39m(val, (\u001b[39mstr\u001b[39m, \u001b[39mbytes\u001b[39m)):\n\u001b[1;32m    934\u001b[0m \n\u001b[1;32m    935\u001b[0m     \u001b[39m# This looks like a column name but we don't know what it means!\u001b[39;00m\n\u001b[1;32m    937\u001b[0m     err \u001b[39m=\u001b[39m \u001b[39mf\u001b[39m\u001b[39m\"\u001b[39m\u001b[39mCould not interpret value `\u001b[39m\u001b[39m{\u001b[39;00mval\u001b[39m}\u001b[39;00m\u001b[39m` for parameter `\u001b[39m\u001b[39m{\u001b[39;00mkey\u001b[39m}\u001b[39;00m\u001b[39m`\u001b[39m\u001b[39m\"\u001b[39m\n\u001b[0;32m--> 938\u001b[0m     \u001b[39mraise\u001b[39;00m \u001b[39mValueError\u001b[39;00m(err)\n\u001b[1;32m    940\u001b[0m \u001b[39melse\u001b[39;00m:\n\u001b[1;32m    941\u001b[0m \n\u001b[1;32m    942\u001b[0m     \u001b[39m# Otherwise, assume the value is itself data\u001b[39;00m\n\u001b[1;32m    943\u001b[0m \n\u001b[1;32m    944\u001b[0m     \u001b[39m# Raise when data object is present and a vector can't matched\u001b[39;00m\n\u001b[1;32m    945\u001b[0m     \u001b[39mif\u001b[39;00m \u001b[39misinstance\u001b[39m(data, pd\u001b[39m.\u001b[39mDataFrame) \u001b[39mand\u001b[39;00m \u001b[39mnot\u001b[39;00m \u001b[39misinstance\u001b[39m(val, pd\u001b[39m.\u001b[39mSeries):\n",
      "\u001b[0;31mValueError\u001b[0m: Could not interpret value `datestamp` for parameter `x`"
     ]
    }
   ],
   "source": [
    "sns.lineplot(df = test[(test['MES'] == 11) & (test['MAGNITUD'] == 83)], x= 'datestamp', y = 'value')"
   ]
  },
  {
   "cell_type": "code",
   "execution_count": 1,
   "metadata": {},
   "outputs": [],
   "source": [
    "from functions import clean_meteor_data"
   ]
  },
  {
   "cell_type": "code",
   "execution_count": 2,
   "metadata": {},
   "outputs": [
    {
     "name": "stdout",
     "output_type": "stream",
     "text": [
      "Cleaning METEOR data...\n"
     ]
    },
    {
     "data": {
      "text/html": [
       "<div>\n",
       "<style scoped>\n",
       "    .dataframe tbody tr th:only-of-type {\n",
       "        vertical-align: middle;\n",
       "    }\n",
       "\n",
       "    .dataframe tbody tr th {\n",
       "        vertical-align: top;\n",
       "    }\n",
       "\n",
       "    .dataframe thead th {\n",
       "        text-align: right;\n",
       "    }\n",
       "</style>\n",
       "<table border=\"1\" class=\"dataframe\">\n",
       "  <thead>\n",
       "    <tr style=\"text-align: right;\">\n",
       "      <th></th>\n",
       "      <th>ESTACION</th>\n",
       "      <th>ANO</th>\n",
       "      <th>MES</th>\n",
       "      <th>MAGNITUD</th>\n",
       "      <th>variable</th>\n",
       "      <th>value</th>\n",
       "      <th>meteor_factor</th>\n",
       "      <th>station_name</th>\n",
       "      <th>datestamp</th>\n",
       "    </tr>\n",
       "  </thead>\n",
       "  <tbody>\n",
       "    <tr>\n",
       "      <th>0</th>\n",
       "      <td>102</td>\n",
       "      <td>2019</td>\n",
       "      <td>01</td>\n",
       "      <td>81</td>\n",
       "      <td>D01</td>\n",
       "      <td>0.66</td>\n",
       "      <td>Wind Speed</td>\n",
       "      <td>J.M.D. Moratalaz</td>\n",
       "      <td>2019-01-01</td>\n",
       "    </tr>\n",
       "    <tr>\n",
       "      <th>1</th>\n",
       "      <td>102</td>\n",
       "      <td>2019</td>\n",
       "      <td>02</td>\n",
       "      <td>81</td>\n",
       "      <td>D01</td>\n",
       "      <td>4.32</td>\n",
       "      <td>Wind Speed</td>\n",
       "      <td>J.M.D. Moratalaz</td>\n",
       "      <td>2019-02-01</td>\n",
       "    </tr>\n",
       "    <tr>\n",
       "      <th>2</th>\n",
       "      <td>102</td>\n",
       "      <td>2019</td>\n",
       "      <td>03</td>\n",
       "      <td>81</td>\n",
       "      <td>D01</td>\n",
       "      <td>1.57</td>\n",
       "      <td>Wind Speed</td>\n",
       "      <td>J.M.D. Moratalaz</td>\n",
       "      <td>2019-03-01</td>\n",
       "    </tr>\n",
       "    <tr>\n",
       "      <th>3</th>\n",
       "      <td>102</td>\n",
       "      <td>2019</td>\n",
       "      <td>04</td>\n",
       "      <td>81</td>\n",
       "      <td>D01</td>\n",
       "      <td>1.32</td>\n",
       "      <td>Wind Speed</td>\n",
       "      <td>J.M.D. Moratalaz</td>\n",
       "      <td>2019-04-01</td>\n",
       "    </tr>\n",
       "    <tr>\n",
       "      <th>4</th>\n",
       "      <td>102</td>\n",
       "      <td>2019</td>\n",
       "      <td>05</td>\n",
       "      <td>81</td>\n",
       "      <td>D01</td>\n",
       "      <td>2.06</td>\n",
       "      <td>Wind Speed</td>\n",
       "      <td>J.M.D. Moratalaz</td>\n",
       "      <td>2019-05-01</td>\n",
       "    </tr>\n",
       "    <tr>\n",
       "      <th>...</th>\n",
       "      <td>...</td>\n",
       "      <td>...</td>\n",
       "      <td>...</td>\n",
       "      <td>...</td>\n",
       "      <td>...</td>\n",
       "      <td>...</td>\n",
       "      <td>...</td>\n",
       "      <td>...</td>\n",
       "      <td>...</td>\n",
       "    </tr>\n",
       "    <tr>\n",
       "      <th>4456</th>\n",
       "      <td>24</td>\n",
       "      <td>2019</td>\n",
       "      <td>05</td>\n",
       "      <td>89</td>\n",
       "      <td>D31</td>\n",
       "      <td>0.00</td>\n",
       "      <td>Precipitation</td>\n",
       "      <td>Casa de Campo</td>\n",
       "      <td>2019-05-31</td>\n",
       "    </tr>\n",
       "    <tr>\n",
       "      <th>4458</th>\n",
       "      <td>24</td>\n",
       "      <td>2019</td>\n",
       "      <td>07</td>\n",
       "      <td>89</td>\n",
       "      <td>D31</td>\n",
       "      <td>0.90</td>\n",
       "      <td>Precipitation</td>\n",
       "      <td>Casa de Campo</td>\n",
       "      <td>2019-07-31</td>\n",
       "    </tr>\n",
       "    <tr>\n",
       "      <th>4459</th>\n",
       "      <td>24</td>\n",
       "      <td>2019</td>\n",
       "      <td>08</td>\n",
       "      <td>89</td>\n",
       "      <td>D31</td>\n",
       "      <td>0.00</td>\n",
       "      <td>Precipitation</td>\n",
       "      <td>Casa de Campo</td>\n",
       "      <td>2019-08-31</td>\n",
       "    </tr>\n",
       "    <tr>\n",
       "      <th>4461</th>\n",
       "      <td>24</td>\n",
       "      <td>2019</td>\n",
       "      <td>10</td>\n",
       "      <td>89</td>\n",
       "      <td>D31</td>\n",
       "      <td>0.30</td>\n",
       "      <td>Precipitation</td>\n",
       "      <td>Casa de Campo</td>\n",
       "      <td>2019-10-31</td>\n",
       "    </tr>\n",
       "    <tr>\n",
       "      <th>4463</th>\n",
       "      <td>24</td>\n",
       "      <td>2019</td>\n",
       "      <td>12</td>\n",
       "      <td>89</td>\n",
       "      <td>D31</td>\n",
       "      <td>0.00</td>\n",
       "      <td>Precipitation</td>\n",
       "      <td>Casa de Campo</td>\n",
       "      <td>2019-12-31</td>\n",
       "    </tr>\n",
       "  </tbody>\n",
       "</table>\n",
       "<p>4380 rows × 9 columns</p>\n",
       "</div>"
      ],
      "text/plain": [
       "      ESTACION   ANO MES  MAGNITUD variable  value  meteor_factor  \\\n",
       "0          102  2019  01        81      D01   0.66     Wind Speed   \n",
       "1          102  2019  02        81      D01   4.32     Wind Speed   \n",
       "2          102  2019  03        81      D01   1.57     Wind Speed   \n",
       "3          102  2019  04        81      D01   1.32     Wind Speed   \n",
       "4          102  2019  05        81      D01   2.06     Wind Speed   \n",
       "...        ...   ...  ..       ...      ...    ...            ...   \n",
       "4456        24  2019  05        89      D31   0.00  Precipitation   \n",
       "4458        24  2019  07        89      D31   0.90  Precipitation   \n",
       "4459        24  2019  08        89      D31   0.00  Precipitation   \n",
       "4461        24  2019  10        89      D31   0.30  Precipitation   \n",
       "4463        24  2019  12        89      D31   0.00  Precipitation   \n",
       "\n",
       "          station_name  datestamp  \n",
       "0     J.M.D. Moratalaz 2019-01-01  \n",
       "1     J.M.D. Moratalaz 2019-02-01  \n",
       "2     J.M.D. Moratalaz 2019-03-01  \n",
       "3     J.M.D. Moratalaz 2019-04-01  \n",
       "4     J.M.D. Moratalaz 2019-05-01  \n",
       "...                ...        ...  \n",
       "4456     Casa de Campo 2019-05-31  \n",
       "4458     Casa de Campo 2019-07-31  \n",
       "4459     Casa de Campo 2019-08-31  \n",
       "4461     Casa de Campo 2019-10-31  \n",
       "4463     Casa de Campo 2019-12-31  \n",
       "\n",
       "[4380 rows x 9 columns]"
      ]
     },
     "execution_count": 2,
     "metadata": {},
     "output_type": "execute_result"
    }
   ],
   "source": [
    "PATH  = \"/Users/carlosito/Library/CloudStorage/OneDrive-Personal/AIT material/DANIclass/2-Iot/Project/Madrid/meteo/2019meteorologicos-diarios.csv\"\n",
    "clean_meteor_data(PATH)\n"
   ]
  },
  {
   "cell_type": "code",
   "execution_count": 4,
   "metadata": {},
   "outputs": [],
   "source": [
    "import os\n",
    "os.chdir(\"/Users/carlosito/Library/CloudStorage/OneDrive-Personal/AIT material/DANIclass/2-Iot/Project/Madrid/meteo\")\n",
    "PATH = \"/Users/carlosito/Library/CloudStorage/OneDrive-Personal/AIT material/DANIclass/2-Iot/Project/Madrid/meteo\""
   ]
  },
  {
   "cell_type": "code",
   "execution_count": 5,
   "metadata": {},
   "outputs": [
    {
     "name": "stdout",
     "output_type": "stream",
     "text": [
      "2019meteorologicos-diarios.csv\n",
      "/Users/carlosito/Library/CloudStorage/OneDrive-Personal/AIT material/DANIclass/2-Iot/Project/Madrid/meteo/2019meteorologicos-diarios.csv\n",
      "Cleaning METEOR data...\n",
      "Dropping: 116 rows\n",
      "2022meteorologicos-diarios.csv\n",
      "/Users/carlosito/Library/CloudStorage/OneDrive-Personal/AIT material/DANIclass/2-Iot/Project/Madrid/meteo/2022meteorologicos-diarios.csv\n",
      "Cleaning METEOR data...\n",
      "Dropping: 200 rows\n",
      "2020meteorologicos-diarios.csv\n",
      "/Users/carlosito/Library/CloudStorage/OneDrive-Personal/AIT material/DANIclass/2-Iot/Project/Madrid/meteo/2020meteorologicos-diarios.csv\n",
      "Cleaning METEOR data...\n",
      "Dropping: 187 rows\n"
     ]
    }
   ],
   "source": [
    "frame = []\n",
    "for file in os.listdir():\n",
    "    if file.endswith(\"-diarios.csv\"):\n",
    "        print(file)\n",
    "        FILE_PATH_NAME = PATH + \"/\" + file\n",
    "        year = file[:4]\n",
    "        print(FILE_PATH_NAME)\n",
    "        df = clean_meteor_data(FILE_PATH_NAME)\n",
    "        \n",
    "        CLEAN_SAVE_PATH = PATH\n",
    "        CLEAN_SAVE_NAME = year + \"clean-meteor-df.csv\"\n",
    "        \n",
    "        frame.append(df)\n",
    "        \n",
    "        df.to_csv(CLEAN_SAVE_NAME)\n",
    "\n",
    "combined_df = pd.concat(frame)\n",
    "combined_df.to_csv('0000combined-clean-meteor-df.csv')"
   ]
  },
  {
   "cell_type": "code",
   "execution_count": 20,
   "metadata": {},
   "outputs": [
    {
     "data": {
      "text/html": [
       "<div>\n",
       "<style scoped>\n",
       "    .dataframe tbody tr th:only-of-type {\n",
       "        vertical-align: middle;\n",
       "    }\n",
       "\n",
       "    .dataframe tbody tr th {\n",
       "        vertical-align: top;\n",
       "    }\n",
       "\n",
       "    .dataframe thead tr th {\n",
       "        text-align: left;\n",
       "    }\n",
       "\n",
       "    .dataframe thead tr:last-of-type th {\n",
       "        text-align: right;\n",
       "    }\n",
       "</style>\n",
       "<table border=\"1\" class=\"dataframe\">\n",
       "  <thead>\n",
       "    <tr>\n",
       "      <th></th>\n",
       "      <th></th>\n",
       "      <th>value</th>\n",
       "    </tr>\n",
       "    <tr>\n",
       "      <th></th>\n",
       "      <th></th>\n",
       "      <th>mean</th>\n",
       "    </tr>\n",
       "    <tr>\n",
       "      <th>ANO</th>\n",
       "      <th>meteor_factor</th>\n",
       "      <th></th>\n",
       "    </tr>\n",
       "  </thead>\n",
       "  <tbody>\n",
       "    <tr>\n",
       "      <th rowspan=\"4\" valign=\"top\">2019</th>\n",
       "      <th>Precipitation</th>\n",
       "      <td>0.847894</td>\n",
       "    </tr>\n",
       "    <tr>\n",
       "      <th>Solar Radiation</th>\n",
       "      <td>205.379374</td>\n",
       "    </tr>\n",
       "    <tr>\n",
       "      <th>Temperature</th>\n",
       "      <td>14.151152</td>\n",
       "    </tr>\n",
       "    <tr>\n",
       "      <th>Wind Speed</th>\n",
       "      <td>1.749493</td>\n",
       "    </tr>\n",
       "    <tr>\n",
       "      <th rowspan=\"4\" valign=\"top\">2020</th>\n",
       "      <th>Precipitation</th>\n",
       "      <td>0.941370</td>\n",
       "    </tr>\n",
       "    <tr>\n",
       "      <th>Solar Radiation</th>\n",
       "      <td>189.417431</td>\n",
       "    </tr>\n",
       "    <tr>\n",
       "      <th>Temperature</th>\n",
       "      <td>14.358587</td>\n",
       "    </tr>\n",
       "    <tr>\n",
       "      <th>Wind Speed</th>\n",
       "      <td>1.609101</td>\n",
       "    </tr>\n",
       "    <tr>\n",
       "      <th rowspan=\"4\" valign=\"top\">2022</th>\n",
       "      <th>Precipitation</th>\n",
       "      <td>0.750207</td>\n",
       "    </tr>\n",
       "    <tr>\n",
       "      <th>Solar Radiation</th>\n",
       "      <td>234.582069</td>\n",
       "    </tr>\n",
       "    <tr>\n",
       "      <th>Temperature</th>\n",
       "      <td>16.052828</td>\n",
       "    </tr>\n",
       "    <tr>\n",
       "      <th>Wind Speed</th>\n",
       "      <td>1.621821</td>\n",
       "    </tr>\n",
       "  </tbody>\n",
       "</table>\n",
       "</div>"
      ],
      "text/plain": [
       "                           value\n",
       "                            mean\n",
       "ANO  meteor_factor              \n",
       "2019 Precipitation      0.847894\n",
       "     Solar Radiation  205.379374\n",
       "     Temperature       14.151152\n",
       "     Wind Speed         1.749493\n",
       "2020 Precipitation      0.941370\n",
       "     Solar Radiation  189.417431\n",
       "     Temperature       14.358587\n",
       "     Wind Speed         1.609101\n",
       "2022 Precipitation      0.750207\n",
       "     Solar Radiation  234.582069\n",
       "     Temperature       16.052828\n",
       "     Wind Speed         1.621821"
      ]
     },
     "execution_count": 20,
     "metadata": {},
     "output_type": "execute_result"
    }
   ],
   "source": [
    "combined_df.groupby(['ANO', 'meteor_factor']).aggregate({'value': ['mean']})"
   ]
  },
  {
   "cell_type": "code",
   "execution_count": 6,
   "metadata": {},
   "outputs": [
    {
     "data": {
      "text/html": [
       "<div>\n",
       "<style scoped>\n",
       "    .dataframe tbody tr th:only-of-type {\n",
       "        vertical-align: middle;\n",
       "    }\n",
       "\n",
       "    .dataframe tbody tr th {\n",
       "        vertical-align: top;\n",
       "    }\n",
       "\n",
       "    .dataframe thead th {\n",
       "        text-align: right;\n",
       "    }\n",
       "</style>\n",
       "<table border=\"1\" class=\"dataframe\">\n",
       "  <thead>\n",
       "    <tr style=\"text-align: right;\">\n",
       "      <th></th>\n",
       "      <th>ESTACION</th>\n",
       "      <th>ANO</th>\n",
       "      <th>MES</th>\n",
       "      <th>MAGNITUD</th>\n",
       "      <th>variable</th>\n",
       "      <th>value</th>\n",
       "      <th>sensor_valid</th>\n",
       "      <th>meteor_factor</th>\n",
       "      <th>station_name</th>\n",
       "      <th>datestamp</th>\n",
       "    </tr>\n",
       "  </thead>\n",
       "  <tbody>\n",
       "  </tbody>\n",
       "</table>\n",
       "</div>"
      ],
      "text/plain": [
       "Empty DataFrame\n",
       "Columns: [ESTACION, ANO, MES, MAGNITUD, variable, value, sensor_valid, meteor_factor, station_name, datestamp]\n",
       "Index: []"
      ]
     },
     "execution_count": 6,
     "metadata": {},
     "output_type": "execute_result"
    }
   ],
   "source": [
    "combined_df[combined_df['sensor_valid'] == 'N']"
   ]
  },
  {
   "cell_type": "code",
   "execution_count": 7,
   "metadata": {},
   "outputs": [],
   "source": [
    "test = combined_df[(combined_df['meteor_factor'] == 'Precipitation') &\n",
    "            (combined_df['ANO'] == 2019)]"
   ]
  },
  {
   "cell_type": "code",
   "execution_count": 8,
   "metadata": {},
   "outputs": [
    {
     "data": {
      "text/plain": [
       "<AxesSubplot: xlabel='datestamp', ylabel='value'>"
      ]
     },
     "execution_count": 8,
     "metadata": {},
     "output_type": "execute_result"
    },
    {
     "data": {
      "image/png": "[encoded data removed]",
      "text/plain": [
       "<Figure size 640x480 with 1 Axes>"
      ]
     },
     "metadata": {},
     "output_type": "display_data"
    }
   ],
   "source": [
    "sns.lineplot(data =test, x = 'datestamp', y = 'value', hue= 'station_name')"
   ]
  },
  {
   "cell_type": "code",
   "execution_count": 74,
   "metadata": {},
   "outputs": [
    {
     "data": {
      "text/html": [
       "<div>\n",
       "<style scoped>\n",
       "    .dataframe tbody tr th:only-of-type {\n",
       "        vertical-align: middle;\n",
       "    }\n",
       "\n",
       "    .dataframe tbody tr th {\n",
       "        vertical-align: top;\n",
       "    }\n",
       "\n",
       "    .dataframe thead th {\n",
       "        text-align: right;\n",
       "    }\n",
       "</style>\n",
       "<table border=\"1\" class=\"dataframe\">\n",
       "  <thead>\n",
       "    <tr style=\"text-align: right;\">\n",
       "      <th></th>\n",
       "      <th>ESTACION</th>\n",
       "      <th>ANO</th>\n",
       "      <th>MES</th>\n",
       "      <th>MAGNITUD</th>\n",
       "      <th>variable</th>\n",
       "      <th>value</th>\n",
       "      <th>meteor_factor</th>\n",
       "      <th>station_name</th>\n",
       "      <th>datestamp</th>\n",
       "    </tr>\n",
       "  </thead>\n",
       "  <tbody>\n",
       "    <tr>\n",
       "      <th>0</th>\n",
       "      <td>102</td>\n",
       "      <td>2019</td>\n",
       "      <td>01</td>\n",
       "      <td>81</td>\n",
       "      <td>D01</td>\n",
       "      <td>0.66</td>\n",
       "      <td>Wind Speed</td>\n",
       "      <td>J.M.D. Moratalaz</td>\n",
       "      <td>2019-01-01</td>\n",
       "    </tr>\n",
       "    <tr>\n",
       "      <th>1</th>\n",
       "      <td>102</td>\n",
       "      <td>2019</td>\n",
       "      <td>02</td>\n",
       "      <td>81</td>\n",
       "      <td>D01</td>\n",
       "      <td>4.32</td>\n",
       "      <td>Wind Speed</td>\n",
       "      <td>J.M.D. Moratalaz</td>\n",
       "      <td>2019-02-01</td>\n",
       "    </tr>\n",
       "    <tr>\n",
       "      <th>2</th>\n",
       "      <td>102</td>\n",
       "      <td>2019</td>\n",
       "      <td>03</td>\n",
       "      <td>81</td>\n",
       "      <td>D01</td>\n",
       "      <td>1.57</td>\n",
       "      <td>Wind Speed</td>\n",
       "      <td>J.M.D. Moratalaz</td>\n",
       "      <td>2019-03-01</td>\n",
       "    </tr>\n",
       "    <tr>\n",
       "      <th>3</th>\n",
       "      <td>102</td>\n",
       "      <td>2019</td>\n",
       "      <td>04</td>\n",
       "      <td>81</td>\n",
       "      <td>D01</td>\n",
       "      <td>1.32</td>\n",
       "      <td>Wind Speed</td>\n",
       "      <td>J.M.D. Moratalaz</td>\n",
       "      <td>2019-04-01</td>\n",
       "    </tr>\n",
       "    <tr>\n",
       "      <th>4</th>\n",
       "      <td>102</td>\n",
       "      <td>2019</td>\n",
       "      <td>05</td>\n",
       "      <td>81</td>\n",
       "      <td>D01</td>\n",
       "      <td>2.06</td>\n",
       "      <td>Wind Speed</td>\n",
       "      <td>J.M.D. Moratalaz</td>\n",
       "      <td>2019-05-01</td>\n",
       "    </tr>\n",
       "    <tr>\n",
       "      <th>...</th>\n",
       "      <td>...</td>\n",
       "      <td>...</td>\n",
       "      <td>...</td>\n",
       "      <td>...</td>\n",
       "      <td>...</td>\n",
       "      <td>...</td>\n",
       "      <td>...</td>\n",
       "      <td>...</td>\n",
       "      <td>...</td>\n",
       "    </tr>\n",
       "    <tr>\n",
       "      <th>4456</th>\n",
       "      <td>24</td>\n",
       "      <td>2020</td>\n",
       "      <td>05</td>\n",
       "      <td>89</td>\n",
       "      <td>D31</td>\n",
       "      <td>3.40</td>\n",
       "      <td>Precipitation</td>\n",
       "      <td>Casa de Campo</td>\n",
       "      <td>2020-05-31</td>\n",
       "    </tr>\n",
       "    <tr>\n",
       "      <th>4458</th>\n",
       "      <td>24</td>\n",
       "      <td>2020</td>\n",
       "      <td>07</td>\n",
       "      <td>89</td>\n",
       "      <td>D31</td>\n",
       "      <td>0.00</td>\n",
       "      <td>Precipitation</td>\n",
       "      <td>Casa de Campo</td>\n",
       "      <td>2020-07-31</td>\n",
       "    </tr>\n",
       "    <tr>\n",
       "      <th>4459</th>\n",
       "      <td>24</td>\n",
       "      <td>2020</td>\n",
       "      <td>08</td>\n",
       "      <td>89</td>\n",
       "      <td>D31</td>\n",
       "      <td>0.00</td>\n",
       "      <td>Precipitation</td>\n",
       "      <td>Casa de Campo</td>\n",
       "      <td>2020-08-31</td>\n",
       "    </tr>\n",
       "    <tr>\n",
       "      <th>4461</th>\n",
       "      <td>24</td>\n",
       "      <td>2020</td>\n",
       "      <td>10</td>\n",
       "      <td>89</td>\n",
       "      <td>D31</td>\n",
       "      <td>0.00</td>\n",
       "      <td>Precipitation</td>\n",
       "      <td>Casa de Campo</td>\n",
       "      <td>2020-10-31</td>\n",
       "    </tr>\n",
       "    <tr>\n",
       "      <th>4463</th>\n",
       "      <td>24</td>\n",
       "      <td>2020</td>\n",
       "      <td>12</td>\n",
       "      <td>89</td>\n",
       "      <td>D31</td>\n",
       "      <td>1.10</td>\n",
       "      <td>Precipitation</td>\n",
       "      <td>Casa de Campo</td>\n",
       "      <td>2020-12-31</td>\n",
       "    </tr>\n",
       "  </tbody>\n",
       "</table>\n",
       "<p>11796 rows × 9 columns</p>\n",
       "</div>"
      ],
      "text/plain": [
       "      ESTACION   ANO MES  MAGNITUD variable  value  meteor_factor  \\\n",
       "0          102  2019  01        81      D01   0.66     Wind Speed   \n",
       "1          102  2019  02        81      D01   4.32     Wind Speed   \n",
       "2          102  2019  03        81      D01   1.57     Wind Speed   \n",
       "3          102  2019  04        81      D01   1.32     Wind Speed   \n",
       "4          102  2019  05        81      D01   2.06     Wind Speed   \n",
       "...        ...   ...  ..       ...      ...    ...            ...   \n",
       "4456        24  2020  05        89      D31   3.40  Precipitation   \n",
       "4458        24  2020  07        89      D31   0.00  Precipitation   \n",
       "4459        24  2020  08        89      D31   0.00  Precipitation   \n",
       "4461        24  2020  10        89      D31   0.00  Precipitation   \n",
       "4463        24  2020  12        89      D31   1.10  Precipitation   \n",
       "\n",
       "          station_name  datestamp  \n",
       "0     J.M.D. Moratalaz 2019-01-01  \n",
       "1     J.M.D. Moratalaz 2019-02-01  \n",
       "2     J.M.D. Moratalaz 2019-03-01  \n",
       "3     J.M.D. Moratalaz 2019-04-01  \n",
       "4     J.M.D. Moratalaz 2019-05-01  \n",
       "...                ...        ...  \n",
       "4456     Casa de Campo 2020-05-31  \n",
       "4458     Casa de Campo 2020-07-31  \n",
       "4459     Casa de Campo 2020-08-31  \n",
       "4461     Casa de Campo 2020-10-31  \n",
       "4463     Casa de Campo 2020-12-31  \n",
       "\n",
       "[11796 rows x 9 columns]"
      ]
     },
     "execution_count": 74,
     "metadata": {},
     "output_type": "execute_result"
    }
   ],
   "source": [
    "combined_df"
   ]
  },
  {
   "cell_type": "code",
   "execution_count": 21,
   "metadata": {},
   "outputs": [
    {
     "data": {
      "text/plain": [
       "<AxesSubplot: >"
      ]
     },
     "execution_count": 21,
     "metadata": {},
     "output_type": "execute_result"
    },
    {
     "data": {
      "image/png": "[encoded data removed]",
      "text/plain": [
       "<Figure size 640x480 with 1 Axes>"
      ]
     },
     "metadata": {},
     "output_type": "display_data"
    }
   ],
   "source": [
    "combined_df[(combined_df['ANO'] == 2019) & (combined_df['MES'] == 11) & (combined_df['meteor_factor'] == 'Temperature')]['value'].plot()"
   ]
  },
  {
   "cell_type": "code",
   "execution_count": 22,
   "metadata": {},
   "outputs": [
    {
     "data": {
      "text/plain": [
       "(11513, 10)"
      ]
     },
     "execution_count": 22,
     "metadata": {},
     "output_type": "execute_result"
    }
   ],
   "source": [
    "combined_df.shape"
   ]
  },
  {
   "cell_type": "code",
   "execution_count": 24,
   "metadata": {},
   "outputs": [
    {
     "name": "stderr",
     "output_type": "stream",
     "text": [
      "/var/folders/tl/rdcj6pp130g_pdpr6thc58qr0000gn/T/ipykernel_24574/2494297731.py:1: FutureWarning: This dataframe has a column name that matches the 'value_name' column name of the resulting Dataframe. In the future this will raise an error, please set the 'value_name' parameter of DataFrame.melt to a unique name.\n",
      "  pd.melt(combined_df, id_vars= ['datestamp', 'meteor_factor'] ,value_vars= 'value')\n"
     ]
    },
    {
     "data": {
      "text/html": [
       "<div>\n",
       "<style scoped>\n",
       "    .dataframe tbody tr th:only-of-type {\n",
       "        vertical-align: middle;\n",
       "    }\n",
       "\n",
       "    .dataframe tbody tr th {\n",
       "        vertical-align: top;\n",
       "    }\n",
       "\n",
       "    .dataframe thead th {\n",
       "        text-align: right;\n",
       "    }\n",
       "</style>\n",
       "<table border=\"1\" class=\"dataframe\">\n",
       "  <thead>\n",
       "    <tr style=\"text-align: right;\">\n",
       "      <th></th>\n",
       "      <th>datestamp</th>\n",
       "      <th>meteor_factor</th>\n",
       "      <th>variable</th>\n",
       "      <th>value</th>\n",
       "    </tr>\n",
       "  </thead>\n",
       "  <tbody>\n",
       "    <tr>\n",
       "      <th>0</th>\n",
       "      <td>2019-01-01</td>\n",
       "      <td>Wind Speed</td>\n",
       "      <td>value</td>\n",
       "      <td>0.66</td>\n",
       "    </tr>\n",
       "    <tr>\n",
       "      <th>1</th>\n",
       "      <td>2019-02-01</td>\n",
       "      <td>Wind Speed</td>\n",
       "      <td>value</td>\n",
       "      <td>4.32</td>\n",
       "    </tr>\n",
       "    <tr>\n",
       "      <th>2</th>\n",
       "      <td>2019-03-01</td>\n",
       "      <td>Wind Speed</td>\n",
       "      <td>value</td>\n",
       "      <td>1.57</td>\n",
       "    </tr>\n",
       "    <tr>\n",
       "      <th>3</th>\n",
       "      <td>2019-04-01</td>\n",
       "      <td>Wind Speed</td>\n",
       "      <td>value</td>\n",
       "      <td>1.32</td>\n",
       "    </tr>\n",
       "    <tr>\n",
       "      <th>4</th>\n",
       "      <td>2019-05-01</td>\n",
       "      <td>Wind Speed</td>\n",
       "      <td>value</td>\n",
       "      <td>2.06</td>\n",
       "    </tr>\n",
       "    <tr>\n",
       "      <th>...</th>\n",
       "      <td>...</td>\n",
       "      <td>...</td>\n",
       "      <td>...</td>\n",
       "      <td>...</td>\n",
       "    </tr>\n",
       "    <tr>\n",
       "      <th>11508</th>\n",
       "      <td>2020-05-31</td>\n",
       "      <td>Precipitation</td>\n",
       "      <td>value</td>\n",
       "      <td>3.40</td>\n",
       "    </tr>\n",
       "    <tr>\n",
       "      <th>11509</th>\n",
       "      <td>2020-07-31</td>\n",
       "      <td>Precipitation</td>\n",
       "      <td>value</td>\n",
       "      <td>0.00</td>\n",
       "    </tr>\n",
       "    <tr>\n",
       "      <th>11510</th>\n",
       "      <td>2020-08-31</td>\n",
       "      <td>Precipitation</td>\n",
       "      <td>value</td>\n",
       "      <td>0.00</td>\n",
       "    </tr>\n",
       "    <tr>\n",
       "      <th>11511</th>\n",
       "      <td>2020-10-31</td>\n",
       "      <td>Precipitation</td>\n",
       "      <td>value</td>\n",
       "      <td>0.00</td>\n",
       "    </tr>\n",
       "    <tr>\n",
       "      <th>11512</th>\n",
       "      <td>2020-12-31</td>\n",
       "      <td>Precipitation</td>\n",
       "      <td>value</td>\n",
       "      <td>1.10</td>\n",
       "    </tr>\n",
       "  </tbody>\n",
       "</table>\n",
       "<p>11513 rows × 4 columns</p>\n",
       "</div>"
      ],
      "text/plain": [
       "       datestamp  meteor_factor variable  value\n",
       "0     2019-01-01     Wind Speed    value   0.66\n",
       "1     2019-02-01     Wind Speed    value   4.32\n",
       "2     2019-03-01     Wind Speed    value   1.57\n",
       "3     2019-04-01     Wind Speed    value   1.32\n",
       "4     2019-05-01     Wind Speed    value   2.06\n",
       "...          ...            ...      ...    ...\n",
       "11508 2020-05-31  Precipitation    value   3.40\n",
       "11509 2020-07-31  Precipitation    value   0.00\n",
       "11510 2020-08-31  Precipitation    value   0.00\n",
       "11511 2020-10-31  Precipitation    value   0.00\n",
       "11512 2020-12-31  Precipitation    value   1.10\n",
       "\n",
       "[11513 rows x 4 columns]"
      ]
     },
     "execution_count": 24,
     "metadata": {},
     "output_type": "execute_result"
    }
   ],
   "source": [
    "pd.melt(combined_df, id_vars= ['datestamp', 'meteor_factor'] ,value_vars= 'value')"
   ]
  },
  {
   "cell_type": "code",
   "execution_count": 28,
   "metadata": {},
   "outputs": [
    {
     "name": "stderr",
     "output_type": "stream",
     "text": [
      "/var/folders/tl/rdcj6pp130g_pdpr6thc58qr0000gn/T/ipykernel_24574/2310583027.py:1: FutureWarning: This dataframe has a column name that matches the 'value_name' column name of the resulting Dataframe. In the future this will raise an error, please set the 'value_name' parameter of DataFrame.melt to a unique name.\n",
      "  pd.melt(combined_df, id_vars= 'datestamp', value_vars = ['meteor_factor','value'])\n"
     ]
    },
    {
     "data": {
      "text/html": [
       "<div>\n",
       "<style scoped>\n",
       "    .dataframe tbody tr th:only-of-type {\n",
       "        vertical-align: middle;\n",
       "    }\n",
       "\n",
       "    .dataframe tbody tr th {\n",
       "        vertical-align: top;\n",
       "    }\n",
       "\n",
       "    .dataframe thead th {\n",
       "        text-align: right;\n",
       "    }\n",
       "</style>\n",
       "<table border=\"1\" class=\"dataframe\">\n",
       "  <thead>\n",
       "    <tr style=\"text-align: right;\">\n",
       "      <th></th>\n",
       "      <th>datestamp</th>\n",
       "      <th>variable</th>\n",
       "      <th>value</th>\n",
       "    </tr>\n",
       "  </thead>\n",
       "  <tbody>\n",
       "    <tr>\n",
       "      <th>0</th>\n",
       "      <td>2019-01-01</td>\n",
       "      <td>meteor_factor</td>\n",
       "      <td>Wind Speed</td>\n",
       "    </tr>\n",
       "    <tr>\n",
       "      <th>1</th>\n",
       "      <td>2019-02-01</td>\n",
       "      <td>meteor_factor</td>\n",
       "      <td>Wind Speed</td>\n",
       "    </tr>\n",
       "    <tr>\n",
       "      <th>2</th>\n",
       "      <td>2019-03-01</td>\n",
       "      <td>meteor_factor</td>\n",
       "      <td>Wind Speed</td>\n",
       "    </tr>\n",
       "    <tr>\n",
       "      <th>3</th>\n",
       "      <td>2019-04-01</td>\n",
       "      <td>meteor_factor</td>\n",
       "      <td>Wind Speed</td>\n",
       "    </tr>\n",
       "    <tr>\n",
       "      <th>4</th>\n",
       "      <td>2019-05-01</td>\n",
       "      <td>meteor_factor</td>\n",
       "      <td>Wind Speed</td>\n",
       "    </tr>\n",
       "    <tr>\n",
       "      <th>...</th>\n",
       "      <td>...</td>\n",
       "      <td>...</td>\n",
       "      <td>...</td>\n",
       "    </tr>\n",
       "    <tr>\n",
       "      <th>23021</th>\n",
       "      <td>2020-05-31</td>\n",
       "      <td>value</td>\n",
       "      <td>3.4</td>\n",
       "    </tr>\n",
       "    <tr>\n",
       "      <th>23022</th>\n",
       "      <td>2020-07-31</td>\n",
       "      <td>value</td>\n",
       "      <td>0.0</td>\n",
       "    </tr>\n",
       "    <tr>\n",
       "      <th>23023</th>\n",
       "      <td>2020-08-31</td>\n",
       "      <td>value</td>\n",
       "      <td>0.0</td>\n",
       "    </tr>\n",
       "    <tr>\n",
       "      <th>23024</th>\n",
       "      <td>2020-10-31</td>\n",
       "      <td>value</td>\n",
       "      <td>0.0</td>\n",
       "    </tr>\n",
       "    <tr>\n",
       "      <th>23025</th>\n",
       "      <td>2020-12-31</td>\n",
       "      <td>value</td>\n",
       "      <td>1.1</td>\n",
       "    </tr>\n",
       "  </tbody>\n",
       "</table>\n",
       "<p>23026 rows × 3 columns</p>\n",
       "</div>"
      ],
      "text/plain": [
       "       datestamp       variable       value\n",
       "0     2019-01-01  meteor_factor  Wind Speed\n",
       "1     2019-02-01  meteor_factor  Wind Speed\n",
       "2     2019-03-01  meteor_factor  Wind Speed\n",
       "3     2019-04-01  meteor_factor  Wind Speed\n",
       "4     2019-05-01  meteor_factor  Wind Speed\n",
       "...          ...            ...         ...\n",
       "23021 2020-05-31          value         3.4\n",
       "23022 2020-07-31          value         0.0\n",
       "23023 2020-08-31          value         0.0\n",
       "23024 2020-10-31          value         0.0\n",
       "23025 2020-12-31          value         1.1\n",
       "\n",
       "[23026 rows x 3 columns]"
      ]
     },
     "execution_count": 28,
     "metadata": {},
     "output_type": "execute_result"
    }
   ],
   "source": [
    "pd.melt(combined_df, id_vars= 'datestamp', value_vars = ['meteor_factor','value'])"
   ]
  },
  {
   "cell_type": "code",
   "execution_count": 48,
   "metadata": {},
   "outputs": [
    {
     "name": "stdout",
     "output_type": "stream",
     "text": [
      "365\n",
      "365\n",
      "365\n",
      "365\n",
      "365\n",
      "365\n",
      "273\n",
      "273\n",
      "273\n"
     ]
    }
   ],
   "source": [
    "year = [2019, 2020,2022]\n",
    "meteo_fac = [81,83,88]\n",
    "station_name = []\n",
    "\n",
    "for y in year:\n",
    "    for m in meteo_fac:\n",
    "        sth = combined_df[(combined_df['ANO'] == y) & (combined_df['MAGNITUD'] == m)]['datestamp'].unique()\n",
    "        print(len(sth))"
   ]
  },
  {
   "cell_type": "code",
   "execution_count": 9,
   "metadata": {},
   "outputs": [
    {
     "data": {
      "text/html": [
       "<div>\n",
       "<style scoped>\n",
       "    .dataframe tbody tr th:only-of-type {\n",
       "        vertical-align: middle;\n",
       "    }\n",
       "\n",
       "    .dataframe tbody tr th {\n",
       "        vertical-align: top;\n",
       "    }\n",
       "\n",
       "    .dataframe thead th {\n",
       "        text-align: right;\n",
       "    }\n",
       "</style>\n",
       "<table border=\"1\" class=\"dataframe\">\n",
       "  <thead>\n",
       "    <tr style=\"text-align: right;\">\n",
       "      <th></th>\n",
       "      <th>ESTACION</th>\n",
       "      <th>ANO</th>\n",
       "      <th>MES</th>\n",
       "      <th>MAGNITUD</th>\n",
       "      <th>variable</th>\n",
       "      <th>value</th>\n",
       "      <th>sensor_valid</th>\n",
       "      <th>meteor_factor</th>\n",
       "      <th>station_name</th>\n",
       "      <th>datestamp</th>\n",
       "    </tr>\n",
       "  </thead>\n",
       "  <tbody>\n",
       "    <tr>\n",
       "      <th>0</th>\n",
       "      <td>102</td>\n",
       "      <td>2019</td>\n",
       "      <td>01</td>\n",
       "      <td>81</td>\n",
       "      <td>D01</td>\n",
       "      <td>0.66</td>\n",
       "      <td>V</td>\n",
       "      <td>Wind Speed</td>\n",
       "      <td>J.M.D. Moratalaz</td>\n",
       "      <td>2019-01-01</td>\n",
       "    </tr>\n",
       "    <tr>\n",
       "      <th>1</th>\n",
       "      <td>102</td>\n",
       "      <td>2019</td>\n",
       "      <td>02</td>\n",
       "      <td>81</td>\n",
       "      <td>D01</td>\n",
       "      <td>4.32</td>\n",
       "      <td>V</td>\n",
       "      <td>Wind Speed</td>\n",
       "      <td>J.M.D. Moratalaz</td>\n",
       "      <td>2019-02-01</td>\n",
       "    </tr>\n",
       "    <tr>\n",
       "      <th>2</th>\n",
       "      <td>102</td>\n",
       "      <td>2019</td>\n",
       "      <td>03</td>\n",
       "      <td>81</td>\n",
       "      <td>D01</td>\n",
       "      <td>1.57</td>\n",
       "      <td>V</td>\n",
       "      <td>Wind Speed</td>\n",
       "      <td>J.M.D. Moratalaz</td>\n",
       "      <td>2019-03-01</td>\n",
       "    </tr>\n",
       "    <tr>\n",
       "      <th>3</th>\n",
       "      <td>102</td>\n",
       "      <td>2019</td>\n",
       "      <td>04</td>\n",
       "      <td>81</td>\n",
       "      <td>D01</td>\n",
       "      <td>1.32</td>\n",
       "      <td>V</td>\n",
       "      <td>Wind Speed</td>\n",
       "      <td>J.M.D. Moratalaz</td>\n",
       "      <td>2019-04-01</td>\n",
       "    </tr>\n",
       "    <tr>\n",
       "      <th>4</th>\n",
       "      <td>102</td>\n",
       "      <td>2019</td>\n",
       "      <td>05</td>\n",
       "      <td>81</td>\n",
       "      <td>D01</td>\n",
       "      <td>2.06</td>\n",
       "      <td>V</td>\n",
       "      <td>Wind Speed</td>\n",
       "      <td>J.M.D. Moratalaz</td>\n",
       "      <td>2019-05-01</td>\n",
       "    </tr>\n",
       "    <tr>\n",
       "      <th>...</th>\n",
       "      <td>...</td>\n",
       "      <td>...</td>\n",
       "      <td>...</td>\n",
       "      <td>...</td>\n",
       "      <td>...</td>\n",
       "      <td>...</td>\n",
       "      <td>...</td>\n",
       "      <td>...</td>\n",
       "      <td>...</td>\n",
       "      <td>...</td>\n",
       "    </tr>\n",
       "    <tr>\n",
       "      <th>4456</th>\n",
       "      <td>24</td>\n",
       "      <td>2020</td>\n",
       "      <td>05</td>\n",
       "      <td>89</td>\n",
       "      <td>D31</td>\n",
       "      <td>3.40</td>\n",
       "      <td>V</td>\n",
       "      <td>Precipitation</td>\n",
       "      <td>Casa de Campo</td>\n",
       "      <td>2020-05-31</td>\n",
       "    </tr>\n",
       "    <tr>\n",
       "      <th>4458</th>\n",
       "      <td>24</td>\n",
       "      <td>2020</td>\n",
       "      <td>07</td>\n",
       "      <td>89</td>\n",
       "      <td>D31</td>\n",
       "      <td>0.00</td>\n",
       "      <td>V</td>\n",
       "      <td>Precipitation</td>\n",
       "      <td>Casa de Campo</td>\n",
       "      <td>2020-07-31</td>\n",
       "    </tr>\n",
       "    <tr>\n",
       "      <th>4459</th>\n",
       "      <td>24</td>\n",
       "      <td>2020</td>\n",
       "      <td>08</td>\n",
       "      <td>89</td>\n",
       "      <td>D31</td>\n",
       "      <td>0.00</td>\n",
       "      <td>V</td>\n",
       "      <td>Precipitation</td>\n",
       "      <td>Casa de Campo</td>\n",
       "      <td>2020-08-31</td>\n",
       "    </tr>\n",
       "    <tr>\n",
       "      <th>4461</th>\n",
       "      <td>24</td>\n",
       "      <td>2020</td>\n",
       "      <td>10</td>\n",
       "      <td>89</td>\n",
       "      <td>D31</td>\n",
       "      <td>0.00</td>\n",
       "      <td>V</td>\n",
       "      <td>Precipitation</td>\n",
       "      <td>Casa de Campo</td>\n",
       "      <td>2020-10-31</td>\n",
       "    </tr>\n",
       "    <tr>\n",
       "      <th>4463</th>\n",
       "      <td>24</td>\n",
       "      <td>2020</td>\n",
       "      <td>12</td>\n",
       "      <td>89</td>\n",
       "      <td>D31</td>\n",
       "      <td>1.10</td>\n",
       "      <td>V</td>\n",
       "      <td>Precipitation</td>\n",
       "      <td>Casa de Campo</td>\n",
       "      <td>2020-12-31</td>\n",
       "    </tr>\n",
       "  </tbody>\n",
       "</table>\n",
       "<p>11513 rows × 10 columns</p>\n",
       "</div>"
      ],
      "text/plain": [
       "      ESTACION   ANO MES  MAGNITUD variable  value sensor_valid  \\\n",
       "0          102  2019  01        81      D01   0.66            V   \n",
       "1          102  2019  02        81      D01   4.32            V   \n",
       "2          102  2019  03        81      D01   1.57            V   \n",
       "3          102  2019  04        81      D01   1.32            V   \n",
       "4          102  2019  05        81      D01   2.06            V   \n",
       "...        ...   ...  ..       ...      ...    ...          ...   \n",
       "4456        24  2020  05        89      D31   3.40            V   \n",
       "4458        24  2020  07        89      D31   0.00            V   \n",
       "4459        24  2020  08        89      D31   0.00            V   \n",
       "4461        24  2020  10        89      D31   0.00            V   \n",
       "4463        24  2020  12        89      D31   1.10            V   \n",
       "\n",
       "      meteor_factor      station_name  datestamp  \n",
       "0        Wind Speed  J.M.D. Moratalaz 2019-01-01  \n",
       "1        Wind Speed  J.M.D. Moratalaz 2019-02-01  \n",
       "2        Wind Speed  J.M.D. Moratalaz 2019-03-01  \n",
       "3        Wind Speed  J.M.D. Moratalaz 2019-04-01  \n",
       "4        Wind Speed  J.M.D. Moratalaz 2019-05-01  \n",
       "...             ...               ...        ...  \n",
       "4456  Precipitation     Casa de Campo 2020-05-31  \n",
       "4458  Precipitation     Casa de Campo 2020-07-31  \n",
       "4459  Precipitation     Casa de Campo 2020-08-31  \n",
       "4461  Precipitation     Casa de Campo 2020-10-31  \n",
       "4463  Precipitation     Casa de Campo 2020-12-31  \n",
       "\n",
       "[11513 rows x 10 columns]"
      ]
     },
     "execution_count": 9,
     "metadata": {},
     "output_type": "execute_result"
    }
   ],
   "source": [
    "combined_df"
   ]
  },
  {
   "cell_type": "markdown",
   "metadata": {},
   "source": [
    "### Aggregate 3 stations of each pollutant values"
   ]
  },
  {
   "cell_type": "code",
   "execution_count": 10,
   "metadata": {},
   "outputs": [
    {
     "data": {
      "text/html": [
       "<div>\n",
       "<style scoped>\n",
       "    .dataframe tbody tr th:only-of-type {\n",
       "        vertical-align: middle;\n",
       "    }\n",
       "\n",
       "    .dataframe tbody tr th {\n",
       "        vertical-align: top;\n",
       "    }\n",
       "\n",
       "    .dataframe thead th {\n",
       "        text-align: right;\n",
       "    }\n",
       "</style>\n",
       "<table border=\"1\" class=\"dataframe\">\n",
       "  <thead>\n",
       "    <tr style=\"text-align: right;\">\n",
       "      <th></th>\n",
       "      <th>ESTACION</th>\n",
       "      <th>ANO</th>\n",
       "      <th>MES</th>\n",
       "      <th>MAGNITUD</th>\n",
       "      <th>variable</th>\n",
       "      <th>value</th>\n",
       "      <th>sensor_valid</th>\n",
       "      <th>meteor_factor</th>\n",
       "      <th>station_name</th>\n",
       "      <th>datestamp</th>\n",
       "    </tr>\n",
       "  </thead>\n",
       "  <tbody>\n",
       "    <tr>\n",
       "      <th>0</th>\n",
       "      <td>102</td>\n",
       "      <td>2019</td>\n",
       "      <td>01</td>\n",
       "      <td>81</td>\n",
       "      <td>D01</td>\n",
       "      <td>0.66</td>\n",
       "      <td>V</td>\n",
       "      <td>Wind Speed</td>\n",
       "      <td>J.M.D. Moratalaz</td>\n",
       "      <td>2019-01-01</td>\n",
       "    </tr>\n",
       "    <tr>\n",
       "      <th>1</th>\n",
       "      <td>102</td>\n",
       "      <td>2019</td>\n",
       "      <td>02</td>\n",
       "      <td>81</td>\n",
       "      <td>D01</td>\n",
       "      <td>4.32</td>\n",
       "      <td>V</td>\n",
       "      <td>Wind Speed</td>\n",
       "      <td>J.M.D. Moratalaz</td>\n",
       "      <td>2019-02-01</td>\n",
       "    </tr>\n",
       "    <tr>\n",
       "      <th>2</th>\n",
       "      <td>102</td>\n",
       "      <td>2019</td>\n",
       "      <td>03</td>\n",
       "      <td>81</td>\n",
       "      <td>D01</td>\n",
       "      <td>1.57</td>\n",
       "      <td>V</td>\n",
       "      <td>Wind Speed</td>\n",
       "      <td>J.M.D. Moratalaz</td>\n",
       "      <td>2019-03-01</td>\n",
       "    </tr>\n",
       "    <tr>\n",
       "      <th>3</th>\n",
       "      <td>102</td>\n",
       "      <td>2019</td>\n",
       "      <td>04</td>\n",
       "      <td>81</td>\n",
       "      <td>D01</td>\n",
       "      <td>1.32</td>\n",
       "      <td>V</td>\n",
       "      <td>Wind Speed</td>\n",
       "      <td>J.M.D. Moratalaz</td>\n",
       "      <td>2019-04-01</td>\n",
       "    </tr>\n",
       "    <tr>\n",
       "      <th>4</th>\n",
       "      <td>102</td>\n",
       "      <td>2019</td>\n",
       "      <td>05</td>\n",
       "      <td>81</td>\n",
       "      <td>D01</td>\n",
       "      <td>2.06</td>\n",
       "      <td>V</td>\n",
       "      <td>Wind Speed</td>\n",
       "      <td>J.M.D. Moratalaz</td>\n",
       "      <td>2019-05-01</td>\n",
       "    </tr>\n",
       "    <tr>\n",
       "      <th>...</th>\n",
       "      <td>...</td>\n",
       "      <td>...</td>\n",
       "      <td>...</td>\n",
       "      <td>...</td>\n",
       "      <td>...</td>\n",
       "      <td>...</td>\n",
       "      <td>...</td>\n",
       "      <td>...</td>\n",
       "      <td>...</td>\n",
       "      <td>...</td>\n",
       "    </tr>\n",
       "    <tr>\n",
       "      <th>4456</th>\n",
       "      <td>24</td>\n",
       "      <td>2020</td>\n",
       "      <td>05</td>\n",
       "      <td>89</td>\n",
       "      <td>D31</td>\n",
       "      <td>3.40</td>\n",
       "      <td>V</td>\n",
       "      <td>Precipitation</td>\n",
       "      <td>Casa de Campo</td>\n",
       "      <td>2020-05-31</td>\n",
       "    </tr>\n",
       "    <tr>\n",
       "      <th>4458</th>\n",
       "      <td>24</td>\n",
       "      <td>2020</td>\n",
       "      <td>07</td>\n",
       "      <td>89</td>\n",
       "      <td>D31</td>\n",
       "      <td>0.00</td>\n",
       "      <td>V</td>\n",
       "      <td>Precipitation</td>\n",
       "      <td>Casa de Campo</td>\n",
       "      <td>2020-07-31</td>\n",
       "    </tr>\n",
       "    <tr>\n",
       "      <th>4459</th>\n",
       "      <td>24</td>\n",
       "      <td>2020</td>\n",
       "      <td>08</td>\n",
       "      <td>89</td>\n",
       "      <td>D31</td>\n",
       "      <td>0.00</td>\n",
       "      <td>V</td>\n",
       "      <td>Precipitation</td>\n",
       "      <td>Casa de Campo</td>\n",
       "      <td>2020-08-31</td>\n",
       "    </tr>\n",
       "    <tr>\n",
       "      <th>4461</th>\n",
       "      <td>24</td>\n",
       "      <td>2020</td>\n",
       "      <td>10</td>\n",
       "      <td>89</td>\n",
       "      <td>D31</td>\n",
       "      <td>0.00</td>\n",
       "      <td>V</td>\n",
       "      <td>Precipitation</td>\n",
       "      <td>Casa de Campo</td>\n",
       "      <td>2020-10-31</td>\n",
       "    </tr>\n",
       "    <tr>\n",
       "      <th>4463</th>\n",
       "      <td>24</td>\n",
       "      <td>2020</td>\n",
       "      <td>12</td>\n",
       "      <td>89</td>\n",
       "      <td>D31</td>\n",
       "      <td>1.10</td>\n",
       "      <td>V</td>\n",
       "      <td>Precipitation</td>\n",
       "      <td>Casa de Campo</td>\n",
       "      <td>2020-12-31</td>\n",
       "    </tr>\n",
       "  </tbody>\n",
       "</table>\n",
       "<p>11513 rows × 10 columns</p>\n",
       "</div>"
      ],
      "text/plain": [
       "      ESTACION   ANO MES  MAGNITUD variable  value sensor_valid  \\\n",
       "0          102  2019  01        81      D01   0.66            V   \n",
       "1          102  2019  02        81      D01   4.32            V   \n",
       "2          102  2019  03        81      D01   1.57            V   \n",
       "3          102  2019  04        81      D01   1.32            V   \n",
       "4          102  2019  05        81      D01   2.06            V   \n",
       "...        ...   ...  ..       ...      ...    ...          ...   \n",
       "4456        24  2020  05        89      D31   3.40            V   \n",
       "4458        24  2020  07        89      D31   0.00            V   \n",
       "4459        24  2020  08        89      D31   0.00            V   \n",
       "4461        24  2020  10        89      D31   0.00            V   \n",
       "4463        24  2020  12        89      D31   1.10            V   \n",
       "\n",
       "      meteor_factor      station_name  datestamp  \n",
       "0        Wind Speed  J.M.D. Moratalaz 2019-01-01  \n",
       "1        Wind Speed  J.M.D. Moratalaz 2019-02-01  \n",
       "2        Wind Speed  J.M.D. Moratalaz 2019-03-01  \n",
       "3        Wind Speed  J.M.D. Moratalaz 2019-04-01  \n",
       "4        Wind Speed  J.M.D. Moratalaz 2019-05-01  \n",
       "...             ...               ...        ...  \n",
       "4456  Precipitation     Casa de Campo 2020-05-31  \n",
       "4458  Precipitation     Casa de Campo 2020-07-31  \n",
       "4459  Precipitation     Casa de Campo 2020-08-31  \n",
       "4461  Precipitation     Casa de Campo 2020-10-31  \n",
       "4463  Precipitation     Casa de Campo 2020-12-31  \n",
       "\n",
       "[11513 rows x 10 columns]"
      ]
     },
     "execution_count": 10,
     "metadata": {},
     "output_type": "execute_result"
    }
   ],
   "source": [
    "combined_df.groupby('datestamp').ag"
   ]
  },
  {
   "cell_type": "code",
   "execution_count": 60,
   "metadata": {},
   "outputs": [
    {
     "name": "stdout",
     "output_type": "stream",
     "text": [
      "(365, 10)\n",
      "(365, 3)\n",
      "sh\n",
      "(362, 10)\n",
      "(365, 3)\n",
      "sh\n",
      "(358, 10)\n",
      "(365, 3)\n"
     ]
    }
   ],
   "source": [
    "year = 2019\n",
    "pollutant  = 81\n",
    "station_name = combined_df.station_name.unique()\n",
    "\n",
    "test= combined_df[(combined_df.ANO == year) & (combined_df.MAGNITUD == pollutant)]\n",
    "new_df = pd.DataFrame()\n",
    "for station in station_name:\n",
    "    test= combined_df[(combined_df.ANO == year) & (combined_df.MAGNITUD == pollutant) & (combined_df.station_name == station)]\n",
    "    if new_df.shape[0] < 1:\n",
    "        new_df[\"datestamp\"] =test['datestamp']\n",
    "        new_df[f\"{year}_{pollutant}_{station}_datestamp\"] =test['datestamp']\n",
    "        new_df[f\"{year}_{pollutant}_{station}_value\"] =test['value']\n",
    "    else:\n",
    "        print('sh')\n",
    "        new_new_df = pd.DataFrame()\n",
    "        new_new_df[\"datestamp\"] =test['datestamp']\n",
    "        new_new_df[f\"{year}_{pollutant}_{station}_value\"] =test['value']\n",
    "        new_df.merge(new_new_df, on= 'datestamp')\n",
    "        \n",
    "    print(test.shape)\n",
    "    print(new_df.shape)"
   ]
  },
  {
   "cell_type": "code",
   "execution_count": 61,
   "metadata": {},
   "outputs": [
    {
     "data": {
      "text/html": [
       "<div>\n",
       "<style scoped>\n",
       "    .dataframe tbody tr th:only-of-type {\n",
       "        vertical-align: middle;\n",
       "    }\n",
       "\n",
       "    .dataframe tbody tr th {\n",
       "        vertical-align: top;\n",
       "    }\n",
       "\n",
       "    .dataframe thead th {\n",
       "        text-align: right;\n",
       "    }\n",
       "</style>\n",
       "<table border=\"1\" class=\"dataframe\">\n",
       "  <thead>\n",
       "    <tr style=\"text-align: right;\">\n",
       "      <th></th>\n",
       "      <th>datestamp</th>\n",
       "      <th>2019_81_J.M.D. Moratalaz_datestamp</th>\n",
       "      <th>2019_81_J.M.D. Moratalaz_value</th>\n",
       "      <th>2019_81_Casa de Campo_value</th>\n",
       "    </tr>\n",
       "  </thead>\n",
       "  <tbody>\n",
       "    <tr>\n",
       "      <th>0</th>\n",
       "      <td>2019-01-01</td>\n",
       "      <td>2019-01-01</td>\n",
       "      <td>0.66</td>\n",
       "      <td>0.69</td>\n",
       "    </tr>\n",
       "    <tr>\n",
       "      <th>1</th>\n",
       "      <td>2019-02-01</td>\n",
       "      <td>2019-02-01</td>\n",
       "      <td>4.32</td>\n",
       "      <td>4.38</td>\n",
       "    </tr>\n",
       "    <tr>\n",
       "      <th>2</th>\n",
       "      <td>2019-03-01</td>\n",
       "      <td>2019-03-01</td>\n",
       "      <td>1.57</td>\n",
       "      <td>1.14</td>\n",
       "    </tr>\n",
       "    <tr>\n",
       "      <th>3</th>\n",
       "      <td>2019-04-01</td>\n",
       "      <td>2019-04-01</td>\n",
       "      <td>1.32</td>\n",
       "      <td>1.11</td>\n",
       "    </tr>\n",
       "    <tr>\n",
       "      <th>4</th>\n",
       "      <td>2019-05-01</td>\n",
       "      <td>2019-05-01</td>\n",
       "      <td>2.06</td>\n",
       "      <td>1.33</td>\n",
       "    </tr>\n",
       "    <tr>\n",
       "      <th>...</th>\n",
       "      <td>...</td>\n",
       "      <td>...</td>\n",
       "      <td>...</td>\n",
       "      <td>...</td>\n",
       "    </tr>\n",
       "    <tr>\n",
       "      <th>353</th>\n",
       "      <td>2019-05-31</td>\n",
       "      <td>2019-05-31</td>\n",
       "      <td>1.89</td>\n",
       "      <td>1.40</td>\n",
       "    </tr>\n",
       "    <tr>\n",
       "      <th>354</th>\n",
       "      <td>2019-07-31</td>\n",
       "      <td>2019-07-31</td>\n",
       "      <td>3.64</td>\n",
       "      <td>2.37</td>\n",
       "    </tr>\n",
       "    <tr>\n",
       "      <th>355</th>\n",
       "      <td>2019-08-31</td>\n",
       "      <td>2019-08-31</td>\n",
       "      <td>1.02</td>\n",
       "      <td>1.03</td>\n",
       "    </tr>\n",
       "    <tr>\n",
       "      <th>356</th>\n",
       "      <td>2019-10-31</td>\n",
       "      <td>2019-10-31</td>\n",
       "      <td>2.25</td>\n",
       "      <td>1.78</td>\n",
       "    </tr>\n",
       "    <tr>\n",
       "      <th>357</th>\n",
       "      <td>2019-12-31</td>\n",
       "      <td>2019-12-31</td>\n",
       "      <td>0.60</td>\n",
       "      <td>0.66</td>\n",
       "    </tr>\n",
       "  </tbody>\n",
       "</table>\n",
       "<p>358 rows × 4 columns</p>\n",
       "</div>"
      ],
      "text/plain": [
       "     datestamp 2019_81_J.M.D. Moratalaz_datestamp  \\\n",
       "0   2019-01-01                         2019-01-01   \n",
       "1   2019-02-01                         2019-02-01   \n",
       "2   2019-03-01                         2019-03-01   \n",
       "3   2019-04-01                         2019-04-01   \n",
       "4   2019-05-01                         2019-05-01   \n",
       "..         ...                                ...   \n",
       "353 2019-05-31                         2019-05-31   \n",
       "354 2019-07-31                         2019-07-31   \n",
       "355 2019-08-31                         2019-08-31   \n",
       "356 2019-10-31                         2019-10-31   \n",
       "357 2019-12-31                         2019-12-31   \n",
       "\n",
       "     2019_81_J.M.D. Moratalaz_value  2019_81_Casa de Campo_value  \n",
       "0                              0.66                         0.69  \n",
       "1                              4.32                         4.38  \n",
       "2                              1.57                         1.14  \n",
       "3                              1.32                         1.11  \n",
       "4                              2.06                         1.33  \n",
       "..                              ...                          ...  \n",
       "353                            1.89                         1.40  \n",
       "354                            3.64                         2.37  \n",
       "355                            1.02                         1.03  \n",
       "356                            2.25                         1.78  \n",
       "357                            0.60                         0.66  \n",
       "\n",
       "[358 rows x 4 columns]"
      ]
     },
     "execution_count": 61,
     "metadata": {},
     "output_type": "execute_result"
    }
   ],
   "source": [
    "new_df.merge(new_new_df)"
   ]
  },
  {
   "cell_type": "code",
   "execution_count": 56,
   "metadata": {},
   "outputs": [
    {
     "data": {
      "text/plain": [
       "0      0.69\n",
       "1      4.38\n",
       "2      1.14\n",
       "3      1.11\n",
       "4      1.33\n",
       "       ... \n",
       "353    1.40\n",
       "354    2.37\n",
       "355    1.03\n",
       "356    1.78\n",
       "357    0.66\n",
       "Name: 2019_81_Casa de Campo_value, Length: 358, dtype: float64"
      ]
     },
     "execution_count": 56,
     "metadata": {},
     "output_type": "execute_result"
    }
   ],
   "source": [
    "new_df.merge(new_new_df)['2019_81_Casa de Campo_value']"
   ]
  },
  {
   "cell_type": "code",
   "execution_count": 42,
   "metadata": {},
   "outputs": [
    {
     "data": {
      "text/html": [
       "<div>\n",
       "<style scoped>\n",
       "    .dataframe tbody tr th:only-of-type {\n",
       "        vertical-align: middle;\n",
       "    }\n",
       "\n",
       "    .dataframe tbody tr th {\n",
       "        vertical-align: top;\n",
       "    }\n",
       "\n",
       "    .dataframe thead th {\n",
       "        text-align: right;\n",
       "    }\n",
       "</style>\n",
       "<table border=\"1\" class=\"dataframe\">\n",
       "  <thead>\n",
       "    <tr style=\"text-align: right;\">\n",
       "      <th></th>\n",
       "      <th>datestamp</th>\n",
       "      <th>2019_81_Casa de Campo_value</th>\n",
       "    </tr>\n",
       "  </thead>\n",
       "  <tbody>\n",
       "    <tr>\n",
       "      <th>96</th>\n",
       "      <td>2019-01-01</td>\n",
       "      <td>0.69</td>\n",
       "    </tr>\n",
       "    <tr>\n",
       "      <th>97</th>\n",
       "      <td>2019-02-01</td>\n",
       "      <td>4.38</td>\n",
       "    </tr>\n",
       "    <tr>\n",
       "      <th>98</th>\n",
       "      <td>2019-03-01</td>\n",
       "      <td>1.14</td>\n",
       "    </tr>\n",
       "    <tr>\n",
       "      <th>99</th>\n",
       "      <td>2019-04-01</td>\n",
       "      <td>1.11</td>\n",
       "    </tr>\n",
       "    <tr>\n",
       "      <th>100</th>\n",
       "      <td>2019-05-01</td>\n",
       "      <td>1.33</td>\n",
       "    </tr>\n",
       "    <tr>\n",
       "      <th>...</th>\n",
       "      <td>...</td>\n",
       "      <td>...</td>\n",
       "    </tr>\n",
       "    <tr>\n",
       "      <th>4420</th>\n",
       "      <td>2019-05-31</td>\n",
       "      <td>1.40</td>\n",
       "    </tr>\n",
       "    <tr>\n",
       "      <th>4422</th>\n",
       "      <td>2019-07-31</td>\n",
       "      <td>2.37</td>\n",
       "    </tr>\n",
       "    <tr>\n",
       "      <th>4423</th>\n",
       "      <td>2019-08-31</td>\n",
       "      <td>1.03</td>\n",
       "    </tr>\n",
       "    <tr>\n",
       "      <th>4425</th>\n",
       "      <td>2019-10-31</td>\n",
       "      <td>1.78</td>\n",
       "    </tr>\n",
       "    <tr>\n",
       "      <th>4427</th>\n",
       "      <td>2019-12-31</td>\n",
       "      <td>0.66</td>\n",
       "    </tr>\n",
       "  </tbody>\n",
       "</table>\n",
       "<p>358 rows × 2 columns</p>\n",
       "</div>"
      ],
      "text/plain": [
       "      datestamp  2019_81_Casa de Campo_value\n",
       "96   2019-01-01                         0.69\n",
       "97   2019-02-01                         4.38\n",
       "98   2019-03-01                         1.14\n",
       "99   2019-04-01                         1.11\n",
       "100  2019-05-01                         1.33\n",
       "...         ...                          ...\n",
       "4420 2019-05-31                         1.40\n",
       "4422 2019-07-31                         2.37\n",
       "4423 2019-08-31                         1.03\n",
       "4425 2019-10-31                         1.78\n",
       "4427 2019-12-31                         0.66\n",
       "\n",
       "[358 rows x 2 columns]"
      ]
     },
     "execution_count": 42,
     "metadata": {},
     "output_type": "execute_result"
    }
   ],
   "source": [
    "new_new_df"
   ]
  },
  {
   "cell_type": "code",
   "execution_count": 43,
   "metadata": {},
   "outputs": [
    {
     "data": {
      "text/html": [
       "<div>\n",
       "<style scoped>\n",
       "    .dataframe tbody tr th:only-of-type {\n",
       "        vertical-align: middle;\n",
       "    }\n",
       "\n",
       "    .dataframe tbody tr th {\n",
       "        vertical-align: top;\n",
       "    }\n",
       "\n",
       "    .dataframe thead th {\n",
       "        text-align: right;\n",
       "    }\n",
       "</style>\n",
       "<table border=\"1\" class=\"dataframe\">\n",
       "  <thead>\n",
       "    <tr style=\"text-align: right;\">\n",
       "      <th></th>\n",
       "      <th>datestamp</th>\n",
       "      <th>2019_81_J.M.D. Moratalaz_datestamp</th>\n",
       "      <th>2019_81_J.M.D. Moratalaz_value</th>\n",
       "    </tr>\n",
       "  </thead>\n",
       "  <tbody>\n",
       "    <tr>\n",
       "      <th>0</th>\n",
       "      <td>2019-01-01</td>\n",
       "      <td>2019-01-01</td>\n",
       "      <td>0.66</td>\n",
       "    </tr>\n",
       "    <tr>\n",
       "      <th>1</th>\n",
       "      <td>2019-02-01</td>\n",
       "      <td>2019-02-01</td>\n",
       "      <td>4.32</td>\n",
       "    </tr>\n",
       "    <tr>\n",
       "      <th>2</th>\n",
       "      <td>2019-03-01</td>\n",
       "      <td>2019-03-01</td>\n",
       "      <td>1.57</td>\n",
       "    </tr>\n",
       "    <tr>\n",
       "      <th>3</th>\n",
       "      <td>2019-04-01</td>\n",
       "      <td>2019-04-01</td>\n",
       "      <td>1.32</td>\n",
       "    </tr>\n",
       "    <tr>\n",
       "      <th>4</th>\n",
       "      <td>2019-05-01</td>\n",
       "      <td>2019-05-01</td>\n",
       "      <td>2.06</td>\n",
       "    </tr>\n",
       "    <tr>\n",
       "      <th>...</th>\n",
       "      <td>...</td>\n",
       "      <td>...</td>\n",
       "      <td>...</td>\n",
       "    </tr>\n",
       "    <tr>\n",
       "      <th>4324</th>\n",
       "      <td>2019-05-31</td>\n",
       "      <td>2019-05-31</td>\n",
       "      <td>1.89</td>\n",
       "    </tr>\n",
       "    <tr>\n",
       "      <th>4326</th>\n",
       "      <td>2019-07-31</td>\n",
       "      <td>2019-07-31</td>\n",
       "      <td>3.64</td>\n",
       "    </tr>\n",
       "    <tr>\n",
       "      <th>4327</th>\n",
       "      <td>2019-08-31</td>\n",
       "      <td>2019-08-31</td>\n",
       "      <td>1.02</td>\n",
       "    </tr>\n",
       "    <tr>\n",
       "      <th>4329</th>\n",
       "      <td>2019-10-31</td>\n",
       "      <td>2019-10-31</td>\n",
       "      <td>2.25</td>\n",
       "    </tr>\n",
       "    <tr>\n",
       "      <th>4331</th>\n",
       "      <td>2019-12-31</td>\n",
       "      <td>2019-12-31</td>\n",
       "      <td>0.60</td>\n",
       "    </tr>\n",
       "  </tbody>\n",
       "</table>\n",
       "<p>365 rows × 3 columns</p>\n",
       "</div>"
      ],
      "text/plain": [
       "      datestamp 2019_81_J.M.D. Moratalaz_datestamp  \\\n",
       "0    2019-01-01                         2019-01-01   \n",
       "1    2019-02-01                         2019-02-01   \n",
       "2    2019-03-01                         2019-03-01   \n",
       "3    2019-04-01                         2019-04-01   \n",
       "4    2019-05-01                         2019-05-01   \n",
       "...         ...                                ...   \n",
       "4324 2019-05-31                         2019-05-31   \n",
       "4326 2019-07-31                         2019-07-31   \n",
       "4327 2019-08-31                         2019-08-31   \n",
       "4329 2019-10-31                         2019-10-31   \n",
       "4331 2019-12-31                         2019-12-31   \n",
       "\n",
       "      2019_81_J.M.D. Moratalaz_value  \n",
       "0                               0.66  \n",
       "1                               4.32  \n",
       "2                               1.57  \n",
       "3                               1.32  \n",
       "4                               2.06  \n",
       "...                              ...  \n",
       "4324                            1.89  \n",
       "4326                            3.64  \n",
       "4327                            1.02  \n",
       "4329                            2.25  \n",
       "4331                            0.60  \n",
       "\n",
       "[365 rows x 3 columns]"
      ]
     },
     "execution_count": 43,
     "metadata": {},
     "output_type": "execute_result"
    }
   ],
   "source": [
    "new_df"
   ]
  },
  {
   "cell_type": "code",
   "execution_count": 15,
   "metadata": {},
   "outputs": [
    {
     "name": "stdout",
     "output_type": "stream",
     "text": [
      "J.M.D. Moratalaz\n",
      "J.M.D. Hortaleza\n",
      "Casa de Campo\n"
     ]
    }
   ],
   "source": [
    "for station in station_name:\n",
    "    print(station)"
   ]
  },
  {
   "cell_type": "code",
   "execution_count": null,
   "metadata": {},
   "outputs": [],
   "source": []
  }
 ],
 "metadata": {
  "kernelspec": {
   "display_name": "Python 3.10.5 ('madrid_iot': venv)",
   "language": "python",
   "name": "python3"
  },
  "language_info": {
   "codemirror_mode": {
    "name": "ipython",
    "version": 3
   },
   "file_extension": ".py",
   "mimetype": "text/x-python",
   "name": "python",
   "nbconvert_exporter": "python",
   "pygments_lexer": "ipython3",
   "version": "3.10.5"
  },
  "orig_nbformat": 4,
  "vscode": {
   "interpreter": {
    "hash": "27a2bdaca731c654e1faee92f2075ab18b1960e049169eab20a6b00c14d14785"
   }
  }
 },
 "nbformat": 4,
 "nbformat_minor": 2
}
